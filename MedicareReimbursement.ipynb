{
  "nbformat": 4,
  "nbformat_minor": 0,
  "metadata": {
    "colab": {
      "provenance": [],
      "gpuType": "V100",
      "machine_shape": "hm",
      "include_colab_link": true
    },
    "kernelspec": {
      "name": "python3",
      "display_name": "Python 3"
    },
    "accelerator": "GPU"
  },
  "cells": [
    {
      "cell_type": "markdown",
      "metadata": {
        "id": "view-in-github",
        "colab_type": "text"
      },
      "source": [
        "<a href=\"https://colab.research.google.com/github/forneyd/MedicareReimbursement/blob/main/MedicareReimbursement.ipynb\" target=\"_parent\"><img src=\"https://colab.research.google.com/assets/colab-badge.svg\" alt=\"Open In Colab\"/></a>"
      ]
    },
    {
      "cell_type": "markdown",
      "source": [
        "#Forecasting Annual Medicare Fee-for-Service Reimbursements for Carrier Claims (2008-2010)"
      ],
      "metadata": {
        "id": "u8z83uAn6WKl"
      }
    },
    {
      "cell_type": "markdown",
      "metadata": {
        "id": "LWd1UlMnhT2s"
      },
      "source": [
        "## Importing the libraries"
      ]
    },
    {
      "cell_type": "code",
      "source": [
        "import numpy as np\n",
        "import matplotlib.pyplot as plt\n",
        "import pandas as pd\n",
        "!pip install num2words\n",
        "from num2words import num2words"
      ],
      "metadata": {
        "id": "d6Kow6rxQA7y",
        "colab": {
          "base_uri": "https://localhost:8080/"
        },
        "outputId": "c0571985-e611-444b-911a-382786259148"
      },
      "execution_count": 78,
      "outputs": [
        {
          "output_type": "stream",
          "name": "stdout",
          "text": [
            "Collecting num2words\n",
            "  Downloading num2words-0.5.13-py3-none-any.whl (143 kB)\n",
            "\u001b[2K     \u001b[90m━━━━━━━━━━━━━━━━━━━━━━━━━━━━━━━━━━━━━━━━\u001b[0m \u001b[32m143.3/143.3 kB\u001b[0m \u001b[31m980.2 kB/s\u001b[0m eta \u001b[36m0:00:00\u001b[0m\n",
            "\u001b[?25hCollecting docopt>=0.6.2 (from num2words)\n",
            "  Downloading docopt-0.6.2.tar.gz (25 kB)\n",
            "  Preparing metadata (setup.py) ... \u001b[?25l\u001b[?25hdone\n",
            "Building wheels for collected packages: docopt\n",
            "  Building wheel for docopt (setup.py) ... \u001b[?25l\u001b[?25hdone\n",
            "  Created wheel for docopt: filename=docopt-0.6.2-py2.py3-none-any.whl size=13706 sha256=7520331afbf25b8ac5227b8fd015fff2e88b6cdb3e4858617a6b348860e86d76\n",
            "  Stored in directory: /root/.cache/pip/wheels/fc/ab/d4/5da2067ac95b36618c629a5f93f809425700506f72c9732fac\n",
            "Successfully built docopt\n",
            "Installing collected packages: docopt, num2words\n",
            "Successfully installed docopt-0.6.2 num2words-0.5.13\n"
          ]
        }
      ]
    },
    {
      "cell_type": "markdown",
      "metadata": {
        "id": "K1VMqkGvhc3-"
      },
      "source": [
        "### Importing the dataset"
      ]
    },
    {
      "cell_type": "code",
      "source": [
        "df = pd.read_csv('DE1_0_2008_Beneficiary_Summary_File_Sample_1.csv')\n",
        "df = df.rename(columns={'DESYNPUF_ID': 'ID', 'BENE_BIRTH_DT':'Birth_Date', 'BENE_DEATH_DT':'Death_Date', 'BENE_SEX_IDENT_CD':'Sex',\n",
        "                        'BENE_RACE_CD':'RACE', 'SP_STATE_CODE':'State_Code', 'BENE_ESRD_IND':'End_Renal',\n",
        "                        'BENE_HI_CVRAGE_TOT_MONS':'Total_Months_PartA', 'BENE_SMI_CVRAGE_TOT_MONS':'Total_Months_PartB',\n",
        "                       'BENE_HMO_CVRAGE_TOT_MONS':'Total_Months_HMO', 'PLAN_CVRG_MOS_NUM':'Total_Months_PartD'})\n"
      ],
      "metadata": {
        "id": "QRD8M0cZQKBd"
      },
      "execution_count": 41,
      "outputs": []
    },
    {
      "cell_type": "code",
      "source": [
        "df.isnull().sum()"
      ],
      "metadata": {
        "colab": {
          "base_uri": "https://localhost:8080/"
        },
        "id": "8Nk_xOqeEzMJ",
        "outputId": "e6b66876-5896-4f86-b39a-e47624fca32e"
      },
      "execution_count": 42,
      "outputs": [
        {
          "output_type": "execute_result",
          "data": {
            "text/plain": [
              "ID                         0\n",
              "Birth_Date                 0\n",
              "Death_Date            114538\n",
              "Sex                        0\n",
              "RACE                       0\n",
              "End_Renal                  0\n",
              "State_Code                 0\n",
              "BENE_COUNTY_CD             0\n",
              "Total_Months_PartA         0\n",
              "Total_Months_PartB         0\n",
              "Total_Months_HMO           0\n",
              "Total_Months_PartD         0\n",
              "SP_ALZHDMTA                0\n",
              "SP_CHF                     0\n",
              "SP_CHRNKIDN                0\n",
              "SP_CNCR                    0\n",
              "SP_COPD                    0\n",
              "SP_DEPRESSN                0\n",
              "SP_DIABETES                0\n",
              "SP_ISCHMCHT                0\n",
              "SP_OSTEOPRS                0\n",
              "SP_RA_OA                   0\n",
              "SP_STRKETIA                0\n",
              "MEDREIMB_IP                0\n",
              "BENRES_IP                  0\n",
              "PPPYMT_IP                  0\n",
              "MEDREIMB_OP                0\n",
              "BENRES_OP                  0\n",
              "PPPYMT_OP                  0\n",
              "MEDREIMB_CAR               0\n",
              "BENRES_CAR                 0\n",
              "PPPYMT_CAR                 0\n",
              "dtype: int64"
            ]
          },
          "metadata": {},
          "execution_count": 42
        }
      ]
    },
    {
      "cell_type": "code",
      "source": [
        "df = df.dropna()\n",
        "df = df.drop('BENE_COUNTY_CD', axis=1)"
      ],
      "metadata": {
        "id": "2jw4jZs1W2OI"
      },
      "execution_count": 43,
      "outputs": []
    },
    {
      "cell_type": "code",
      "source": [
        "df['End_Renal'] = df['End_Renal'].replace(['Y', 1], ['0', 0])"
      ],
      "metadata": {
        "id": "1b5o1O3lCS4q"
      },
      "execution_count": 44,
      "outputs": []
    },
    {
      "cell_type": "code",
      "source": [
        "df['End_Renal']"
      ],
      "metadata": {
        "colab": {
          "base_uri": "https://localhost:8080/"
        },
        "id": "gWsWInRNkOJe",
        "outputId": "076e01f1-dea6-4254-d212-799391b16c2c"
      },
      "execution_count": 45,
      "outputs": [
        {
          "output_type": "execute_result",
          "data": {
            "text/plain": [
              "118       0\n",
              "165       0\n",
              "200       0\n",
              "214       0\n",
              "253       0\n",
              "         ..\n",
              "115964    0\n",
              "116007    0\n",
              "116021    0\n",
              "116210    0\n",
              "116304    0\n",
              "Name: End_Renal, Length: 1814, dtype: object"
            ]
          },
          "metadata": {},
          "execution_count": 45
        }
      ]
    },
    {
      "cell_type": "code",
      "source": [
        "MEDREIMB_CAR = df.pop('MEDREIMB_CAR')\n",
        "df['MEDREIMB_CAR'] = MEDREIMB_CAR"
      ],
      "metadata": {
        "id": "sqcsgP1ECXC1"
      },
      "execution_count": 46,
      "outputs": []
    },
    {
      "cell_type": "code",
      "source": [
        "# Check unique values in the binary variables to understand their current representation\n",
        "print(df['SP_ALZHDMTA'].unique())\n",
        "print(df['SP_CHF'].unique())\n",
        "print(df['SP_CHRNKIDN'].unique())\n",
        "print(df['SP_CNCR'].unique())\n",
        "print(df['SP_COPD'].unique())\n",
        "print(df['SP_DEPRESSN'].unique())\n",
        "print(df['SP_DIABETES'].unique())\n",
        "print(df['SP_ISCHMCHT'].unique())\n",
        "print(df['SP_OSTEOPRS'].unique())\n",
        "print(df['SP_RA_OA'].unique())\n",
        "print(df['SP_STRKETIA'].unique())\n"
      ],
      "metadata": {
        "colab": {
          "base_uri": "https://localhost:8080/"
        },
        "id": "TrPsFne5HXXd",
        "outputId": "2cd6c50b-570d-4cc7-ffc7-d1c13bc082d6"
      },
      "execution_count": 47,
      "outputs": [
        {
          "output_type": "stream",
          "name": "stdout",
          "text": [
            "[2 1]\n",
            "[2 1]\n",
            "[2 1]\n",
            "[2 1]\n",
            "[2 1]\n",
            "[2 1]\n",
            "[1 2]\n",
            "[2 1]\n",
            "[2 1]\n",
            "[2 1]\n",
            "[2 1]\n"
          ]
        }
      ]
    },
    {
      "cell_type": "code",
      "source": [
        "# Recode binary variables to 0 and 1 if they are not already encoded that way\n",
        "df['Sex'] = df['Sex'].map({2 : 0, 1: 1})\n",
        "df['SP_ALZHDMTA'] = df['SP_ALZHDMTA'].map({2 : 0, 1: 1})  # Replace 'No' with 0 and 'Yes' with 1\n",
        "df['SP_CHF'] = df['SP_CHF'].map({2 : 0, 1: 1})  # Replace 'No' with 0 and 'Yes' with 1\n",
        "df['SP_CHRNKIDN'] = df['SP_CHRNKIDN'].map({2 : 0, 1: 1})  # Replace 'No' with 0 and 'Yes' with 1\n",
        "df['SP_CNCR'] = df['SP_CNCR'].map({2 : 0, 1 : 1})  # Replace 'No' with 0 and 'Yes' with 1\n",
        "df['SP_COPD'] = df['SP_COPD'].map({2 : 0, 1: 1})  # Replace 'No' with 0 and 'Yes' with 1\n",
        "df['SP_DEPRESSN'] = df['SP_DEPRESSN'].map({2 : 0, 1 : 1})  # Replace 'No' with 0 and 'Yes' with 1\n",
        "df['SP_DIABETES'] = df['SP_DIABETES'].map({2: 0, 1: 1})  # Replace 'No' with 0 and 'Yes' with 1\n",
        "df['SP_ISCHMCHT'] = df['SP_ISCHMCHT'].map({2 : 0, 1: 1})  # Replace 'No' with 0 and 'Yes' with 1\n",
        "df['SP_OSTEOPRS'] = df['SP_OSTEOPRS'].map({2 : 0, 1 : 1})  # Replace 'No' with 0 and 'Yes' with 1\n",
        "df['SP_RA_OA'] = df['SP_RA_OA'].map({2 : 0, 1 : 1})  # Replace 'No' with 0 and 'Yes' with 1\n",
        "df['SP_STRKETIA'] = df['SP_STRKETIA'].map({2 : 0, 1 : 1})  # Replace 'No' with 0 and 'Yes' with 1"
      ],
      "metadata": {
        "id": "TUQRQUhAKkjV"
      },
      "execution_count": 48,
      "outputs": []
    },
    {
      "cell_type": "code",
      "source": [
        "print(df['SP_ALZHDMTA'].unique())\n",
        "print(df['SP_CHF'].unique())\n",
        "print(df['SP_CHRNKIDN'].unique())\n",
        "print(df['SP_CNCR'].unique())\n",
        "print(df['SP_COPD'].unique())\n",
        "print(df['SP_DEPRESSN'].unique())\n",
        "print(df['SP_DIABETES'].unique())\n",
        "print(df['SP_ISCHMCHT'].unique())\n",
        "print(df['SP_OSTEOPRS'].unique())\n",
        "print(df['SP_RA_OA'].unique())\n",
        "print(df['SP_STRKETIA'].unique())"
      ],
      "metadata": {
        "colab": {
          "base_uri": "https://localhost:8080/"
        },
        "id": "KJapPaBqKfWN",
        "outputId": "af3c66dc-8cff-4c7b-ab60-4b42cb075d8e"
      },
      "execution_count": 49,
      "outputs": [
        {
          "output_type": "stream",
          "name": "stdout",
          "text": [
            "[0 1]\n",
            "[0 1]\n",
            "[0 1]\n",
            "[0 1]\n",
            "[0 1]\n",
            "[0 1]\n",
            "[1 0]\n",
            "[0 1]\n",
            "[0 1]\n",
            "[0 1]\n",
            "[0 1]\n"
          ]
        }
      ]
    },
    {
      "cell_type": "code",
      "source": [
        "print(df)"
      ],
      "metadata": {
        "colab": {
          "base_uri": "https://localhost:8080/"
        },
        "id": "EXZa4NmIOPDZ",
        "outputId": "88ca2fd3-d00e-4610-a255-e44498c198e6"
      },
      "execution_count": 50,
      "outputs": [
        {
          "output_type": "stream",
          "name": "stdout",
          "text": [
            "                      ID  Birth_Date  Death_Date  Sex  RACE End_Renal  \\\n",
            "118     0033C90574583C0D    19360801  20080901.0    0     1         0   \n",
            "165     00521D781532612C    19370801  20080701.0    0     1         0   \n",
            "200     00653DC86A0E30D8    19490601  20080501.0    1     3         0   \n",
            "214     006D438FFACFB5FD    19200601  20080101.0    0     2         0   \n",
            "253     0083EA0267C0F7CA    19351201  20080201.0    1     1         0   \n",
            "...                  ...         ...         ...  ...   ...       ...   \n",
            "115964  FF1496BAEFB83A73    19430801  20081001.0    0     1         0   \n",
            "116007  FF2A3E47D8E28FC9    19300501  20080401.0    1     1         0   \n",
            "116021  FF2F23DA05610932    19390501  20081101.0    1     1         0   \n",
            "116210  FFB42FA4879051C2    19251201  20080201.0    1     1         0   \n",
            "116304  FFE85BFB1FEDDC60    19200501  20080201.0    0     1         0   \n",
            "\n",
            "        State_Code  Total_Months_PartA  Total_Months_PartB  Total_Months_HMO  \\\n",
            "118             49                  12                  12                 0   \n",
            "165             51                  12                  12                12   \n",
            "200             33                  12                  12                 0   \n",
            "214              5                  12                  12                 0   \n",
            "253             33                  12                  12                 0   \n",
            "...            ...                 ...                 ...               ...   \n",
            "115964          33                  12                  12                 0   \n",
            "116007          45                  12                  12                 0   \n",
            "116021          11                  12                  12                 0   \n",
            "116210          52                  12                  12                12   \n",
            "116304          47                  12                  12                 0   \n",
            "\n",
            "        ...  SP_STRKETIA  MEDREIMB_IP  BENRES_IP  PPPYMT_IP  MEDREIMB_OP  \\\n",
            "118     ...            0          0.0        0.0        0.0          0.0   \n",
            "165     ...            0          0.0        0.0        0.0        530.0   \n",
            "200     ...            0          0.0        0.0        0.0          0.0   \n",
            "214     ...            0          0.0        0.0        0.0          0.0   \n",
            "253     ...            0          0.0        0.0        0.0          0.0   \n",
            "...     ...          ...          ...        ...        ...          ...   \n",
            "115964  ...            0          0.0        0.0        0.0       7780.0   \n",
            "116007  ...            1          0.0        0.0        0.0          0.0   \n",
            "116021  ...            0          0.0        0.0        0.0         80.0   \n",
            "116210  ...            0          0.0        0.0        0.0          0.0   \n",
            "116304  ...            0          0.0        0.0        0.0          0.0   \n",
            "\n",
            "        BENRES_OP  PPPYMT_OP  BENRES_CAR  PPPYMT_CAR  MEDREIMB_CAR  \n",
            "118           0.0        0.0       290.0         0.0         860.0  \n",
            "165         110.0        0.0        60.0         0.0         470.0  \n",
            "200           0.0        0.0         0.0         0.0           0.0  \n",
            "214           0.0        0.0         0.0         0.0           0.0  \n",
            "253           0.0        0.0         0.0         0.0           0.0  \n",
            "...           ...        ...         ...         ...           ...  \n",
            "115964     3630.0        0.0       130.0         0.0         520.0  \n",
            "116007        0.0        0.0         0.0         0.0           0.0  \n",
            "116021       10.0        0.0        90.0         0.0         120.0  \n",
            "116210        0.0        0.0         0.0         0.0           0.0  \n",
            "116304        0.0        0.0         0.0         0.0           0.0  \n",
            "\n",
            "[1814 rows x 31 columns]\n"
          ]
        }
      ]
    },
    {
      "cell_type": "code",
      "source": [
        "patientcounts = len(df)\n",
        "print(patientcounts)"
      ],
      "metadata": {
        "colab": {
          "base_uri": "https://localhost:8080/"
        },
        "id": "F2DoVJHrAxaI",
        "outputId": "b6d27761-7487-4696-ee14-f8c2a4177514"
      },
      "execution_count": 51,
      "outputs": [
        {
          "output_type": "stream",
          "name": "stdout",
          "text": [
            "1814\n"
          ]
        }
      ]
    },
    {
      "cell_type": "code",
      "source": [
        "Sexcounts = df['Sex'].value_counts()\n",
        "print(Sexcounts)"
      ],
      "metadata": {
        "colab": {
          "base_uri": "https://localhost:8080/"
        },
        "id": "BLSUcGv2B3dh",
        "outputId": "16d17cb3-ddee-4324-c9f3-caf567afdb53"
      },
      "execution_count": 73,
      "outputs": [
        {
          "output_type": "stream",
          "name": "stdout",
          "text": [
            "0    1003\n",
            "1     811\n",
            "Name: Sex, dtype: int64\n"
          ]
        }
      ]
    },
    {
      "cell_type": "markdown",
      "source": [
        "Male = 0\n",
        "Female = 1"
      ],
      "metadata": {
        "id": "XAF6LDjSCIND"
      }
    },
    {
      "cell_type": "code",
      "source": [
        "race_counts = df['RACE'].value_counts()\n",
        "print(race_counts)"
      ],
      "metadata": {
        "id": "gfowgyTGCwfE"
      },
      "execution_count": null,
      "outputs": []
    },
    {
      "cell_type": "markdown",
      "source": [
        "1 White\n",
        "2 Black\n",
        "3 Others\n",
        "5 Hispanic"
      ],
      "metadata": {
        "id": "YgNR9UnMDhRC"
      }
    },
    {
      "cell_type": "code",
      "source": [
        "alz_counts = df['SP_ALZHDMTA'].value_counts()\n",
        "print(alz_counts)"
      ],
      "metadata": {
        "colab": {
          "base_uri": "https://localhost:8080/"
        },
        "id": "yJThPY_8D9XG",
        "outputId": "34f93ff2-715b-48f6-fe43-48d25ef5a256"
      },
      "execution_count": 82,
      "outputs": [
        {
          "output_type": "stream",
          "name": "stdout",
          "text": [
            "0    1450\n",
            "1     364\n",
            "Name: SP_ALZHDMTA, dtype: int64\n"
          ]
        }
      ]
    },
    {
      "cell_type": "code",
      "source": [
        "chf_counts = df['SP_CHF'].value_counts()\n",
        "print(chf_counts)"
      ],
      "metadata": {
        "colab": {
          "base_uri": "https://localhost:8080/"
        },
        "id": "dC3GqvV6Fq4R",
        "outputId": "9ba952b7-1707-41b2-de2d-c2aeddd730e5"
      },
      "execution_count": 83,
      "outputs": [
        {
          "output_type": "stream",
          "name": "stdout",
          "text": [
            "0    1311\n",
            "1     503\n",
            "Name: SP_CHF, dtype: int64\n"
          ]
        }
      ]
    },
    {
      "cell_type": "code",
      "source": [
        "cncr_counts = df['SP_CNCR'].value_counts()\n",
        "print(cncr_counts)"
      ],
      "metadata": {
        "colab": {
          "base_uri": "https://localhost:8080/"
        },
        "id": "dVgvesCRF23G",
        "outputId": "d209ad32-5366-42e9-f92e-07162c7cd31e"
      },
      "execution_count": 84,
      "outputs": [
        {
          "output_type": "stream",
          "name": "stdout",
          "text": [
            "0    1694\n",
            "1     120\n",
            "Name: SP_CNCR, dtype: int64\n"
          ]
        }
      ]
    },
    {
      "cell_type": "code",
      "source": [
        "copd_counts = df['SP_COPD'].value_counts()\n",
        "print(copd_counts)"
      ],
      "metadata": {
        "colab": {
          "base_uri": "https://localhost:8080/"
        },
        "id": "CaeCoeCVGC2g",
        "outputId": "0a523d77-3617-4fd5-f52e-6579d7bccacb"
      },
      "execution_count": 85,
      "outputs": [
        {
          "output_type": "stream",
          "name": "stdout",
          "text": [
            "0    1568\n",
            "1     246\n",
            "Name: SP_COPD, dtype: int64\n"
          ]
        }
      ]
    },
    {
      "cell_type": "code",
      "source": [
        "dep_counts = df['SP_DEPRESSN'].value_counts()\n",
        "print(dep_counts)"
      ],
      "metadata": {
        "colab": {
          "base_uri": "https://localhost:8080/"
        },
        "id": "9QxzXghtGMM0",
        "outputId": "ba6f59fe-aa24-4ba0-c79d-f9e65b3c7c7f"
      },
      "execution_count": 86,
      "outputs": [
        {
          "output_type": "stream",
          "name": "stdout",
          "text": [
            "0    1407\n",
            "1     407\n",
            "Name: SP_DEPRESSN, dtype: int64\n"
          ]
        }
      ]
    },
    {
      "cell_type": "code",
      "source": [
        "diab_counts = df['SP_DIABETES'].value_counts()\n",
        "print(diab_counts)"
      ],
      "metadata": {
        "colab": {
          "base_uri": "https://localhost:8080/"
        },
        "id": "lUESykFsGWsR",
        "outputId": "4bad8cf9-2fc2-48d1-8dd1-29e85cfade99"
      },
      "execution_count": 87,
      "outputs": [
        {
          "output_type": "stream",
          "name": "stdout",
          "text": [
            "0    1137\n",
            "1     677\n",
            "Name: SP_DIABETES, dtype: int64\n"
          ]
        }
      ]
    },
    {
      "cell_type": "code",
      "source": [
        "X = df.iloc[:, 3:-1].values\n",
        "y = df.iloc[:, -1:].values"
      ],
      "metadata": {
        "id": "903SiZYeCg5o"
      },
      "execution_count": 52,
      "outputs": []
    },
    {
      "cell_type": "code",
      "source": [
        "print(X)"
      ],
      "metadata": {
        "colab": {
          "base_uri": "https://localhost:8080/"
        },
        "id": "rg7c-CQTWkg7",
        "outputId": "039a1066-c0a3-4e48-ac04-cdd6eaadf9aa"
      },
      "execution_count": 53,
      "outputs": [
        {
          "output_type": "stream",
          "name": "stdout",
          "text": [
            "[[0 1 '0' ... 0.0 290.0 0.0]\n",
            " [0 1 '0' ... 0.0 60.0 0.0]\n",
            " [1 3 '0' ... 0.0 0.0 0.0]\n",
            " ...\n",
            " [1 1 '0' ... 0.0 90.0 0.0]\n",
            " [1 1 '0' ... 0.0 0.0 0.0]\n",
            " [0 1 '0' ... 0.0 0.0 0.0]]\n"
          ]
        }
      ]
    },
    {
      "cell_type": "code",
      "source": [
        "#One Hot Encoding categorical data\n",
        "#Encoding the Independent Variables\n",
        "\n",
        "from sklearn.compose import ColumnTransformer\n",
        "from sklearn.preprocessing import OneHotEncoder\n",
        "ct = ColumnTransformer(transformers=[('encoder', OneHotEncoder(),[1, 3])], remainder='passthrough')\n",
        "X = ct.fit_transform(X)"
      ],
      "metadata": {
        "id": "roXET-cGDwjn"
      },
      "execution_count": 54,
      "outputs": []
    },
    {
      "cell_type": "code",
      "source": [
        "print(X)"
      ],
      "metadata": {
        "colab": {
          "base_uri": "https://localhost:8080/"
        },
        "id": "MaskLTlsMXgs",
        "outputId": "713e2fb6-8e09-402d-8f79-eccbf2533f93"
      },
      "execution_count": 55,
      "outputs": [
        {
          "output_type": "stream",
          "name": "stdout",
          "text": [
            "[[1.0 0.0 0.0 ... 0.0 290.0 0.0]\n",
            " [1.0 0.0 0.0 ... 0.0 60.0 0.0]\n",
            " [0.0 0.0 1.0 ... 0.0 0.0 0.0]\n",
            " ...\n",
            " [1.0 0.0 0.0 ... 0.0 90.0 0.0]\n",
            " [1.0 0.0 0.0 ... 0.0 0.0 0.0]\n",
            " [1.0 0.0 0.0 ... 0.0 0.0 0.0]]\n"
          ]
        }
      ]
    },
    {
      "cell_type": "code",
      "source": [
        "print(y)"
      ],
      "metadata": {
        "colab": {
          "base_uri": "https://localhost:8080/"
        },
        "id": "KQ6fMxEBQOcl",
        "outputId": "6cae28ab-9a88-4eb7-e2ed-92d71949e2d5"
      },
      "execution_count": 56,
      "outputs": [
        {
          "output_type": "stream",
          "name": "stdout",
          "text": [
            "[[860.]\n",
            " [470.]\n",
            " [  0.]\n",
            " ...\n",
            " [120.]\n",
            " [  0.]\n",
            " [  0.]]\n"
          ]
        }
      ]
    },
    {
      "cell_type": "markdown",
      "metadata": {
        "id": "YvxIPVyMhmKp"
      },
      "source": [
        "## Splitting the dataset into the Training set and Test set"
      ]
    },
    {
      "cell_type": "code",
      "source": [
        "from sklearn.model_selection import train_test_split\n",
        "X_train, X_test, y_train, y_test = train_test_split(X, y, test_size = 0.25, random_state = 0)"
      ],
      "metadata": {
        "id": "GVR12SEoT6VC"
      },
      "execution_count": 57,
      "outputs": []
    },
    {
      "cell_type": "code",
      "source": [
        "print(X_test)"
      ],
      "metadata": {
        "id": "zEWDb9KgaMKY",
        "colab": {
          "base_uri": "https://localhost:8080/"
        },
        "outputId": "e1afadc7-1fe3-42f5-c014-af6b02d0c265"
      },
      "execution_count": 58,
      "outputs": [
        {
          "output_type": "stream",
          "name": "stdout",
          "text": [
            "[[1.0 0.0 0.0 ... 0.0 360.0 60.0]\n",
            " [1.0 0.0 0.0 ... 0.0 970.0 30.0]\n",
            " [1.0 0.0 0.0 ... 0.0 280.0 0.0]\n",
            " ...\n",
            " [1.0 0.0 0.0 ... 0.0 640.0 0.0]\n",
            " [1.0 0.0 0.0 ... 0.0 1220.0 0.0]\n",
            " [1.0 0.0 0.0 ... 0.0 170.0 0.0]]\n"
          ]
        }
      ]
    },
    {
      "cell_type": "code",
      "source": [
        "print(X_train)"
      ],
      "metadata": {
        "colab": {
          "base_uri": "https://localhost:8080/"
        },
        "id": "vgeiEGYAar0V",
        "outputId": "b81fbe56-f05d-4217-8b25-97899c1e90f3"
      },
      "execution_count": 59,
      "outputs": [
        {
          "output_type": "stream",
          "name": "stdout",
          "text": [
            "[[0.0 1.0 0.0 ... 0.0 0.0 0.0]\n",
            " [1.0 0.0 0.0 ... 0.0 200.0 0.0]\n",
            " [1.0 0.0 0.0 ... 0.0 160.0 0.0]\n",
            " ...\n",
            " [0.0 0.0 0.0 ... 0.0 40.0 0.0]\n",
            " [1.0 0.0 0.0 ... 0.0 0.0 0.0]\n",
            " [0.0 1.0 0.0 ... 0.0 0.0 0.0]]\n"
          ]
        }
      ]
    },
    {
      "cell_type": "code",
      "source": [
        "print(y_test)"
      ],
      "metadata": {
        "colab": {
          "base_uri": "https://localhost:8080/"
        },
        "id": "BY54wsaEbL5N",
        "outputId": "e75deb27-0b9d-4ef4-95ec-feab0ec5ab2c"
      },
      "execution_count": 60,
      "outputs": [
        {
          "output_type": "stream",
          "name": "stdout",
          "text": [
            "[[1270.]\n",
            " [3730.]\n",
            " [1180.]\n",
            " [ 620.]\n",
            " [   0.]\n",
            " [1000.]\n",
            " [   0.]\n",
            " [ 790.]\n",
            " [ 630.]\n",
            " [ 410.]\n",
            " [   0.]\n",
            " [   0.]\n",
            " [   0.]\n",
            " [ 500.]\n",
            " [ 100.]\n",
            " [   0.]\n",
            " [ 940.]\n",
            " [ 190.]\n",
            " [   0.]\n",
            " [1890.]\n",
            " [ 140.]\n",
            " [  10.]\n",
            " [   0.]\n",
            " [ 150.]\n",
            " [ 350.]\n",
            " [1220.]\n",
            " [ 190.]\n",
            " [2370.]\n",
            " [   0.]\n",
            " [ 160.]\n",
            " [   0.]\n",
            " [2610.]\n",
            " [  80.]\n",
            " [1050.]\n",
            " [   0.]\n",
            " [2360.]\n",
            " [ 310.]\n",
            " [2970.]\n",
            " [   0.]\n",
            " [ 180.]\n",
            " [ 590.]\n",
            " [   0.]\n",
            " [ 380.]\n",
            " [ 240.]\n",
            " [1050.]\n",
            " [ 700.]\n",
            " [  30.]\n",
            " [   0.]\n",
            " [  40.]\n",
            " [   0.]\n",
            " [ 150.]\n",
            " [   0.]\n",
            " [   0.]\n",
            " [1300.]\n",
            " [ 890.]\n",
            " [ 800.]\n",
            " [   0.]\n",
            " [ 360.]\n",
            " [   0.]\n",
            " [   0.]\n",
            " [   0.]\n",
            " [   0.]\n",
            " [   0.]\n",
            " [ 970.]\n",
            " [1370.]\n",
            " [ 690.]\n",
            " [   0.]\n",
            " [   0.]\n",
            " [ 130.]\n",
            " [1150.]\n",
            " [   0.]\n",
            " [3500.]\n",
            " [   0.]\n",
            " [1280.]\n",
            " [ 530.]\n",
            " [ 110.]\n",
            " [   0.]\n",
            " [ 740.]\n",
            " [   0.]\n",
            " [   0.]\n",
            " [   0.]\n",
            " [   0.]\n",
            " [ 210.]\n",
            " [1370.]\n",
            " [   0.]\n",
            " [  60.]\n",
            " [1710.]\n",
            " [   0.]\n",
            " [   0.]\n",
            " [4260.]\n",
            " [   0.]\n",
            " [ 250.]\n",
            " [   0.]\n",
            " [ 140.]\n",
            " [ 500.]\n",
            " [ 110.]\n",
            " [1870.]\n",
            " [ 160.]\n",
            " [ 120.]\n",
            " [   0.]\n",
            " [   0.]\n",
            " [   0.]\n",
            " [1020.]\n",
            " [ 190.]\n",
            " [1400.]\n",
            " [   0.]\n",
            " [   0.]\n",
            " [   0.]\n",
            " [ 130.]\n",
            " [ 150.]\n",
            " [ 100.]\n",
            " [   0.]\n",
            " [ 130.]\n",
            " [   0.]\n",
            " [2420.]\n",
            " [ 490.]\n",
            " [   0.]\n",
            " [ 180.]\n",
            " [ 570.]\n",
            " [   0.]\n",
            " [1220.]\n",
            " [1040.]\n",
            " [   0.]\n",
            " [   0.]\n",
            " [   0.]\n",
            " [1020.]\n",
            " [   0.]\n",
            " [   0.]\n",
            " [ 440.]\n",
            " [   0.]\n",
            " [ 490.]\n",
            " [   0.]\n",
            " [  40.]\n",
            " [   0.]\n",
            " [   0.]\n",
            " [1160.]\n",
            " [ 440.]\n",
            " [2300.]\n",
            " [ 220.]\n",
            " [ 160.]\n",
            " [  30.]\n",
            " [ 760.]\n",
            " [ 410.]\n",
            " [   0.]\n",
            " [   0.]\n",
            " [   0.]\n",
            " [   0.]\n",
            " [   0.]\n",
            " [   0.]\n",
            " [   0.]\n",
            " [1920.]\n",
            " [ 410.]\n",
            " [   0.]\n",
            " [   0.]\n",
            " [   0.]\n",
            " [   0.]\n",
            " [   0.]\n",
            " [1080.]\n",
            " [1710.]\n",
            " [   0.]\n",
            " [   0.]\n",
            " [   0.]\n",
            " [2740.]\n",
            " [   0.]\n",
            " [ 180.]\n",
            " [ 780.]\n",
            " [ 410.]\n",
            " [   0.]\n",
            " [ 210.]\n",
            " [ 270.]\n",
            " [   0.]\n",
            " [ 380.]\n",
            " [  80.]\n",
            " [1190.]\n",
            " [  40.]\n",
            " [  30.]\n",
            " [ 130.]\n",
            " [1370.]\n",
            " [1840.]\n",
            " [   0.]\n",
            " [   0.]\n",
            " [ 680.]\n",
            " [1180.]\n",
            " [   0.]\n",
            " [1980.]\n",
            " [ 400.]\n",
            " [  50.]\n",
            " [   0.]\n",
            " [ 160.]\n",
            " [  50.]\n",
            " [1260.]\n",
            " [   0.]\n",
            " [2760.]\n",
            " [ 350.]\n",
            " [   0.]\n",
            " [ 140.]\n",
            " [2710.]\n",
            " [1130.]\n",
            " [   0.]\n",
            " [ 290.]\n",
            " [   0.]\n",
            " [ 370.]\n",
            " [1890.]\n",
            " [1740.]\n",
            " [   0.]\n",
            " [ 530.]\n",
            " [   0.]\n",
            " [   0.]\n",
            " [ 620.]\n",
            " [   0.]\n",
            " [2390.]\n",
            " [2710.]\n",
            " [ 180.]\n",
            " [1860.]\n",
            " [ 280.]\n",
            " [   0.]\n",
            " [1860.]\n",
            " [   0.]\n",
            " [   0.]\n",
            " [   0.]\n",
            " [   0.]\n",
            " [   0.]\n",
            " [ 560.]\n",
            " [   0.]\n",
            " [   0.]\n",
            " [ 560.]\n",
            " [2950.]\n",
            " [ 300.]\n",
            " [1180.]\n",
            " [1110.]\n",
            " [   0.]\n",
            " [ 840.]\n",
            " [ 560.]\n",
            " [ 180.]\n",
            " [1590.]\n",
            " [ 420.]\n",
            " [   0.]\n",
            " [   0.]\n",
            " [   0.]\n",
            " [   0.]\n",
            " [   0.]\n",
            " [1550.]\n",
            " [ 210.]\n",
            " [ 320.]\n",
            " [   0.]\n",
            " [ 610.]\n",
            " [1040.]\n",
            " [ 560.]\n",
            " [  70.]\n",
            " [ 400.]\n",
            " [ 460.]\n",
            " [ 190.]\n",
            " [ 150.]\n",
            " [6550.]\n",
            " [ 200.]\n",
            " [ 410.]\n",
            " [ 340.]\n",
            " [   0.]\n",
            " [ 590.]\n",
            " [   0.]\n",
            " [2050.]\n",
            " [  80.]\n",
            " [   0.]\n",
            " [  50.]\n",
            " [   0.]\n",
            " [  70.]\n",
            " [ 840.]\n",
            " [   0.]\n",
            " [ 120.]\n",
            " [1600.]\n",
            " [ 290.]\n",
            " [  80.]\n",
            " [ 170.]\n",
            " [   0.]\n",
            " [   0.]\n",
            " [   0.]\n",
            " [   0.]\n",
            " [ 460.]\n",
            " [ 800.]\n",
            " [   0.]\n",
            " [   0.]\n",
            " [ 320.]\n",
            " [   0.]\n",
            " [ 220.]\n",
            " [   0.]\n",
            " [ 250.]\n",
            " [ 630.]\n",
            " [1220.]\n",
            " [   0.]\n",
            " [  30.]\n",
            " [ 290.]\n",
            " [   0.]\n",
            " [   0.]\n",
            " [   0.]\n",
            " [   0.]\n",
            " [2520.]\n",
            " [   0.]\n",
            " [   0.]\n",
            " [ 680.]\n",
            " [  60.]\n",
            " [   0.]\n",
            " [   0.]\n",
            " [   0.]\n",
            " [   0.]\n",
            " [ 360.]\n",
            " [ 420.]\n",
            " [   0.]\n",
            " [   0.]\n",
            " [ 870.]\n",
            " [2270.]\n",
            " [ 550.]\n",
            " [   0.]\n",
            " [ 840.]\n",
            " [   0.]\n",
            " [1450.]\n",
            " [   0.]\n",
            " [   0.]\n",
            " [   0.]\n",
            " [   0.]\n",
            " [   0.]\n",
            " [   0.]\n",
            " [   0.]\n",
            " [3560.]\n",
            " [   0.]\n",
            " [3340.]\n",
            " [ 820.]\n",
            " [1150.]\n",
            " [1570.]\n",
            " [1230.]\n",
            " [   0.]\n",
            " [1890.]\n",
            " [ 720.]\n",
            " [ 510.]\n",
            " [   0.]\n",
            " [   0.]\n",
            " [   0.]\n",
            " [  30.]\n",
            " [ 160.]\n",
            " [ 280.]\n",
            " [ 400.]\n",
            " [ 440.]\n",
            " [1890.]\n",
            " [1150.]\n",
            " [1310.]\n",
            " [   0.]\n",
            " [   0.]\n",
            " [   0.]\n",
            " [   0.]\n",
            " [   0.]\n",
            " [   0.]\n",
            " [   0.]\n",
            " [1280.]\n",
            " [   0.]\n",
            " [   0.]\n",
            " [1460.]\n",
            " [   0.]\n",
            " [ 190.]\n",
            " [ 620.]\n",
            " [   0.]\n",
            " [ 600.]\n",
            " [ 500.]\n",
            " [1260.]\n",
            " [ 250.]\n",
            " [ 710.]\n",
            " [ 190.]\n",
            " [1360.]\n",
            " [1880.]\n",
            " [ 960.]\n",
            " [   0.]\n",
            " [4660.]\n",
            " [ 150.]\n",
            " [   0.]\n",
            " [ 190.]\n",
            " [   0.]\n",
            " [ 490.]\n",
            " [ 850.]\n",
            " [   0.]\n",
            " [   0.]\n",
            " [1820.]\n",
            " [   0.]\n",
            " [   0.]\n",
            " [ 890.]\n",
            " [   0.]\n",
            " [ 770.]\n",
            " [ 280.]\n",
            " [ 310.]\n",
            " [   0.]\n",
            " [ 640.]\n",
            " [  30.]\n",
            " [4000.]\n",
            " [   0.]\n",
            " [   0.]\n",
            " [  20.]\n",
            " [ 180.]\n",
            " [ 120.]\n",
            " [   0.]\n",
            " [2140.]\n",
            " [ 370.]\n",
            " [   0.]\n",
            " [   0.]\n",
            " [   0.]\n",
            " [2390.]\n",
            " [   0.]\n",
            " [   0.]\n",
            " [1400.]\n",
            " [ 140.]\n",
            " [1180.]\n",
            " [   0.]\n",
            " [ 400.]\n",
            " [  70.]\n",
            " [3020.]\n",
            " [ 290.]\n",
            " [   0.]\n",
            " [   0.]\n",
            " [   0.]\n",
            " [4130.]\n",
            " [2270.]\n",
            " [   0.]\n",
            " [  30.]\n",
            " [  10.]\n",
            " [   0.]\n",
            " [   0.]\n",
            " [   0.]\n",
            " [1150.]\n",
            " [1240.]\n",
            " [   0.]\n",
            " [   0.]\n",
            " [   0.]\n",
            " [   0.]\n",
            " [   0.]\n",
            " [   0.]\n",
            " [   0.]\n",
            " [   0.]\n",
            " [ 490.]\n",
            " [ 350.]\n",
            " [   0.]\n",
            " [   0.]\n",
            " [ 370.]\n",
            " [   0.]\n",
            " [   0.]\n",
            " [ 190.]\n",
            " [   0.]\n",
            " [ 700.]\n",
            " [   0.]\n",
            " [ 150.]\n",
            " [ 520.]\n",
            " [ 110.]\n",
            " [   0.]\n",
            " [ 610.]\n",
            " [ 100.]\n",
            " [ 210.]\n",
            " [2060.]\n",
            " [3900.]\n",
            " [ 730.]]\n"
          ]
        }
      ]
    },
    {
      "cell_type": "markdown",
      "metadata": {
        "id": "bb6jCOCQiAmP"
      },
      "source": [
        "## Training the Multiple Linear Regression model on the Training set"
      ]
    },
    {
      "cell_type": "code",
      "source": [
        "from sklearn.linear_model import LinearRegression\n",
        "regressor = LinearRegression()\n",
        "regressor.fit(X_train, y_train)"
      ],
      "metadata": {
        "colab": {
          "base_uri": "https://localhost:8080/",
          "height": 75
        },
        "id": "A9ZoRSi6blLD",
        "outputId": "d53adcde-6cc6-495b-afbd-d52daa75c871"
      },
      "execution_count": 61,
      "outputs": [
        {
          "output_type": "execute_result",
          "data": {
            "text/plain": [
              "LinearRegression()"
            ],
            "text/html": [
              "<style>#sk-container-id-4 {color: black;background-color: white;}#sk-container-id-4 pre{padding: 0;}#sk-container-id-4 div.sk-toggleable {background-color: white;}#sk-container-id-4 label.sk-toggleable__label {cursor: pointer;display: block;width: 100%;margin-bottom: 0;padding: 0.3em;box-sizing: border-box;text-align: center;}#sk-container-id-4 label.sk-toggleable__label-arrow:before {content: \"▸\";float: left;margin-right: 0.25em;color: #696969;}#sk-container-id-4 label.sk-toggleable__label-arrow:hover:before {color: black;}#sk-container-id-4 div.sk-estimator:hover label.sk-toggleable__label-arrow:before {color: black;}#sk-container-id-4 div.sk-toggleable__content {max-height: 0;max-width: 0;overflow: hidden;text-align: left;background-color: #f0f8ff;}#sk-container-id-4 div.sk-toggleable__content pre {margin: 0.2em;color: black;border-radius: 0.25em;background-color: #f0f8ff;}#sk-container-id-4 input.sk-toggleable__control:checked~div.sk-toggleable__content {max-height: 200px;max-width: 100%;overflow: auto;}#sk-container-id-4 input.sk-toggleable__control:checked~label.sk-toggleable__label-arrow:before {content: \"▾\";}#sk-container-id-4 div.sk-estimator input.sk-toggleable__control:checked~label.sk-toggleable__label {background-color: #d4ebff;}#sk-container-id-4 div.sk-label input.sk-toggleable__control:checked~label.sk-toggleable__label {background-color: #d4ebff;}#sk-container-id-4 input.sk-hidden--visually {border: 0;clip: rect(1px 1px 1px 1px);clip: rect(1px, 1px, 1px, 1px);height: 1px;margin: -1px;overflow: hidden;padding: 0;position: absolute;width: 1px;}#sk-container-id-4 div.sk-estimator {font-family: monospace;background-color: #f0f8ff;border: 1px dotted black;border-radius: 0.25em;box-sizing: border-box;margin-bottom: 0.5em;}#sk-container-id-4 div.sk-estimator:hover {background-color: #d4ebff;}#sk-container-id-4 div.sk-parallel-item::after {content: \"\";width: 100%;border-bottom: 1px solid gray;flex-grow: 1;}#sk-container-id-4 div.sk-label:hover label.sk-toggleable__label {background-color: #d4ebff;}#sk-container-id-4 div.sk-serial::before {content: \"\";position: absolute;border-left: 1px solid gray;box-sizing: border-box;top: 0;bottom: 0;left: 50%;z-index: 0;}#sk-container-id-4 div.sk-serial {display: flex;flex-direction: column;align-items: center;background-color: white;padding-right: 0.2em;padding-left: 0.2em;position: relative;}#sk-container-id-4 div.sk-item {position: relative;z-index: 1;}#sk-container-id-4 div.sk-parallel {display: flex;align-items: stretch;justify-content: center;background-color: white;position: relative;}#sk-container-id-4 div.sk-item::before, #sk-container-id-4 div.sk-parallel-item::before {content: \"\";position: absolute;border-left: 1px solid gray;box-sizing: border-box;top: 0;bottom: 0;left: 50%;z-index: -1;}#sk-container-id-4 div.sk-parallel-item {display: flex;flex-direction: column;z-index: 1;position: relative;background-color: white;}#sk-container-id-4 div.sk-parallel-item:first-child::after {align-self: flex-end;width: 50%;}#sk-container-id-4 div.sk-parallel-item:last-child::after {align-self: flex-start;width: 50%;}#sk-container-id-4 div.sk-parallel-item:only-child::after {width: 0;}#sk-container-id-4 div.sk-dashed-wrapped {border: 1px dashed gray;margin: 0 0.4em 0.5em 0.4em;box-sizing: border-box;padding-bottom: 0.4em;background-color: white;}#sk-container-id-4 div.sk-label label {font-family: monospace;font-weight: bold;display: inline-block;line-height: 1.2em;}#sk-container-id-4 div.sk-label-container {text-align: center;}#sk-container-id-4 div.sk-container {/* jupyter's `normalize.less` sets `[hidden] { display: none; }` but bootstrap.min.css set `[hidden] { display: none !important; }` so we also need the `!important` here to be able to override the default hidden behavior on the sphinx rendered scikit-learn.org. See: https://github.com/scikit-learn/scikit-learn/issues/21755 */display: inline-block !important;position: relative;}#sk-container-id-4 div.sk-text-repr-fallback {display: none;}</style><div id=\"sk-container-id-4\" class=\"sk-top-container\"><div class=\"sk-text-repr-fallback\"><pre>LinearRegression()</pre><b>In a Jupyter environment, please rerun this cell to show the HTML representation or trust the notebook. <br />On GitHub, the HTML representation is unable to render, please try loading this page with nbviewer.org.</b></div><div class=\"sk-container\" hidden><div class=\"sk-item\"><div class=\"sk-estimator sk-toggleable\"><input class=\"sk-toggleable__control sk-hidden--visually\" id=\"sk-estimator-id-4\" type=\"checkbox\" checked><label for=\"sk-estimator-id-4\" class=\"sk-toggleable__label sk-toggleable__label-arrow\">LinearRegression</label><div class=\"sk-toggleable__content\"><pre>LinearRegression()</pre></div></div></div></div></div>"
            ]
          },
          "metadata": {},
          "execution_count": 61
        }
      ]
    },
    {
      "cell_type": "markdown",
      "metadata": {
        "id": "pzF3BRps9nlk"
      },
      "source": [
        "### Predicting the Test set results"
      ]
    },
    {
      "cell_type": "code",
      "source": [
        "y_pred = regressor.predict(X_test)\n",
        "np.set_printoptions(precision=2)\n",
        "print(np.concatenate((y_pred.reshape(len(y_pred),1), y_test.reshape(len(y_test),1)),1))"
      ],
      "metadata": {
        "colab": {
          "base_uri": "https://localhost:8080/"
        },
        "id": "DCnMVZvmqOpW",
        "outputId": "964ba16e-3120-412e-c4b7-51d7c76f48b8"
      },
      "execution_count": 62,
      "outputs": [
        {
          "output_type": "stream",
          "name": "stdout",
          "text": [
            "[[ 1.24e+03  1.27e+03]\n",
            " [ 3.60e+03  3.73e+03]\n",
            " [ 1.07e+03  1.18e+03]\n",
            " [ 7.42e+02  6.20e+02]\n",
            " [-8.59e+01  0.00e+00]\n",
            " [ 1.04e+03  1.00e+03]\n",
            " [ 4.29e+01  0.00e+00]\n",
            " [ 9.59e+02  7.90e+02]\n",
            " [ 4.33e+02  6.30e+02]\n",
            " [ 5.18e+02  4.10e+02]\n",
            " [ 4.44e+01  0.00e+00]\n",
            " [ 3.25e+01  0.00e+00]\n",
            " [-5.36e+01  0.00e+00]\n",
            " [ 1.60e+02  5.00e+02]\n",
            " [ 1.16e+02  1.00e+02]\n",
            " [ 4.32e+01  0.00e+00]\n",
            " [ 1.27e+03  9.40e+02]\n",
            " [ 6.02e+01  1.90e+02]\n",
            " [-7.54e+00  0.00e+00]\n",
            " [ 1.58e+03  1.89e+03]\n",
            " [ 1.19e+02  1.40e+02]\n",
            " [ 9.30e+01  1.00e+01]\n",
            " [ 9.37e+01  0.00e+00]\n",
            " [ 9.37e+01  1.50e+02]\n",
            " [ 2.41e+02  3.50e+02]\n",
            " [ 8.08e+02  1.22e+03]\n",
            " [ 2.19e+02  1.90e+02]\n",
            " [ 3.19e+03  2.37e+03]\n",
            " [ 3.37e+01  0.00e+00]\n",
            " [ 2.10e+02  1.60e+02]\n",
            " [ 3.52e+01  0.00e+00]\n",
            " [ 3.13e+03  2.61e+03]\n",
            " [ 1.68e+02  8.00e+01]\n",
            " [ 4.70e+02  1.05e+03]\n",
            " [-3.39e+00  0.00e+00]\n",
            " [ 1.57e+03  2.36e+03]\n",
            " [ 1.81e+02  3.10e+02]\n",
            " [ 2.93e+03  2.97e+03]\n",
            " [ 1.39e+00  0.00e+00]\n",
            " [ 3.19e+02  1.80e+02]\n",
            " [ 6.45e+02  5.90e+02]\n",
            " [-3.51e+00  0.00e+00]\n",
            " [ 3.72e+02  3.80e+02]\n",
            " [ 2.43e+01  2.40e+02]\n",
            " [ 1.01e+03  1.05e+03]\n",
            " [ 7.22e+02  7.00e+02]\n",
            " [ 2.85e+01  3.00e+01]\n",
            " [ 4.10e+01  0.00e+00]\n",
            " [ 1.03e+02  4.00e+01]\n",
            " [-1.08e+01  0.00e+00]\n",
            " [ 4.42e+01  1.50e+02]\n",
            " [ 7.02e+01  0.00e+00]\n",
            " [ 2.59e+01  0.00e+00]\n",
            " [ 9.86e+02  1.30e+03]\n",
            " [ 1.23e+03  8.90e+02]\n",
            " [ 3.55e+02  8.00e+02]\n",
            " [-3.21e+01  0.00e+00]\n",
            " [ 7.28e+02  3.60e+02]\n",
            " [-1.99e+00  0.00e+00]\n",
            " [ 8.73e+01  0.00e+00]\n",
            " [ 2.09e+01  0.00e+00]\n",
            " [-1.22e+01  0.00e+00]\n",
            " [-1.45e+01  0.00e+00]\n",
            " [ 1.10e+03  9.70e+02]\n",
            " [ 1.76e+03  1.37e+03]\n",
            " [ 4.63e+02  6.90e+02]\n",
            " [-1.01e+02  0.00e+00]\n",
            " [-4.58e+00  0.00e+00]\n",
            " [ 8.81e+01  1.30e+02]\n",
            " [ 7.60e+02  1.15e+03]\n",
            " [ 1.28e+01  0.00e+00]\n",
            " [ 2.47e+03  3.50e+03]\n",
            " [ 1.06e+01  0.00e+00]\n",
            " [ 1.32e+03  1.28e+03]\n",
            " [ 5.57e+02  5.30e+02]\n",
            " [ 1.33e+02  1.10e+02]\n",
            " [ 4.17e+01  0.00e+00]\n",
            " [ 6.59e+02  7.40e+02]\n",
            " [-2.10e+01  0.00e+00]\n",
            " [-5.96e+01  0.00e+00]\n",
            " [ 2.12e+00  0.00e+00]\n",
            " [-7.83e+01  0.00e+00]\n",
            " [ 2.86e+02  2.10e+02]\n",
            " [ 1.04e+03  1.37e+03]\n",
            " [-1.31e+01  0.00e+00]\n",
            " [ 1.07e+02  6.00e+01]\n",
            " [ 1.56e+03  1.71e+03]\n",
            " [-1.96e-01  0.00e+00]\n",
            " [-2.08e+01  0.00e+00]\n",
            " [ 5.04e+03  4.26e+03]\n",
            " [-4.91e+01  0.00e+00]\n",
            " [ 2.43e+02  2.50e+02]\n",
            " [-3.42e+01  0.00e+00]\n",
            " [ 1.11e+02  1.40e+02]\n",
            " [ 3.42e+02  5.00e+02]\n",
            " [ 1.54e+03  1.10e+02]\n",
            " [ 2.09e+03  1.87e+03]\n",
            " [ 1.13e+02  1.60e+02]\n",
            " [ 1.34e+02  1.20e+02]\n",
            " [ 1.47e+02  0.00e+00]\n",
            " [-9.57e+01  0.00e+00]\n",
            " [-8.68e+01  0.00e+00]\n",
            " [ 1.30e+03  1.02e+03]\n",
            " [ 4.62e+02  1.90e+02]\n",
            " [ 1.56e+03  1.40e+03]\n",
            " [-2.15e+01  0.00e+00]\n",
            " [-3.10e+01  0.00e+00]\n",
            " [ 2.91e+01  0.00e+00]\n",
            " [ 4.78e+02  1.30e+02]\n",
            " [ 1.80e+02  1.50e+02]\n",
            " [ 2.10e+02  1.00e+02]\n",
            " [-4.62e+01  0.00e+00]\n",
            " [ 2.59e+02  1.30e+02]\n",
            " [ 4.23e+01  0.00e+00]\n",
            " [ 2.10e+03  2.42e+03]\n",
            " [ 3.66e+02  4.90e+02]\n",
            " [-1.05e+02  0.00e+00]\n",
            " [ 3.78e+02  1.80e+02]\n",
            " [ 3.11e+02  5.70e+02]\n",
            " [-2.96e+00  0.00e+00]\n",
            " [ 8.92e+02  1.22e+03]\n",
            " [ 9.00e+02  1.04e+03]\n",
            " [-2.73e+01  0.00e+00]\n",
            " [-1.27e+01  0.00e+00]\n",
            " [-6.84e+01  0.00e+00]\n",
            " [ 1.20e+03  1.02e+03]\n",
            " [ 2.85e+01  0.00e+00]\n",
            " [ 7.43e+01  0.00e+00]\n",
            " [ 5.11e+02  4.40e+02]\n",
            " [ 1.50e+01  0.00e+00]\n",
            " [ 4.28e+02  4.90e+02]\n",
            " [ 1.05e+01  0.00e+00]\n",
            " [-9.26e+00  4.00e+01]\n",
            " [-2.75e+00  0.00e+00]\n",
            " [-6.32e+01  0.00e+00]\n",
            " [ 1.16e+03  1.16e+03]\n",
            " [ 2.55e+02  4.40e+02]\n",
            " [ 1.66e+03  2.30e+03]\n",
            " [ 3.83e+02  2.20e+02]\n",
            " [ 2.17e+02  1.60e+02]\n",
            " [ 4.67e+00  3.00e+01]\n",
            " [ 3.77e+02  7.60e+02]\n",
            " [ 4.19e+02  4.10e+02]\n",
            " [-3.49e+01  0.00e+00]\n",
            " [ 8.58e+01  0.00e+00]\n",
            " [ 3.76e+01  0.00e+00]\n",
            " [ 9.93e+00  0.00e+00]\n",
            " [-3.07e+01  0.00e+00]\n",
            " [ 4.73e+01  0.00e+00]\n",
            " [ 1.17e+01  0.00e+00]\n",
            " [ 2.92e+03  1.92e+03]\n",
            " [ 4.29e+02  4.10e+02]\n",
            " [-5.85e+01  0.00e+00]\n",
            " [-4.43e+01  0.00e+00]\n",
            " [ 5.42e+00  0.00e+00]\n",
            " [ 9.27e+01  0.00e+00]\n",
            " [ 7.71e+01  0.00e+00]\n",
            " [ 5.44e+02  1.08e+03]\n",
            " [ 1.81e+03  1.71e+03]\n",
            " [-1.96e-01  0.00e+00]\n",
            " [ 1.69e+01  0.00e+00]\n",
            " [ 1.65e+01  0.00e+00]\n",
            " [ 2.68e+03  2.74e+03]\n",
            " [-4.68e+01  0.00e+00]\n",
            " [ 5.02e+02  1.80e+02]\n",
            " [ 3.99e+02  7.80e+02]\n",
            " [ 6.47e+02  4.10e+02]\n",
            " [ 3.74e+01  0.00e+00]\n",
            " [ 1.49e+02  2.10e+02]\n",
            " [ 1.51e+02  2.70e+02]\n",
            " [-3.93e+00  0.00e+00]\n",
            " [ 5.40e+02  3.80e+02]\n",
            " [ 3.96e+02  8.00e+01]\n",
            " [ 9.81e+02  1.19e+03]\n",
            " [-5.63e+01  4.00e+01]\n",
            " [-3.91e+01  3.00e+01]\n",
            " [ 2.06e+02  1.30e+02]\n",
            " [ 1.44e+03  1.37e+03]\n",
            " [ 1.19e+03  1.84e+03]\n",
            " [ 6.93e+01  0.00e+00]\n",
            " [ 4.98e+01  0.00e+00]\n",
            " [ 1.29e+03  6.80e+02]\n",
            " [ 1.28e+03  1.18e+03]\n",
            " [-3.95e+01  0.00e+00]\n",
            " [ 2.09e+03  1.98e+03]\n",
            " [ 3.83e+02  4.00e+02]\n",
            " [ 5.48e+01  5.00e+01]\n",
            " [-4.95e+01  0.00e+00]\n",
            " [ 6.11e+01  1.60e+02]\n",
            " [ 8.91e+01  5.00e+01]\n",
            " [ 8.33e+02  1.26e+03]\n",
            " [ 5.89e+01  0.00e+00]\n",
            " [ 2.39e+03  2.76e+03]\n",
            " [ 2.16e+02  3.50e+02]\n",
            " [-1.08e+01  0.00e+00]\n",
            " [ 3.71e+00  1.40e+02]\n",
            " [ 2.16e+03  2.71e+03]\n",
            " [ 1.06e+03  1.13e+03]\n",
            " [-4.51e+01  0.00e+00]\n",
            " [ 5.70e+02  2.90e+02]\n",
            " [ 2.32e+01  0.00e+00]\n",
            " [ 3.31e+02  3.70e+02]\n",
            " [ 1.36e+03  1.89e+03]\n",
            " [ 1.05e+03  1.74e+03]\n",
            " [ 2.08e+01  0.00e+00]\n",
            " [ 6.12e+02  5.30e+02]\n",
            " [ 3.89e+01  0.00e+00]\n",
            " [ 1.21e+01  0.00e+00]\n",
            " [ 4.18e+02  6.20e+02]\n",
            " [-6.88e+00  0.00e+00]\n",
            " [ 3.20e+03  2.39e+03]\n",
            " [ 1.98e+03  2.71e+03]\n",
            " [ 4.66e+02  1.80e+02]\n",
            " [ 1.96e+03  1.86e+03]\n",
            " [ 2.05e+02  2.80e+02]\n",
            " [-2.34e+01  0.00e+00]\n",
            " [ 1.01e+03  1.86e+03]\n",
            " [-6.79e+00  0.00e+00]\n",
            " [-3.81e+01  0.00e+00]\n",
            " [ 3.13e+01  0.00e+00]\n",
            " [-3.81e+01  0.00e+00]\n",
            " [-7.96e+00  0.00e+00]\n",
            " [ 4.77e+02  5.60e+02]\n",
            " [ 3.93e+01  0.00e+00]\n",
            " [-1.45e+00  0.00e+00]\n",
            " [ 1.11e+03  5.60e+02]\n",
            " [ 2.58e+03  2.95e+03]\n",
            " [ 1.01e+02  3.00e+02]\n",
            " [ 1.02e+03  1.18e+03]\n",
            " [ 1.58e+03  1.11e+03]\n",
            " [ 3.25e+01  0.00e+00]\n",
            " [ 1.29e+03  8.40e+02]\n",
            " [ 3.85e+02  5.60e+02]\n",
            " [ 2.32e+02  1.80e+02]\n",
            " [ 1.25e+03  1.59e+03]\n",
            " [ 1.11e+02  4.20e+02]\n",
            " [ 3.73e+01  0.00e+00]\n",
            " [ 2.85e+01  0.00e+00]\n",
            " [-4.46e+01  0.00e+00]\n",
            " [ 4.96e+01  0.00e+00]\n",
            " [ 2.36e+01  0.00e+00]\n",
            " [ 1.95e+03  1.55e+03]\n",
            " [ 2.53e+02  2.10e+02]\n",
            " [ 4.49e+02  3.20e+02]\n",
            " [ 2.85e+01  0.00e+00]\n",
            " [ 1.61e+03  6.10e+02]\n",
            " [ 1.35e+03  1.04e+03]\n",
            " [ 3.89e+02  5.60e+02]\n",
            " [ 6.76e+01  7.00e+01]\n",
            " [ 5.27e+02  4.00e+02]\n",
            " [ 4.85e+02  4.60e+02]\n",
            " [ 5.88e+01  1.90e+02]\n",
            " [ 1.09e+02  1.50e+02]\n",
            " [ 6.45e+03  6.55e+03]\n",
            " [ 4.61e+02  2.00e+02]\n",
            " [ 4.79e+02  4.10e+02]\n",
            " [ 3.01e+02  3.40e+02]\n",
            " [-7.93e+01  0.00e+00]\n",
            " [ 2.88e+02  5.90e+02]\n",
            " [ 5.90e+01  0.00e+00]\n",
            " [ 2.36e+03  2.05e+03]\n",
            " [ 3.43e+02  8.00e+01]\n",
            " [-2.38e+01  0.00e+00]\n",
            " [ 1.09e+02  5.00e+01]\n",
            " [ 1.01e+02  0.00e+00]\n",
            " [ 2.53e+02  7.00e+01]\n",
            " [ 9.60e+02  8.40e+02]\n",
            " [ 3.07e+00  0.00e+00]\n",
            " [ 1.04e+02  1.20e+02]\n",
            " [ 1.58e+03  1.60e+03]\n",
            " [ 2.14e+02  2.90e+02]\n",
            " [-7.15e+01  8.00e+01]\n",
            " [ 4.72e+01  1.70e+02]\n",
            " [-2.55e+01  0.00e+00]\n",
            " [-9.79e+00  0.00e+00]\n",
            " [-6.68e+01  0.00e+00]\n",
            " [-9.89e+01  0.00e+00]\n",
            " [ 3.93e+02  4.60e+02]\n",
            " [ 5.45e+02  8.00e+02]\n",
            " [-2.59e+01  0.00e+00]\n",
            " [ 1.06e+01  0.00e+00]\n",
            " [ 2.74e+02  3.20e+02]\n",
            " [ 3.81e+01  0.00e+00]\n",
            " [ 3.42e+02  2.20e+02]\n",
            " [-8.25e+01  0.00e+00]\n",
            " [-1.02e+01  2.50e+02]\n",
            " [ 2.79e+02  6.30e+02]\n",
            " [ 1.09e+03  1.22e+03]\n",
            " [ 4.13e+01  0.00e+00]\n",
            " [ 4.68e+01  3.00e+01]\n",
            " [ 1.62e+02  2.90e+02]\n",
            " [ 8.32e+01  0.00e+00]\n",
            " [ 5.32e+01  0.00e+00]\n",
            " [-1.78e+00  0.00e+00]\n",
            " [ 2.08e+01  0.00e+00]\n",
            " [ 2.31e+03  2.52e+03]\n",
            " [ 3.33e+01  0.00e+00]\n",
            " [-1.13e+01  0.00e+00]\n",
            " [ 5.75e+02  6.80e+02]\n",
            " [ 1.96e+01  6.00e+01]\n",
            " [ 9.84e+01  0.00e+00]\n",
            " [ 1.01e+02  0.00e+00]\n",
            " [ 4.25e+01  0.00e+00]\n",
            " [ 1.54e+01  0.00e+00]\n",
            " [ 2.96e+02  3.60e+02]\n",
            " [ 6.80e+02  4.20e+02]\n",
            " [ 2.53e+01  0.00e+00]\n",
            " [ 1.21e+01  0.00e+00]\n",
            " [ 1.00e+03  8.70e+02]\n",
            " [ 2.09e+03  2.27e+03]\n",
            " [ 1.03e+03  5.50e+02]\n",
            " [-1.45e+01  0.00e+00]\n",
            " [ 8.85e+02  8.40e+02]\n",
            " [-1.23e+01  0.00e+00]\n",
            " [ 1.20e+03  1.45e+03]\n",
            " [-1.62e+01  0.00e+00]\n",
            " [-4.51e+01  0.00e+00]\n",
            " [-9.02e+00  0.00e+00]\n",
            " [ 1.95e+01  0.00e+00]\n",
            " [ 2.99e+01  0.00e+00]\n",
            " [ 1.21e+02  0.00e+00]\n",
            " [ 1.03e+01  0.00e+00]\n",
            " [ 3.02e+03  3.56e+03]\n",
            " [ 1.18e+01  0.00e+00]\n",
            " [ 3.55e+03  3.34e+03]\n",
            " [ 5.48e+02  8.20e+02]\n",
            " [ 9.94e+02  1.15e+03]\n",
            " [ 1.21e+03  1.57e+03]\n",
            " [ 1.75e+03  1.23e+03]\n",
            " [ 2.87e+01  0.00e+00]\n",
            " [ 1.60e+03  1.89e+03]\n",
            " [ 6.04e+02  7.20e+02]\n",
            " [ 2.70e+02  5.10e+02]\n",
            " [ 1.39e+01  0.00e+00]\n",
            " [ 4.37e+01  0.00e+00]\n",
            " [ 1.27e+01  0.00e+00]\n",
            " [ 4.76e+01  3.00e+01]\n",
            " [ 3.10e+02  1.60e+02]\n",
            " [ 8.67e+02  2.80e+02]\n",
            " [ 5.42e+02  4.00e+02]\n",
            " [ 3.95e+02  4.40e+02]\n",
            " [ 1.61e+03  1.89e+03]\n",
            " [ 1.32e+03  1.15e+03]\n",
            " [ 1.87e+03  1.31e+03]\n",
            " [ 3.55e+01  0.00e+00]\n",
            " [ 7.10e+01  0.00e+00]\n",
            " [ 4.96e+01  0.00e+00]\n",
            " [ 2.52e+01  0.00e+00]\n",
            " [ 1.56e+01  0.00e+00]\n",
            " [-9.50e+00  0.00e+00]\n",
            " [ 2.79e+01  0.00e+00]\n",
            " [ 1.56e+03  1.28e+03]\n",
            " [ 7.21e+01  0.00e+00]\n",
            " [-1.28e+01  0.00e+00]\n",
            " [ 1.49e+03  1.46e+03]\n",
            " [-2.81e+01  0.00e+00]\n",
            " [ 3.32e+02  1.90e+02]\n",
            " [ 3.45e+02  6.20e+02]\n",
            " [ 9.78e+01  0.00e+00]\n",
            " [ 9.81e+02  6.00e+02]\n",
            " [ 9.03e+02  5.00e+02]\n",
            " [ 1.26e+03  1.26e+03]\n",
            " [ 3.41e+02  2.50e+02]\n",
            " [ 1.07e+03  7.10e+02]\n",
            " [ 4.56e+02  1.90e+02]\n",
            " [ 1.31e+03  1.36e+03]\n",
            " [ 1.89e+03  1.88e+03]\n",
            " [ 4.32e+02  9.60e+02]\n",
            " [-4.37e+01  0.00e+00]\n",
            " [ 3.32e+03  4.66e+03]\n",
            " [ 1.25e+02  1.50e+02]\n",
            " [-4.20e+01  0.00e+00]\n",
            " [ 1.61e+02  1.90e+02]\n",
            " [-1.45e+02  0.00e+00]\n",
            " [ 2.61e+02  4.90e+02]\n",
            " [ 7.96e+02  8.50e+02]\n",
            " [ 2.95e+01  0.00e+00]\n",
            " [ 5.89e+01  0.00e+00]\n",
            " [ 1.48e+03  1.82e+03]\n",
            " [-1.31e+01  0.00e+00]\n",
            " [ 1.73e+01  0.00e+00]\n",
            " [ 6.80e+02  8.90e+02]\n",
            " [ 2.33e+00  0.00e+00]\n",
            " [ 5.01e+02  7.70e+02]\n",
            " [ 2.66e+02  2.80e+02]\n",
            " [ 3.50e+02  3.10e+02]\n",
            " [ 8.42e+01  0.00e+00]\n",
            " [ 6.52e+02  6.40e+02]\n",
            " [-1.55e+01  3.00e+01]\n",
            " [ 5.17e+03  4.00e+03]\n",
            " [-1.57e+01  0.00e+00]\n",
            " [ 6.80e+01  0.00e+00]\n",
            " [ 2.00e+01  2.00e+01]\n",
            " [ 4.81e+02  1.80e+02]\n",
            " [ 1.98e+02  1.20e+02]\n",
            " [-5.09e+01  0.00e+00]\n",
            " [ 2.41e+03  2.14e+03]\n",
            " [ 3.34e+02  3.70e+02]\n",
            " [-1.24e+01  0.00e+00]\n",
            " [ 7.34e+01  0.00e+00]\n",
            " [ 9.25e+00  0.00e+00]\n",
            " [ 1.75e+03  2.39e+03]\n",
            " [ 7.85e+01  0.00e+00]\n",
            " [-3.18e+01  0.00e+00]\n",
            " [ 1.44e+03  1.40e+03]\n",
            " [ 1.66e+02  1.40e+02]\n",
            " [ 1.38e+03  1.18e+03]\n",
            " [-4.84e+01  0.00e+00]\n",
            " [ 5.12e+02  4.00e+02]\n",
            " [ 2.51e+01  7.00e+01]\n",
            " [ 1.90e+03  3.02e+03]\n",
            " [ 2.84e+02  2.90e+02]\n",
            " [ 2.59e+00  0.00e+00]\n",
            " [ 1.20e+02  0.00e+00]\n",
            " [-4.17e+01  0.00e+00]\n",
            " [ 3.62e+03  4.13e+03]\n",
            " [ 2.57e+03  2.27e+03]\n",
            " [ 1.05e+02  0.00e+00]\n",
            " [ 2.47e+01  3.00e+01]\n",
            " [ 1.63e+01  1.00e+01]\n",
            " [-3.36e+00  0.00e+00]\n",
            " [-1.10e+01  0.00e+00]\n",
            " [ 1.53e+01  0.00e+00]\n",
            " [ 1.42e+03  1.15e+03]\n",
            " [ 9.86e+02  1.24e+03]\n",
            " [ 2.50e+01  0.00e+00]\n",
            " [-5.11e+01  0.00e+00]\n",
            " [-4.22e+01  0.00e+00]\n",
            " [ 1.23e+01  0.00e+00]\n",
            " [-1.98e+01  0.00e+00]\n",
            " [-5.24e+01  0.00e+00]\n",
            " [-3.81e+01  0.00e+00]\n",
            " [-2.49e+01  0.00e+00]\n",
            " [ 2.79e+02  4.90e+02]\n",
            " [ 3.48e+02  3.50e+02]\n",
            " [ 1.61e+01  0.00e+00]\n",
            " [ 5.89e+01  0.00e+00]\n",
            " [ 2.53e+02  3.70e+02]\n",
            " [-6.15e+00  0.00e+00]\n",
            " [-1.06e+02  0.00e+00]\n",
            " [ 5.84e+02  1.90e+02]\n",
            " [ 3.71e+01  0.00e+00]\n",
            " [ 7.02e+02  7.00e+02]\n",
            " [ 3.08e+01  0.00e+00]\n",
            " [ 9.61e+01  1.50e+02]\n",
            " [ 4.54e+02  5.20e+02]\n",
            " [ 1.51e+02  1.10e+02]\n",
            " [ 4.65e+01  0.00e+00]\n",
            " [ 6.42e+02  6.10e+02]\n",
            " [ 2.79e+02  1.00e+02]\n",
            " [ 1.97e+02  2.10e+02]\n",
            " [ 2.17e+03  2.06e+03]\n",
            " [ 4.02e+03  3.90e+03]\n",
            " [ 7.89e+02  7.30e+02]]\n"
          ]
        }
      ]
    },
    {
      "cell_type": "markdown",
      "metadata": {
        "id": "vKYVQH-l5NpE"
      },
      "source": [
        "### Evaluating the Model Performance"
      ]
    },
    {
      "cell_type": "code",
      "source": [
        "from sklearn.metrics import r2_score\n",
        "r2_score(y_test, y_pred)"
      ],
      "metadata": {
        "colab": {
          "base_uri": "https://localhost:8080/"
        },
        "id": "Vg9dOxUxmv26",
        "outputId": "a411f7c3-f7c4-4839-ef39-78d1bac2aae4"
      },
      "execution_count": 63,
      "outputs": [
        {
          "output_type": "execute_result",
          "data": {
            "text/plain": [
              "0.9171065105973446"
            ]
          },
          "metadata": {},
          "execution_count": 63
        }
      ]
    },
    {
      "cell_type": "markdown",
      "metadata": {
        "id": "6OMC_P0diaoD"
      },
      "source": [
        "### Visualising the Test set results"
      ]
    },
    {
      "cell_type": "code",
      "source": [
        "plt.figure(figsize=(8, 6))\n",
        "plt.scatter(y_test, y_pred)\n",
        "plt.xlabel('Actual Reimbursment')\n",
        "plt.ylabel('Predicted Reimbursment')\n",
        "plt.title('Actual vs. Predicted Sum of Medicare fee–for–service reimbursements made during the calendar year (Multiple Linear Regression)')\n",
        "plt.plot([y_test.min(), y_test.max()], [y_test.min(), y_test.max()], 'k--', lw=2)\n",
        "plt.grid(True)\n",
        "plt.show()"
      ],
      "metadata": {
        "id": "gxC7miqYfNAX",
        "colab": {
          "base_uri": "https://localhost:8080/",
          "height": 564
        },
        "outputId": "1848f9ef-6ed7-4ed2-f458-059c124c5495"
      },
      "execution_count": 64,
      "outputs": [
        {
          "output_type": "display_data",
          "data": {
            "text/plain": [
              "<Figure size 800x600 with 1 Axes>"
            ],
            "image/png": "[encoded data removed]"
          },
          "metadata": {}
        }
      ]
    },
    {
      "cell_type": "markdown",
      "source": [
        "#### This plot compares the actual reimbursements (x-axis) to the predicted reimbursements (y-axis) for the Medicare fee-for-service claims. Ideally, the points should align along a diagonal line (y=x), indicating that predicted values closely match the actual values. If the points mostly cluster around the line, it suggests that the model is making accurate predictions. Dispersed or spread-out points away from the line may indicate discrepancies between actual and predicted values."
      ],
      "metadata": {
        "id": "hxLBiaU57TKD"
      }
    },
    {
      "cell_type": "markdown",
      "source": [
        "## Training the Random Forest Regression model on the whole dataset"
      ],
      "metadata": {
        "id": "3IHe9HFtyxKf"
      }
    },
    {
      "cell_type": "code",
      "source": [
        "from sklearn.ensemble import RandomForestRegressor\n",
        "RFregressor = RandomForestRegressor(n_estimators = 10, random_state = 0)\n",
        "RFregressor.fit(X_train, y_train)"
      ],
      "metadata": {
        "colab": {
          "base_uri": "https://localhost:8080/",
          "height": 109
        },
        "id": "GzLRfrv8ywvf",
        "outputId": "784fb505-e847-4fb8-8d14-f88d0f752764"
      },
      "execution_count": 65,
      "outputs": [
        {
          "output_type": "stream",
          "name": "stderr",
          "text": [
            "<ipython-input-65-af5cccb35651>:3: DataConversionWarning: A column-vector y was passed when a 1d array was expected. Please change the shape of y to (n_samples,), for example using ravel().\n",
            "  RFregressor.fit(X_train, y_train)\n"
          ]
        },
        {
          "output_type": "execute_result",
          "data": {
            "text/plain": [
              "RandomForestRegressor(n_estimators=10, random_state=0)"
            ],
            "text/html": [
              "<style>#sk-container-id-5 {color: black;background-color: white;}#sk-container-id-5 pre{padding: 0;}#sk-container-id-5 div.sk-toggleable {background-color: white;}#sk-container-id-5 label.sk-toggleable__label {cursor: pointer;display: block;width: 100%;margin-bottom: 0;padding: 0.3em;box-sizing: border-box;text-align: center;}#sk-container-id-5 label.sk-toggleable__label-arrow:before {content: \"▸\";float: left;margin-right: 0.25em;color: #696969;}#sk-container-id-5 label.sk-toggleable__label-arrow:hover:before {color: black;}#sk-container-id-5 div.sk-estimator:hover label.sk-toggleable__label-arrow:before {color: black;}#sk-container-id-5 div.sk-toggleable__content {max-height: 0;max-width: 0;overflow: hidden;text-align: left;background-color: #f0f8ff;}#sk-container-id-5 div.sk-toggleable__content pre {margin: 0.2em;color: black;border-radius: 0.25em;background-color: #f0f8ff;}#sk-container-id-5 input.sk-toggleable__control:checked~div.sk-toggleable__content {max-height: 200px;max-width: 100%;overflow: auto;}#sk-container-id-5 input.sk-toggleable__control:checked~label.sk-toggleable__label-arrow:before {content: \"▾\";}#sk-container-id-5 div.sk-estimator input.sk-toggleable__control:checked~label.sk-toggleable__label {background-color: #d4ebff;}#sk-container-id-5 div.sk-label input.sk-toggleable__control:checked~label.sk-toggleable__label {background-color: #d4ebff;}#sk-container-id-5 input.sk-hidden--visually {border: 0;clip: rect(1px 1px 1px 1px);clip: rect(1px, 1px, 1px, 1px);height: 1px;margin: -1px;overflow: hidden;padding: 0;position: absolute;width: 1px;}#sk-container-id-5 div.sk-estimator {font-family: monospace;background-color: #f0f8ff;border: 1px dotted black;border-radius: 0.25em;box-sizing: border-box;margin-bottom: 0.5em;}#sk-container-id-5 div.sk-estimator:hover {background-color: #d4ebff;}#sk-container-id-5 div.sk-parallel-item::after {content: \"\";width: 100%;border-bottom: 1px solid gray;flex-grow: 1;}#sk-container-id-5 div.sk-label:hover label.sk-toggleable__label {background-color: #d4ebff;}#sk-container-id-5 div.sk-serial::before {content: \"\";position: absolute;border-left: 1px solid gray;box-sizing: border-box;top: 0;bottom: 0;left: 50%;z-index: 0;}#sk-container-id-5 div.sk-serial {display: flex;flex-direction: column;align-items: center;background-color: white;padding-right: 0.2em;padding-left: 0.2em;position: relative;}#sk-container-id-5 div.sk-item {position: relative;z-index: 1;}#sk-container-id-5 div.sk-parallel {display: flex;align-items: stretch;justify-content: center;background-color: white;position: relative;}#sk-container-id-5 div.sk-item::before, #sk-container-id-5 div.sk-parallel-item::before {content: \"\";position: absolute;border-left: 1px solid gray;box-sizing: border-box;top: 0;bottom: 0;left: 50%;z-index: -1;}#sk-container-id-5 div.sk-parallel-item {display: flex;flex-direction: column;z-index: 1;position: relative;background-color: white;}#sk-container-id-5 div.sk-parallel-item:first-child::after {align-self: flex-end;width: 50%;}#sk-container-id-5 div.sk-parallel-item:last-child::after {align-self: flex-start;width: 50%;}#sk-container-id-5 div.sk-parallel-item:only-child::after {width: 0;}#sk-container-id-5 div.sk-dashed-wrapped {border: 1px dashed gray;margin: 0 0.4em 0.5em 0.4em;box-sizing: border-box;padding-bottom: 0.4em;background-color: white;}#sk-container-id-5 div.sk-label label {font-family: monospace;font-weight: bold;display: inline-block;line-height: 1.2em;}#sk-container-id-5 div.sk-label-container {text-align: center;}#sk-container-id-5 div.sk-container {/* jupyter's `normalize.less` sets `[hidden] { display: none; }` but bootstrap.min.css set `[hidden] { display: none !important; }` so we also need the `!important` here to be able to override the default hidden behavior on the sphinx rendered scikit-learn.org. See: https://github.com/scikit-learn/scikit-learn/issues/21755 */display: inline-block !important;position: relative;}#sk-container-id-5 div.sk-text-repr-fallback {display: none;}</style><div id=\"sk-container-id-5\" class=\"sk-top-container\"><div class=\"sk-text-repr-fallback\"><pre>RandomForestRegressor(n_estimators=10, random_state=0)</pre><b>In a Jupyter environment, please rerun this cell to show the HTML representation or trust the notebook. <br />On GitHub, the HTML representation is unable to render, please try loading this page with nbviewer.org.</b></div><div class=\"sk-container\" hidden><div class=\"sk-item\"><div class=\"sk-estimator sk-toggleable\"><input class=\"sk-toggleable__control sk-hidden--visually\" id=\"sk-estimator-id-5\" type=\"checkbox\" checked><label for=\"sk-estimator-id-5\" class=\"sk-toggleable__label sk-toggleable__label-arrow\">RandomForestRegressor</label><div class=\"sk-toggleable__content\"><pre>RandomForestRegressor(n_estimators=10, random_state=0)</pre></div></div></div></div></div>"
            ]
          },
          "metadata": {},
          "execution_count": 65
        }
      ]
    },
    {
      "cell_type": "markdown",
      "source": [
        "### Predicting the Test set results"
      ],
      "metadata": {
        "id": "00724AbazWDx"
      }
    },
    {
      "cell_type": "code",
      "source": [
        "y_pred_rf = RFregressor.predict(X_test)\n",
        "np.set_printoptions(precision=2)\n",
        "print(np.concatenate((y_pred_rf.reshape(len(y_pred_rf),1), y_test.reshape(len(y_test),1)),1))"
      ],
      "metadata": {
        "colab": {
          "base_uri": "https://localhost:8080/"
        },
        "id": "gtVaN90VzVEc",
        "outputId": "7cbbb3ff-192d-4c43-9405-01471a46ab82"
      },
      "execution_count": 95,
      "outputs": [
        {
          "output_type": "stream",
          "name": "stdout",
          "text": [
            "[[1.44e+03 1.27e+03]\n",
            " [3.74e+03 3.73e+03]\n",
            " [8.62e+02 1.18e+03]\n",
            " [8.56e+02 6.20e+02]\n",
            " [0.00e+00 0.00e+00]\n",
            " [9.24e+02 1.00e+03]\n",
            " [0.00e+00 0.00e+00]\n",
            " [1.24e+03 7.90e+02]\n",
            " [2.61e+02 6.30e+02]\n",
            " [4.15e+02 4.10e+02]\n",
            " [0.00e+00 0.00e+00]\n",
            " [0.00e+00 0.00e+00]\n",
            " [0.00e+00 0.00e+00]\n",
            " [2.03e+02 5.00e+02]\n",
            " [9.10e+01 1.00e+02]\n",
            " [0.00e+00 0.00e+00]\n",
            " [1.30e+03 9.40e+02]\n",
            " [1.23e+02 1.90e+02]\n",
            " [0.00e+00 0.00e+00]\n",
            " [1.70e+03 1.89e+03]\n",
            " [1.42e+02 1.40e+02]\n",
            " [1.00e+01 1.00e+01]\n",
            " [4.86e+00 0.00e+00]\n",
            " [1.17e+02 1.50e+02]\n",
            " [4.56e+02 3.50e+02]\n",
            " [7.88e+02 1.22e+03]\n",
            " [1.28e+02 1.90e+02]\n",
            " [3.00e+03 2.37e+03]\n",
            " [0.00e+00 0.00e+00]\n",
            " [2.48e+02 1.60e+02]\n",
            " [0.00e+00 0.00e+00]\n",
            " [3.52e+03 2.61e+03]\n",
            " [1.20e+02 8.00e+01]\n",
            " [4.55e+02 1.05e+03]\n",
            " [0.00e+00 0.00e+00]\n",
            " [1.34e+03 2.36e+03]\n",
            " [3.15e+02 3.10e+02]\n",
            " [2.90e+03 2.97e+03]\n",
            " [0.00e+00 0.00e+00]\n",
            " [3.42e+02 1.80e+02]\n",
            " [4.80e+02 5.90e+02]\n",
            " [0.00e+00 0.00e+00]\n",
            " [2.85e+02 3.80e+02]\n",
            " [1.32e+02 2.40e+02]\n",
            " [9.71e+02 1.05e+03]\n",
            " [8.82e+02 7.00e+02]\n",
            " [1.20e+01 3.00e+01]\n",
            " [0.00e+00 0.00e+00]\n",
            " [2.36e+00 4.00e+01]\n",
            " [0.00e+00 0.00e+00]\n",
            " [3.80e+01 1.50e+02]\n",
            " [4.00e+01 0.00e+00]\n",
            " [0.00e+00 0.00e+00]\n",
            " [8.82e+02 1.30e+03]\n",
            " [9.89e+02 8.90e+02]\n",
            " [5.15e+02 8.00e+02]\n",
            " [0.00e+00 0.00e+00]\n",
            " [8.61e+02 3.60e+02]\n",
            " [0.00e+00 0.00e+00]\n",
            " [0.00e+00 0.00e+00]\n",
            " [0.00e+00 0.00e+00]\n",
            " [0.00e+00 0.00e+00]\n",
            " [0.00e+00 0.00e+00]\n",
            " [1.15e+03 9.70e+02]\n",
            " [1.52e+03 1.37e+03]\n",
            " [3.98e+02 6.90e+02]\n",
            " [0.00e+00 0.00e+00]\n",
            " [0.00e+00 0.00e+00]\n",
            " [2.08e+02 1.30e+02]\n",
            " [6.65e+02 1.15e+03]\n",
            " [1.00e+00 0.00e+00]\n",
            " [2.22e+03 3.50e+03]\n",
            " [0.00e+00 0.00e+00]\n",
            " [1.41e+03 1.28e+03]\n",
            " [5.27e+02 5.30e+02]\n",
            " [9.90e+01 1.10e+02]\n",
            " [0.00e+00 0.00e+00]\n",
            " [5.42e+02 7.40e+02]\n",
            " [1.00e+01 0.00e+00]\n",
            " [0.00e+00 0.00e+00]\n",
            " [0.00e+00 0.00e+00]\n",
            " [0.00e+00 0.00e+00]\n",
            " [2.46e+02 2.10e+02]\n",
            " [8.19e+02 1.37e+03]\n",
            " [0.00e+00 0.00e+00]\n",
            " [5.30e+01 6.00e+01]\n",
            " [1.40e+03 1.71e+03]\n",
            " [0.00e+00 0.00e+00]\n",
            " [0.00e+00 0.00e+00]\n",
            " [5.21e+03 4.26e+03]\n",
            " [2.38e+01 0.00e+00]\n",
            " [2.25e+02 2.50e+02]\n",
            " [0.00e+00 0.00e+00]\n",
            " [5.30e+01 1.40e+02]\n",
            " [3.85e+02 5.00e+02]\n",
            " [1.18e+02 1.10e+02]\n",
            " [2.23e+03 1.87e+03]\n",
            " [1.17e+02 1.60e+02]\n",
            " [3.20e+01 1.20e+02]\n",
            " [0.00e+00 0.00e+00]\n",
            " [0.00e+00 0.00e+00]\n",
            " [0.00e+00 0.00e+00]\n",
            " [1.36e+03 1.02e+03]\n",
            " [2.41e+02 1.90e+02]\n",
            " [1.73e+03 1.40e+03]\n",
            " [0.00e+00 0.00e+00]\n",
            " [0.00e+00 0.00e+00]\n",
            " [0.00e+00 0.00e+00]\n",
            " [4.92e+02 1.30e+02]\n",
            " [2.84e+02 1.50e+02]\n",
            " [2.26e+02 1.00e+02]\n",
            " [0.00e+00 0.00e+00]\n",
            " [2.20e+02 1.30e+02]\n",
            " [0.00e+00 0.00e+00]\n",
            " [1.99e+03 2.42e+03]\n",
            " [4.54e+02 4.90e+02]\n",
            " [0.00e+00 0.00e+00]\n",
            " [3.04e+02 1.80e+02]\n",
            " [3.12e+02 5.70e+02]\n",
            " [0.00e+00 0.00e+00]\n",
            " [5.90e+02 1.22e+03]\n",
            " [8.78e+02 1.04e+03]\n",
            " [0.00e+00 0.00e+00]\n",
            " [0.00e+00 0.00e+00]\n",
            " [0.00e+00 0.00e+00]\n",
            " [1.26e+03 1.02e+03]\n",
            " [0.00e+00 0.00e+00]\n",
            " [1.30e+01 0.00e+00]\n",
            " [5.42e+02 4.40e+02]\n",
            " [0.00e+00 0.00e+00]\n",
            " [4.53e+02 4.90e+02]\n",
            " [0.00e+00 0.00e+00]\n",
            " [6.00e+00 4.00e+01]\n",
            " [0.00e+00 0.00e+00]\n",
            " [0.00e+00 0.00e+00]\n",
            " [1.34e+03 1.16e+03]\n",
            " [3.02e+02 4.40e+02]\n",
            " [1.54e+03 2.30e+03]\n",
            " [4.95e+02 2.20e+02]\n",
            " [2.82e+02 1.60e+02]\n",
            " [0.00e+00 3.00e+01]\n",
            " [3.81e+02 7.60e+02]\n",
            " [4.98e+02 4.10e+02]\n",
            " [0.00e+00 0.00e+00]\n",
            " [0.00e+00 0.00e+00]\n",
            " [0.00e+00 0.00e+00]\n",
            " [0.00e+00 0.00e+00]\n",
            " [6.00e+00 0.00e+00]\n",
            " [0.00e+00 0.00e+00]\n",
            " [0.00e+00 0.00e+00]\n",
            " [3.36e+03 1.92e+03]\n",
            " [5.83e+02 4.10e+02]\n",
            " [4.00e+00 0.00e+00]\n",
            " [0.00e+00 0.00e+00]\n",
            " [4.20e+01 0.00e+00]\n",
            " [0.00e+00 0.00e+00]\n",
            " [0.00e+00 0.00e+00]\n",
            " [4.62e+02 1.08e+03]\n",
            " [1.59e+03 1.71e+03]\n",
            " [0.00e+00 0.00e+00]\n",
            " [0.00e+00 0.00e+00]\n",
            " [0.00e+00 0.00e+00]\n",
            " [2.65e+03 2.74e+03]\n",
            " [6.25e+00 0.00e+00]\n",
            " [4.07e+02 1.80e+02]\n",
            " [3.13e+02 7.80e+02]\n",
            " [6.23e+02 4.10e+02]\n",
            " [0.00e+00 0.00e+00]\n",
            " [2.81e+02 2.10e+02]\n",
            " [2.17e+02 2.70e+02]\n",
            " [0.00e+00 0.00e+00]\n",
            " [5.20e+02 3.80e+02]\n",
            " [3.38e+02 8.00e+01]\n",
            " [8.71e+02 1.19e+03]\n",
            " [3.80e+01 4.00e+01]\n",
            " [0.00e+00 3.00e+01]\n",
            " [3.09e+02 1.30e+02]\n",
            " [1.47e+03 1.37e+03]\n",
            " [1.11e+03 1.84e+03]\n",
            " [3.10e+01 0.00e+00]\n",
            " [1.50e+01 0.00e+00]\n",
            " [1.20e+03 6.80e+02]\n",
            " [1.12e+03 1.18e+03]\n",
            " [0.00e+00 0.00e+00]\n",
            " [1.99e+03 1.98e+03]\n",
            " [4.88e+02 4.00e+02]\n",
            " [4.10e+01 5.00e+01]\n",
            " [0.00e+00 0.00e+00]\n",
            " [4.30e+01 1.60e+02]\n",
            " [6.30e+01 5.00e+01]\n",
            " [5.95e+02 1.26e+03]\n",
            " [0.00e+00 0.00e+00]\n",
            " [2.97e+03 2.76e+03]\n",
            " [2.13e+02 3.50e+02]\n",
            " [0.00e+00 0.00e+00]\n",
            " [7.00e+01 1.40e+02]\n",
            " [2.34e+03 2.71e+03]\n",
            " [9.09e+02 1.13e+03]\n",
            " [0.00e+00 0.00e+00]\n",
            " [4.92e+02 2.90e+02]\n",
            " [0.00e+00 0.00e+00]\n",
            " [2.90e+02 3.70e+02]\n",
            " [1.19e+03 1.89e+03]\n",
            " [9.79e+02 1.74e+03]\n",
            " [0.00e+00 0.00e+00]\n",
            " [6.95e+02 5.30e+02]\n",
            " [0.00e+00 0.00e+00]\n",
            " [9.00e+00 0.00e+00]\n",
            " [4.56e+02 6.20e+02]\n",
            " [0.00e+00 0.00e+00]\n",
            " [2.81e+03 2.39e+03]\n",
            " [1.91e+03 2.71e+03]\n",
            " [5.73e+02 1.80e+02]\n",
            " [1.67e+03 1.86e+03]\n",
            " [2.07e+02 2.80e+02]\n",
            " [0.00e+00 0.00e+00]\n",
            " [1.08e+03 1.86e+03]\n",
            " [1.20e+01 0.00e+00]\n",
            " [0.00e+00 0.00e+00]\n",
            " [0.00e+00 0.00e+00]\n",
            " [0.00e+00 0.00e+00]\n",
            " [0.00e+00 0.00e+00]\n",
            " [4.81e+02 5.60e+02]\n",
            " [0.00e+00 0.00e+00]\n",
            " [0.00e+00 0.00e+00]\n",
            " [1.18e+03 5.60e+02]\n",
            " [2.92e+03 2.95e+03]\n",
            " [2.33e+02 3.00e+02]\n",
            " [1.16e+03 1.18e+03]\n",
            " [1.68e+03 1.11e+03]\n",
            " [1.00e+01 0.00e+00]\n",
            " [1.26e+03 8.40e+02]\n",
            " [3.32e+02 5.60e+02]\n",
            " [2.48e+02 1.80e+02]\n",
            " [1.01e+03 1.59e+03]\n",
            " [6.10e+01 4.20e+02]\n",
            " [0.00e+00 0.00e+00]\n",
            " [0.00e+00 0.00e+00]\n",
            " [5.00e+00 0.00e+00]\n",
            " [6.00e+00 0.00e+00]\n",
            " [0.00e+00 0.00e+00]\n",
            " [2.03e+03 1.55e+03]\n",
            " [2.16e+02 2.10e+02]\n",
            " [6.04e+02 3.20e+02]\n",
            " [0.00e+00 0.00e+00]\n",
            " [1.58e+03 6.10e+02]\n",
            " [1.51e+03 1.04e+03]\n",
            " [5.19e+02 5.60e+02]\n",
            " [5.80e+01 7.00e+01]\n",
            " [5.47e+02 4.00e+02]\n",
            " [3.64e+02 4.60e+02]\n",
            " [9.80e+01 1.90e+02]\n",
            " [2.29e+02 1.50e+02]\n",
            " [6.72e+03 6.55e+03]\n",
            " [2.95e+02 2.00e+02]\n",
            " [6.89e+02 4.10e+02]\n",
            " [3.05e+02 3.40e+02]\n",
            " [0.00e+00 0.00e+00]\n",
            " [2.54e+02 5.90e+02]\n",
            " [0.00e+00 0.00e+00]\n",
            " [2.34e+03 2.05e+03]\n",
            " [2.78e+02 8.00e+01]\n",
            " [0.00e+00 0.00e+00]\n",
            " [9.60e+01 5.00e+01]\n",
            " [7.00e+01 0.00e+00]\n",
            " [7.80e+01 7.00e+01]\n",
            " [1.38e+03 8.40e+02]\n",
            " [0.00e+00 0.00e+00]\n",
            " [2.51e+02 1.20e+02]\n",
            " [1.54e+03 1.60e+03]\n",
            " [2.28e+02 2.90e+02]\n",
            " [1.00e+01 8.00e+01]\n",
            " [9.80e+01 1.70e+02]\n",
            " [0.00e+00 0.00e+00]\n",
            " [0.00e+00 0.00e+00]\n",
            " [0.00e+00 0.00e+00]\n",
            " [0.00e+00 0.00e+00]\n",
            " [1.87e+02 4.60e+02]\n",
            " [6.85e+02 8.00e+02]\n",
            " [0.00e+00 0.00e+00]\n",
            " [9.00e+00 0.00e+00]\n",
            " [2.52e+02 3.20e+02]\n",
            " [0.00e+00 0.00e+00]\n",
            " [3.72e+02 2.20e+02]\n",
            " [0.00e+00 0.00e+00]\n",
            " [6.10e+01 2.50e+02]\n",
            " [3.21e+02 6.30e+02]\n",
            " [1.08e+03 1.22e+03]\n",
            " [0.00e+00 0.00e+00]\n",
            " [5.80e+01 3.00e+01]\n",
            " [2.32e+02 2.90e+02]\n",
            " [0.00e+00 0.00e+00]\n",
            " [0.00e+00 0.00e+00]\n",
            " [0.00e+00 0.00e+00]\n",
            " [0.00e+00 0.00e+00]\n",
            " [2.12e+03 2.52e+03]\n",
            " [0.00e+00 0.00e+00]\n",
            " [0.00e+00 0.00e+00]\n",
            " [6.69e+02 6.80e+02]\n",
            " [6.30e+01 6.00e+01]\n",
            " [2.50e+01 0.00e+00]\n",
            " [0.00e+00 0.00e+00]\n",
            " [0.00e+00 0.00e+00]\n",
            " [0.00e+00 0.00e+00]\n",
            " [3.81e+02 3.60e+02]\n",
            " [6.19e+02 4.20e+02]\n",
            " [0.00e+00 0.00e+00]\n",
            " [9.00e+00 0.00e+00]\n",
            " [1.11e+03 8.70e+02]\n",
            " [1.92e+03 2.27e+03]\n",
            " [1.02e+03 5.50e+02]\n",
            " [0.00e+00 0.00e+00]\n",
            " [6.92e+02 8.40e+02]\n",
            " [0.00e+00 0.00e+00]\n",
            " [1.15e+03 1.45e+03]\n",
            " [0.00e+00 0.00e+00]\n",
            " [0.00e+00 0.00e+00]\n",
            " [0.00e+00 0.00e+00]\n",
            " [0.00e+00 0.00e+00]\n",
            " [0.00e+00 0.00e+00]\n",
            " [0.00e+00 0.00e+00]\n",
            " [0.00e+00 0.00e+00]\n",
            " [3.55e+03 3.56e+03]\n",
            " [0.00e+00 0.00e+00]\n",
            " [3.43e+03 3.34e+03]\n",
            " [7.26e+02 8.20e+02]\n",
            " [9.84e+02 1.15e+03]\n",
            " [1.03e+03 1.57e+03]\n",
            " [1.50e+03 1.23e+03]\n",
            " [0.00e+00 0.00e+00]\n",
            " [1.59e+03 1.89e+03]\n",
            " [5.26e+02 7.20e+02]\n",
            " [3.68e+02 5.10e+02]\n",
            " [9.00e+00 0.00e+00]\n",
            " [0.00e+00 0.00e+00]\n",
            " [0.00e+00 0.00e+00]\n",
            " [5.00e+00 3.00e+01]\n",
            " [2.59e+02 1.60e+02]\n",
            " [7.95e+02 2.80e+02]\n",
            " [4.23e+02 4.00e+02]\n",
            " [4.97e+02 4.40e+02]\n",
            " [1.21e+03 1.89e+03]\n",
            " [1.29e+03 1.15e+03]\n",
            " [1.67e+03 1.31e+03]\n",
            " [0.00e+00 0.00e+00]\n",
            " [6.00e+00 0.00e+00]\n",
            " [6.00e+00 0.00e+00]\n",
            " [0.00e+00 0.00e+00]\n",
            " [0.00e+00 0.00e+00]\n",
            " [2.10e+00 0.00e+00]\n",
            " [0.00e+00 0.00e+00]\n",
            " [1.58e+03 1.28e+03]\n",
            " [0.00e+00 0.00e+00]\n",
            " [0.00e+00 0.00e+00]\n",
            " [1.11e+03 1.46e+03]\n",
            " [0.00e+00 0.00e+00]\n",
            " [3.29e+02 1.90e+02]\n",
            " [3.64e+02 6.20e+02]\n",
            " [0.00e+00 0.00e+00]\n",
            " [7.38e+02 6.00e+02]\n",
            " [7.62e+02 5.00e+02]\n",
            " [1.24e+03 1.26e+03]\n",
            " [2.96e+02 2.50e+02]\n",
            " [8.99e+02 7.10e+02]\n",
            " [3.32e+02 1.90e+02]\n",
            " [1.08e+03 1.36e+03]\n",
            " [2.06e+03 1.88e+03]\n",
            " [4.01e+02 9.60e+02]\n",
            " [0.00e+00 0.00e+00]\n",
            " [3.69e+03 4.66e+03]\n",
            " [5.50e+01 1.50e+02]\n",
            " [0.00e+00 0.00e+00]\n",
            " [2.08e+02 1.90e+02]\n",
            " [0.00e+00 0.00e+00]\n",
            " [2.41e+02 4.90e+02]\n",
            " [7.09e+02 8.50e+02]\n",
            " [0.00e+00 0.00e+00]\n",
            " [0.00e+00 0.00e+00]\n",
            " [1.26e+03 1.82e+03]\n",
            " [0.00e+00 0.00e+00]\n",
            " [9.00e+00 0.00e+00]\n",
            " [6.85e+02 8.90e+02]\n",
            " [0.00e+00 0.00e+00]\n",
            " [3.86e+02 7.70e+02]\n",
            " [1.46e+02 2.80e+02]\n",
            " [5.37e+02 3.10e+02]\n",
            " [0.00e+00 0.00e+00]\n",
            " [7.89e+02 6.40e+02]\n",
            " [0.00e+00 3.00e+01]\n",
            " [5.43e+03 4.00e+03]\n",
            " [1.00e+01 0.00e+00]\n",
            " [3.36e+00 0.00e+00]\n",
            " [0.00e+00 2.00e+01]\n",
            " [4.84e+02 1.80e+02]\n",
            " [7.60e+01 1.20e+02]\n",
            " [0.00e+00 0.00e+00]\n",
            " [2.18e+03 2.14e+03]\n",
            " [5.36e+02 3.70e+02]\n",
            " [0.00e+00 0.00e+00]\n",
            " [0.00e+00 0.00e+00]\n",
            " [0.00e+00 0.00e+00]\n",
            " [1.90e+03 2.39e+03]\n",
            " [0.00e+00 0.00e+00]\n",
            " [0.00e+00 0.00e+00]\n",
            " [1.14e+03 1.40e+03]\n",
            " [2.07e+02 1.40e+02]\n",
            " [1.25e+03 1.18e+03]\n",
            " [0.00e+00 0.00e+00]\n",
            " [5.56e+02 4.00e+02]\n",
            " [4.10e+01 7.00e+01]\n",
            " [1.93e+03 3.02e+03]\n",
            " [2.26e+02 2.90e+02]\n",
            " [0.00e+00 0.00e+00]\n",
            " [0.00e+00 0.00e+00]\n",
            " [0.00e+00 0.00e+00]\n",
            " [3.01e+03 4.13e+03]\n",
            " [2.45e+03 2.27e+03]\n",
            " [0.00e+00 0.00e+00]\n",
            " [0.00e+00 3.00e+01]\n",
            " [0.00e+00 1.00e+01]\n",
            " [0.00e+00 0.00e+00]\n",
            " [0.00e+00 0.00e+00]\n",
            " [1.00e+00 0.00e+00]\n",
            " [1.55e+03 1.15e+03]\n",
            " [9.00e+02 1.24e+03]\n",
            " [0.00e+00 0.00e+00]\n",
            " [2.00e+00 0.00e+00]\n",
            " [0.00e+00 0.00e+00]\n",
            " [0.00e+00 0.00e+00]\n",
            " [0.00e+00 0.00e+00]\n",
            " [0.00e+00 0.00e+00]\n",
            " [0.00e+00 0.00e+00]\n",
            " [0.00e+00 0.00e+00]\n",
            " [3.24e+02 4.90e+02]\n",
            " [2.08e+02 3.50e+02]\n",
            " [0.00e+00 0.00e+00]\n",
            " [0.00e+00 0.00e+00]\n",
            " [2.76e+02 3.70e+02]\n",
            " [1.00e+01 0.00e+00]\n",
            " [0.00e+00 0.00e+00]\n",
            " [5.07e+02 1.90e+02]\n",
            " [0.00e+00 0.00e+00]\n",
            " [6.18e+02 7.00e+02]\n",
            " [1.20e+01 0.00e+00]\n",
            " [1.83e+02 1.50e+02]\n",
            " [4.01e+02 5.20e+02]\n",
            " [5.60e+01 1.10e+02]\n",
            " [0.00e+00 0.00e+00]\n",
            " [6.90e+02 6.10e+02]\n",
            " [2.58e+02 1.00e+02]\n",
            " [1.66e+02 2.10e+02]\n",
            " [2.31e+03 2.06e+03]\n",
            " [5.23e+03 3.90e+03]\n",
            " [5.60e+02 7.30e+02]]\n"
          ]
        }
      ]
    },
    {
      "cell_type": "markdown",
      "source": [
        "### Evaluating the Model Performance"
      ],
      "metadata": {
        "id": "d8KmrkdZz5no"
      }
    },
    {
      "cell_type": "code",
      "source": [
        "from sklearn.metrics import r2_score\n",
        "r2_score(y_test, y_pred_rf)"
      ],
      "metadata": {
        "colab": {
          "base_uri": "https://localhost:8080/"
        },
        "id": "5ZtBkS7QzzLI",
        "outputId": "fc25835c-ada8-4ef2-9826-8413accff473"
      },
      "execution_count": 96,
      "outputs": [
        {
          "output_type": "execute_result",
          "data": {
            "text/plain": [
              "0.9024199038047211"
            ]
          },
          "metadata": {},
          "execution_count": 96
        }
      ]
    },
    {
      "cell_type": "markdown",
      "source": [
        "### Visualize Random Forest Model"
      ],
      "metadata": {
        "id": "mCMHvLnw07Rp"
      }
    },
    {
      "cell_type": "code",
      "source": [
        "plt.figure(figsize=(8, 6))\n",
        "plt.scatter(y_test, y_pred_rf)\n",
        "plt.xlabel('Actual Reimbursment')\n",
        "plt.ylabel('Predicted Reimbursment')\n",
        "plt.title('Actual vs. Predicted Sum of Medicare fee–for–service reimbursements made during the calendar year (Random Forest)')\n",
        "plt.plot([y_test.min(), y_test.max()], [y_test.min(), y_test.max()], 'k--', lw=2)\n",
        "plt.grid(True)\n",
        "plt.show()"
      ],
      "metadata": {
        "colab": {
          "base_uri": "https://localhost:8080/",
          "height": 564
        },
        "id": "hLKvYO2M06Ee",
        "outputId": "39c2e497-6c8b-43c9-810f-eec9e9b5c93c"
      },
      "execution_count": 97,
      "outputs": [
        {
          "output_type": "display_data",
          "data": {
            "text/plain": [
              "<Figure size 800x600 with 1 Axes>"
            ],
            "image/png": "[encoded data removed]"
          },
          "metadata": {}
        }
      ]
    },
    {
      "cell_type": "markdown",
      "source": [
        "## Training the XG Boost model on the whole dataset"
      ],
      "metadata": {
        "id": "uXQlyh5b1hhp"
      }
    },
    {
      "cell_type": "code",
      "source": [
        "import xgboost as xgb\n",
        "xmodel = xgb.XGBRegressor(objective ='reg:squarederror', colsample_bytree = 0.3, learning_rate = 0.1,\n",
        "                max_depth = 5, alpha = 10, n_estimators = 100) # Adjust hyperparameters as needed\n",
        "xmodel.fit(X_train, y_train)"
      ],
      "metadata": {
        "colab": {
          "base_uri": "https://localhost:8080/",
          "height": 248
        },
        "id": "CUBbKelP2B0_",
        "outputId": "4d39d735-31e4-417d-b0cd-08981da1245e"
      },
      "execution_count": 69,
      "outputs": [
        {
          "output_type": "execute_result",
          "data": {
            "text/plain": [
              "XGBRegressor(alpha=10, base_score=None, booster=None, callbacks=None,\n",
              "             colsample_bylevel=None, colsample_bynode=None,\n",
              "             colsample_bytree=0.3, device=None, early_stopping_rounds=None,\n",
              "             enable_categorical=False, eval_metric=None, feature_types=None,\n",
              "             gamma=None, grow_policy=None, importance_type=None,\n",
              "             interaction_constraints=None, learning_rate=0.1, max_bin=None,\n",
              "             max_cat_threshold=None, max_cat_to_onehot=None,\n",
              "             max_delta_step=None, max_depth=5, max_leaves=None,\n",
              "             min_child_weight=None, missing=nan, monotone_constraints=None,\n",
              "             multi_strategy=None, n_estimators=100, n_jobs=None,\n",
              "             num_parallel_tree=None, ...)"
            ],
            "text/html": [
              "<style>#sk-container-id-6 {color: black;background-color: white;}#sk-container-id-6 pre{padding: 0;}#sk-container-id-6 div.sk-toggleable {background-color: white;}#sk-container-id-6 label.sk-toggleable__label {cursor: pointer;display: block;width: 100%;margin-bottom: 0;padding: 0.3em;box-sizing: border-box;text-align: center;}#sk-container-id-6 label.sk-toggleable__label-arrow:before {content: \"▸\";float: left;margin-right: 0.25em;color: #696969;}#sk-container-id-6 label.sk-toggleable__label-arrow:hover:before {color: black;}#sk-container-id-6 div.sk-estimator:hover label.sk-toggleable__label-arrow:before {color: black;}#sk-container-id-6 div.sk-toggleable__content {max-height: 0;max-width: 0;overflow: hidden;text-align: left;background-color: #f0f8ff;}#sk-container-id-6 div.sk-toggleable__content pre {margin: 0.2em;color: black;border-radius: 0.25em;background-color: #f0f8ff;}#sk-container-id-6 input.sk-toggleable__control:checked~div.sk-toggleable__content {max-height: 200px;max-width: 100%;overflow: auto;}#sk-container-id-6 input.sk-toggleable__control:checked~label.sk-toggleable__label-arrow:before {content: \"▾\";}#sk-container-id-6 div.sk-estimator input.sk-toggleable__control:checked~label.sk-toggleable__label {background-color: #d4ebff;}#sk-container-id-6 div.sk-label input.sk-toggleable__control:checked~label.sk-toggleable__label {background-color: #d4ebff;}#sk-container-id-6 input.sk-hidden--visually {border: 0;clip: rect(1px 1px 1px 1px);clip: rect(1px, 1px, 1px, 1px);height: 1px;margin: -1px;overflow: hidden;padding: 0;position: absolute;width: 1px;}#sk-container-id-6 div.sk-estimator {font-family: monospace;background-color: #f0f8ff;border: 1px dotted black;border-radius: 0.25em;box-sizing: border-box;margin-bottom: 0.5em;}#sk-container-id-6 div.sk-estimator:hover {background-color: #d4ebff;}#sk-container-id-6 div.sk-parallel-item::after {content: \"\";width: 100%;border-bottom: 1px solid gray;flex-grow: 1;}#sk-container-id-6 div.sk-label:hover label.sk-toggleable__label {background-color: #d4ebff;}#sk-container-id-6 div.sk-serial::before {content: \"\";position: absolute;border-left: 1px solid gray;box-sizing: border-box;top: 0;bottom: 0;left: 50%;z-index: 0;}#sk-container-id-6 div.sk-serial {display: flex;flex-direction: column;align-items: center;background-color: white;padding-right: 0.2em;padding-left: 0.2em;position: relative;}#sk-container-id-6 div.sk-item {position: relative;z-index: 1;}#sk-container-id-6 div.sk-parallel {display: flex;align-items: stretch;justify-content: center;background-color: white;position: relative;}#sk-container-id-6 div.sk-item::before, #sk-container-id-6 div.sk-parallel-item::before {content: \"\";position: absolute;border-left: 1px solid gray;box-sizing: border-box;top: 0;bottom: 0;left: 50%;z-index: -1;}#sk-container-id-6 div.sk-parallel-item {display: flex;flex-direction: column;z-index: 1;position: relative;background-color: white;}#sk-container-id-6 div.sk-parallel-item:first-child::after {align-self: flex-end;width: 50%;}#sk-container-id-6 div.sk-parallel-item:last-child::after {align-self: flex-start;width: 50%;}#sk-container-id-6 div.sk-parallel-item:only-child::after {width: 0;}#sk-container-id-6 div.sk-dashed-wrapped {border: 1px dashed gray;margin: 0 0.4em 0.5em 0.4em;box-sizing: border-box;padding-bottom: 0.4em;background-color: white;}#sk-container-id-6 div.sk-label label {font-family: monospace;font-weight: bold;display: inline-block;line-height: 1.2em;}#sk-container-id-6 div.sk-label-container {text-align: center;}#sk-container-id-6 div.sk-container {/* jupyter's `normalize.less` sets `[hidden] { display: none; }` but bootstrap.min.css set `[hidden] { display: none !important; }` so we also need the `!important` here to be able to override the default hidden behavior on the sphinx rendered scikit-learn.org. See: https://github.com/scikit-learn/scikit-learn/issues/21755 */display: inline-block !important;position: relative;}#sk-container-id-6 div.sk-text-repr-fallback {display: none;}</style><div id=\"sk-container-id-6\" class=\"sk-top-container\"><div class=\"sk-text-repr-fallback\"><pre>XGBRegressor(alpha=10, base_score=None, booster=None, callbacks=None,\n",
              "             colsample_bylevel=None, colsample_bynode=None,\n",
              "             colsample_bytree=0.3, device=None, early_stopping_rounds=None,\n",
              "             enable_categorical=False, eval_metric=None, feature_types=None,\n",
              "             gamma=None, grow_policy=None, importance_type=None,\n",
              "             interaction_constraints=None, learning_rate=0.1, max_bin=None,\n",
              "             max_cat_threshold=None, max_cat_to_onehot=None,\n",
              "             max_delta_step=None, max_depth=5, max_leaves=None,\n",
              "             min_child_weight=None, missing=nan, monotone_constraints=None,\n",
              "             multi_strategy=None, n_estimators=100, n_jobs=None,\n",
              "             num_parallel_tree=None, ...)</pre><b>In a Jupyter environment, please rerun this cell to show the HTML representation or trust the notebook. <br />On GitHub, the HTML representation is unable to render, please try loading this page with nbviewer.org.</b></div><div class=\"sk-container\" hidden><div class=\"sk-item\"><div class=\"sk-estimator sk-toggleable\"><input class=\"sk-toggleable__control sk-hidden--visually\" id=\"sk-estimator-id-6\" type=\"checkbox\" checked><label for=\"sk-estimator-id-6\" class=\"sk-toggleable__label sk-toggleable__label-arrow\">XGBRegressor</label><div class=\"sk-toggleable__content\"><pre>XGBRegressor(alpha=10, base_score=None, booster=None, callbacks=None,\n",
              "             colsample_bylevel=None, colsample_bynode=None,\n",
              "             colsample_bytree=0.3, device=None, early_stopping_rounds=None,\n",
              "             enable_categorical=False, eval_metric=None, feature_types=None,\n",
              "             gamma=None, grow_policy=None, importance_type=None,\n",
              "             interaction_constraints=None, learning_rate=0.1, max_bin=None,\n",
              "             max_cat_threshold=None, max_cat_to_onehot=None,\n",
              "             max_delta_step=None, max_depth=5, max_leaves=None,\n",
              "             min_child_weight=None, missing=nan, monotone_constraints=None,\n",
              "             multi_strategy=None, n_estimators=100, n_jobs=None,\n",
              "             num_parallel_tree=None, ...)</pre></div></div></div></div></div>"
            ]
          },
          "metadata": {},
          "execution_count": 69
        }
      ]
    },
    {
      "cell_type": "markdown",
      "source": [
        "### Predicting the Test set results"
      ],
      "metadata": {
        "id": "m0ppbTW92BFh"
      }
    },
    {
      "cell_type": "code",
      "source": [
        "y_pred_x = xmodel.predict(X_test)\n",
        "np.set_printoptions(precision=2)\n",
        "print(np.concatenate((y_pred_x.reshape(len(y_pred_x),1), y_test.reshape(len(y_test),1)),1))"
      ],
      "metadata": {
        "id": "XNsdqeBD2gUI",
        "colab": {
          "base_uri": "https://localhost:8080/"
        },
        "outputId": "fed747ca-ee2c-46f3-d033-adfba88b02be"
      },
      "execution_count": 98,
      "outputs": [
        {
          "output_type": "stream",
          "name": "stdout",
          "text": [
            "[[ 2.08e+03  1.27e+03]\n",
            " [ 3.49e+03  3.73e+03]\n",
            " [ 9.00e+02  1.18e+03]\n",
            " [ 5.31e+02  6.20e+02]\n",
            " [-6.76e+00  0.00e+00]\n",
            " [ 8.68e+02  1.00e+03]\n",
            " [-2.76e+01  0.00e+00]\n",
            " [ 1.18e+03  7.90e+02]\n",
            " [ 4.02e+02  6.30e+02]\n",
            " [ 3.66e+02  4.10e+02]\n",
            " [ 3.42e+01  0.00e+00]\n",
            " [ 5.41e+00  0.00e+00]\n",
            " [ 9.10e-01  0.00e+00]\n",
            " [ 1.66e+02  5.00e+02]\n",
            " [ 3.46e+02  1.00e+02]\n",
            " [ 5.11e-01  0.00e+00]\n",
            " [ 1.22e+03  9.40e+02]\n",
            " [ 1.19e+02  1.90e+02]\n",
            " [ 1.26e+01  0.00e+00]\n",
            " [ 1.75e+03  1.89e+03]\n",
            " [ 1.41e+02  1.40e+02]\n",
            " [ 2.56e+02  1.00e+01]\n",
            " [ 1.81e-01  0.00e+00]\n",
            " [ 1.12e+02  1.50e+02]\n",
            " [ 2.74e+02  3.50e+02]\n",
            " [ 6.32e+02  1.22e+03]\n",
            " [ 1.28e+02  1.90e+02]\n",
            " [ 3.23e+03  2.37e+03]\n",
            " [ 3.06e+00  0.00e+00]\n",
            " [ 1.62e+02  1.60e+02]\n",
            " [ 3.95e+00  0.00e+00]\n",
            " [ 3.26e+03  2.61e+03]\n",
            " [ 6.60e+01  8.00e+01]\n",
            " [ 6.27e+02  1.05e+03]\n",
            " [ 1.80e+01  0.00e+00]\n",
            " [ 1.56e+03  2.36e+03]\n",
            " [ 4.91e+02  3.10e+02]\n",
            " [ 2.75e+03  2.97e+03]\n",
            " [ 2.27e+01  0.00e+00]\n",
            " [ 4.36e+02  1.80e+02]\n",
            " [ 7.19e+02  5.90e+02]\n",
            " [ 7.43e+01  0.00e+00]\n",
            " [ 2.76e+02  3.80e+02]\n",
            " [ 1.73e+02  2.40e+02]\n",
            " [ 9.54e+02  1.05e+03]\n",
            " [ 6.26e+02  7.00e+02]\n",
            " [ 4.23e+01  3.00e+01]\n",
            " [ 5.41e+00  0.00e+00]\n",
            " [ 1.40e+02  4.00e+01]\n",
            " [-2.17e+00  0.00e+00]\n",
            " [-3.59e+00  1.50e+02]\n",
            " [ 1.76e+01  0.00e+00]\n",
            " [ 4.05e+00  0.00e+00]\n",
            " [ 1.02e+03  1.30e+03]\n",
            " [ 1.83e+03  8.90e+02]\n",
            " [ 5.28e+02  8.00e+02]\n",
            " [ 1.13e+01  0.00e+00]\n",
            " [ 7.11e+02  3.60e+02]\n",
            " [-2.48e+01  0.00e+00]\n",
            " [ 1.27e+01  0.00e+00]\n",
            " [ 8.37e-02  0.00e+00]\n",
            " [ 2.98e+01  0.00e+00]\n",
            " [ 5.41e+00  0.00e+00]\n",
            " [ 1.09e+03  9.70e+02]\n",
            " [ 1.38e+03  1.37e+03]\n",
            " [ 6.38e+02  6.90e+02]\n",
            " [-7.67e+00  0.00e+00]\n",
            " [ 2.63e+01  0.00e+00]\n",
            " [ 1.80e+02  1.30e+02]\n",
            " [ 6.17e+02  1.15e+03]\n",
            " [ 9.03e+01  0.00e+00]\n",
            " [ 2.02e+03  3.50e+03]\n",
            " [ 1.49e+01  0.00e+00]\n",
            " [ 1.35e+03  1.28e+03]\n",
            " [ 7.15e+02  5.30e+02]\n",
            " [ 7.52e+01  1.10e+02]\n",
            " [ 3.90e+00  0.00e+00]\n",
            " [ 7.05e+02  7.40e+02]\n",
            " [ 2.31e+01  0.00e+00]\n",
            " [ 3.27e+01  0.00e+00]\n",
            " [-3.09e+00  0.00e+00]\n",
            " [ 7.77e+01  0.00e+00]\n",
            " [ 3.60e+02  2.10e+02]\n",
            " [ 9.10e+02  1.37e+03]\n",
            " [ 1.77e+00  0.00e+00]\n",
            " [ 1.74e+02  6.00e+01]\n",
            " [ 2.11e+03  1.71e+03]\n",
            " [ 2.43e+00  0.00e+00]\n",
            " [ 1.79e+01  0.00e+00]\n",
            " [ 4.49e+03  4.26e+03]\n",
            " [ 1.02e+02  0.00e+00]\n",
            " [ 1.31e+02  2.50e+02]\n",
            " [ 5.87e-01  0.00e+00]\n",
            " [ 5.68e+01  1.40e+02]\n",
            " [ 1.47e+03  5.00e+02]\n",
            " [ 8.76e+02  1.10e+02]\n",
            " [ 1.95e+03  1.87e+03]\n",
            " [ 9.09e+01  1.60e+02]\n",
            " [ 2.24e+02  1.20e+02]\n",
            " [ 1.26e+02  0.00e+00]\n",
            " [-1.41e+01  0.00e+00]\n",
            " [-8.13e+00  0.00e+00]\n",
            " [ 1.14e+03  1.02e+03]\n",
            " [ 3.96e+02  1.90e+02]\n",
            " [ 2.02e+03  1.40e+03]\n",
            " [ 1.92e+00  0.00e+00]\n",
            " [ 2.43e+00  0.00e+00]\n",
            " [ 4.71e+01  0.00e+00]\n",
            " [ 6.04e+02  1.30e+02]\n",
            " [ 2.42e+02  1.50e+02]\n",
            " [ 2.44e+02  1.00e+02]\n",
            " [-1.53e+01  0.00e+00]\n",
            " [ 1.53e+02  1.30e+02]\n",
            " [ 5.11e-01  0.00e+00]\n",
            " [ 1.45e+03  2.42e+03]\n",
            " [ 5.41e+02  4.90e+02]\n",
            " [ 2.97e+00  0.00e+00]\n",
            " [ 4.69e+02  1.80e+02]\n",
            " [ 2.95e+02  5.70e+02]\n",
            " [ 1.32e+01  0.00e+00]\n",
            " [ 7.45e+02  1.22e+03]\n",
            " [ 7.88e+02  1.04e+03]\n",
            " [-3.62e+01  0.00e+00]\n",
            " [ 1.66e+01  0.00e+00]\n",
            " [ 9.00e+01  0.00e+00]\n",
            " [ 1.19e+03  1.02e+03]\n",
            " [-1.73e-01  0.00e+00]\n",
            " [ 1.12e+02  0.00e+00]\n",
            " [ 3.89e+02  4.40e+02]\n",
            " [ 1.49e+01  0.00e+00]\n",
            " [ 3.27e+02  4.90e+02]\n",
            " [ 1.26e+01  0.00e+00]\n",
            " [ 5.64e+01  4.00e+01]\n",
            " [-7.88e-01  0.00e+00]\n",
            " [-5.54e+00  0.00e+00]\n",
            " [ 1.03e+03  1.16e+03]\n",
            " [ 3.05e+02  4.40e+02]\n",
            " [ 1.61e+03  2.30e+03]\n",
            " [ 4.84e+02  2.20e+02]\n",
            " [ 4.68e+02  1.60e+02]\n",
            " [-3.67e+00  3.00e+01]\n",
            " [ 4.43e+02  7.60e+02]\n",
            " [ 5.63e+02  4.10e+02]\n",
            " [-9.58e+00  0.00e+00]\n",
            " [ 1.30e+02  0.00e+00]\n",
            " [ 4.25e-01  0.00e+00]\n",
            " [-5.89e+00  0.00e+00]\n",
            " [ 1.54e+02  0.00e+00]\n",
            " [ 2.93e+01  0.00e+00]\n",
            " [ 1.18e+01  0.00e+00]\n",
            " [ 2.68e+03  1.92e+03]\n",
            " [ 6.76e+02  4.10e+02]\n",
            " [-1.08e-01  0.00e+00]\n",
            " [-1.65e+01  0.00e+00]\n",
            " [ 1.25e+02  0.00e+00]\n",
            " [ 7.21e+01  0.00e+00]\n",
            " [ 3.60e+01  0.00e+00]\n",
            " [ 4.75e+02  1.08e+03]\n",
            " [ 2.45e+03  1.71e+03]\n",
            " [ 2.43e+00  0.00e+00]\n",
            " [ 1.71e+01  0.00e+00]\n",
            " [ 5.78e+01  0.00e+00]\n",
            " [ 2.49e+03  2.74e+03]\n",
            " [-1.25e+01  0.00e+00]\n",
            " [ 5.82e+02  1.80e+02]\n",
            " [ 6.13e+02  7.80e+02]\n",
            " [ 4.41e+02  4.10e+02]\n",
            " [ 8.83e+00  0.00e+00]\n",
            " [ 1.42e+02  2.10e+02]\n",
            " [ 1.80e+02  2.70e+02]\n",
            " [-9.28e+00  0.00e+00]\n",
            " [ 5.14e+02  3.80e+02]\n",
            " [ 2.09e+02  8.00e+01]\n",
            " [ 1.53e+03  1.19e+03]\n",
            " [ 1.08e+02  4.00e+01]\n",
            " [ 5.42e+01  3.00e+01]\n",
            " [ 2.06e+02  1.30e+02]\n",
            " [ 2.05e+03  1.37e+03]\n",
            " [ 1.20e+03  1.84e+03]\n",
            " [ 2.08e+02  0.00e+00]\n",
            " [ 3.55e+00  0.00e+00]\n",
            " [ 1.15e+03  6.80e+02]\n",
            " [ 1.38e+03  1.18e+03]\n",
            " [ 5.41e+00  0.00e+00]\n",
            " [ 1.82e+03  1.98e+03]\n",
            " [ 4.57e+02  4.00e+02]\n",
            " [ 1.84e+01  5.00e+01]\n",
            " [ 5.47e+01  0.00e+00]\n",
            " [ 4.50e+01  1.60e+02]\n",
            " [ 4.11e+01  5.00e+01]\n",
            " [ 9.90e+02  1.26e+03]\n",
            " [ 4.15e+00  0.00e+00]\n",
            " [ 2.20e+03  2.76e+03]\n",
            " [ 2.69e+02  3.50e+02]\n",
            " [ 5.78e+01  0.00e+00]\n",
            " [ 1.06e+02  1.40e+02]\n",
            " [ 2.08e+03  2.71e+03]\n",
            " [ 1.05e+03  1.13e+03]\n",
            " [-2.07e+00  0.00e+00]\n",
            " [ 1.72e+03  2.90e+02]\n",
            " [ 5.27e+00  0.00e+00]\n",
            " [ 3.16e+02  3.70e+02]\n",
            " [ 1.78e+03  1.89e+03]\n",
            " [ 1.87e+03  1.74e+03]\n",
            " [-3.64e+00  0.00e+00]\n",
            " [ 5.81e+02  5.30e+02]\n",
            " [ 3.06e+00  0.00e+00]\n",
            " [-3.64e+00  0.00e+00]\n",
            " [ 3.82e+02  6.20e+02]\n",
            " [ 1.24e+01  0.00e+00]\n",
            " [ 2.24e+03  2.39e+03]\n",
            " [ 1.84e+03  2.71e+03]\n",
            " [ 8.11e+02  1.80e+02]\n",
            " [ 1.75e+03  1.86e+03]\n",
            " [ 1.81e+02  2.80e+02]\n",
            " [ 6.60e-01  0.00e+00]\n",
            " [ 1.02e+03  1.86e+03]\n",
            " [ 1.79e+01  0.00e+00]\n",
            " [-6.72e+00  0.00e+00]\n",
            " [ 4.10e+01  0.00e+00]\n",
            " [-6.72e+00  0.00e+00]\n",
            " [ 4.21e+01  0.00e+00]\n",
            " [ 6.92e+02  5.60e+02]\n",
            " [ 8.77e+00  0.00e+00]\n",
            " [-2.36e+01  0.00e+00]\n",
            " [ 9.45e+02  5.60e+02]\n",
            " [ 2.81e+03  2.95e+03]\n",
            " [ 1.58e+02  3.00e+02]\n",
            " [ 1.02e+03  1.18e+03]\n",
            " [ 1.51e+03  1.11e+03]\n",
            " [ 4.23e+01  0.00e+00]\n",
            " [ 9.59e+02  8.40e+02]\n",
            " [ 5.70e+02  5.60e+02]\n",
            " [ 2.08e+02  1.80e+02]\n",
            " [ 1.09e+03  1.59e+03]\n",
            " [ 9.51e+01  4.20e+02]\n",
            " [ 1.96e+00  0.00e+00]\n",
            " [-1.73e-01  0.00e+00]\n",
            " [ 2.44e+00  0.00e+00]\n",
            " [-5.15e+00  0.00e+00]\n",
            " [-6.07e-02  0.00e+00]\n",
            " [ 1.86e+03  1.55e+03]\n",
            " [ 1.27e+02  2.10e+02]\n",
            " [ 5.73e+02  3.20e+02]\n",
            " [-1.73e-01  0.00e+00]\n",
            " [ 1.42e+03  6.10e+02]\n",
            " [ 1.60e+03  1.04e+03]\n",
            " [ 4.55e+02  5.60e+02]\n",
            " [ 2.72e+02  7.00e+01]\n",
            " [ 9.50e+02  4.00e+02]\n",
            " [ 5.38e+02  4.60e+02]\n",
            " [ 1.25e+02  1.90e+02]\n",
            " [ 1.66e+02  1.50e+02]\n",
            " [ 5.95e+03  6.55e+03]\n",
            " [ 3.86e+02  2.00e+02]\n",
            " [ 4.57e+02  4.10e+02]\n",
            " [ 2.41e+02  3.40e+02]\n",
            " [ 2.79e+00  0.00e+00]\n",
            " [ 2.42e+02  5.90e+02]\n",
            " [ 2.32e+01  0.00e+00]\n",
            " [ 2.34e+03  2.05e+03]\n",
            " [ 2.35e+02  8.00e+01]\n",
            " [ 1.65e+00  0.00e+00]\n",
            " [ 2.91e+02  5.00e+01]\n",
            " [ 3.96e+01  0.00e+00]\n",
            " [ 3.35e+02  7.00e+01]\n",
            " [ 1.18e+03  8.40e+02]\n",
            " [ 5.41e+00  0.00e+00]\n",
            " [ 8.00e+01  1.20e+02]\n",
            " [ 1.35e+03  1.60e+03]\n",
            " [ 2.41e+02  2.90e+02]\n",
            " [ 3.36e+01  8.00e+01]\n",
            " [ 1.11e+02  1.70e+02]\n",
            " [ 2.10e+00  0.00e+00]\n",
            " [-1.67e+00  0.00e+00]\n",
            " [ 1.81e+01  0.00e+00]\n",
            " [ 1.06e+01  0.00e+00]\n",
            " [ 3.16e+02  4.60e+02]\n",
            " [ 5.40e+02  8.00e+02]\n",
            " [ 1.26e+01  0.00e+00]\n",
            " [-2.41e+00  0.00e+00]\n",
            " [ 4.21e+02  3.20e+02]\n",
            " [ 4.04e+00  0.00e+00]\n",
            " [ 6.20e+02  2.20e+02]\n",
            " [ 5.89e+01  0.00e+00]\n",
            " [ 9.61e+01  2.50e+02]\n",
            " [ 4.38e+02  6.30e+02]\n",
            " [ 8.56e+02  1.22e+03]\n",
            " [ 9.24e+00  0.00e+00]\n",
            " [ 1.17e+02  3.00e+01]\n",
            " [ 1.11e+02  2.90e+02]\n",
            " [ 7.85e+01  0.00e+00]\n",
            " [ 2.15e+01  0.00e+00]\n",
            " [ 7.74e+00  0.00e+00]\n",
            " [-3.64e+00  0.00e+00]\n",
            " [ 1.78e+03  2.52e+03]\n",
            " [ 2.43e+00  0.00e+00]\n",
            " [ 5.07e+00  0.00e+00]\n",
            " [ 5.70e+02  6.80e+02]\n",
            " [ 3.74e+01  6.00e+01]\n",
            " [ 1.06e+02  0.00e+00]\n",
            " [ 2.53e+01  0.00e+00]\n",
            " [ 1.36e+02  0.00e+00]\n",
            " [-2.79e+01  0.00e+00]\n",
            " [ 5.82e+02  3.60e+02]\n",
            " [ 5.66e+02  4.20e+02]\n",
            " [ 2.39e+01  0.00e+00]\n",
            " [-3.64e+00  0.00e+00]\n",
            " [ 1.20e+03  8.70e+02]\n",
            " [ 2.23e+03  2.27e+03]\n",
            " [ 9.79e+02  5.50e+02]\n",
            " [-4.20e+00  0.00e+00]\n",
            " [ 7.51e+02  8.40e+02]\n",
            " [ 1.10e+01  0.00e+00]\n",
            " [ 1.33e+03  1.45e+03]\n",
            " [ 5.69e+00  0.00e+00]\n",
            " [-2.07e+00  0.00e+00]\n",
            " [ 9.09e+00  0.00e+00]\n",
            " [-6.91e-02  0.00e+00]\n",
            " [-6.36e+00  0.00e+00]\n",
            " [ 2.96e+01  0.00e+00]\n",
            " [ 2.19e+00  0.00e+00]\n",
            " [ 2.94e+03  3.56e+03]\n",
            " [ 3.57e+00  0.00e+00]\n",
            " [ 2.78e+03  3.34e+03]\n",
            " [ 4.82e+02  8.20e+02]\n",
            " [ 1.03e+03  1.15e+03]\n",
            " [ 1.10e+03  1.57e+03]\n",
            " [ 1.39e+03  1.23e+03]\n",
            " [ 1.04e+01  0.00e+00]\n",
            " [ 1.65e+03  1.89e+03]\n",
            " [ 6.07e+02  7.20e+02]\n",
            " [ 3.77e+02  5.10e+02]\n",
            " [ 2.97e+01  0.00e+00]\n",
            " [ 7.73e+00  0.00e+00]\n",
            " [ 7.90e+00  0.00e+00]\n",
            " [ 1.39e+02  3.00e+01]\n",
            " [ 1.80e+02  1.60e+02]\n",
            " [ 9.63e+02  2.80e+02]\n",
            " [ 4.86e+02  4.00e+02]\n",
            " [ 6.78e+02  4.40e+02]\n",
            " [ 1.42e+03  1.89e+03]\n",
            " [ 1.06e+03  1.15e+03]\n",
            " [ 1.48e+03  1.31e+03]\n",
            " [ 1.64e+01  0.00e+00]\n",
            " [ 9.95e+01  0.00e+00]\n",
            " [-5.15e+00  0.00e+00]\n",
            " [ 2.03e+01  0.00e+00]\n",
            " [-4.69e+01  0.00e+00]\n",
            " [ 2.96e+01  0.00e+00]\n",
            " [-3.52e+00  0.00e+00]\n",
            " [ 1.46e+03  1.28e+03]\n",
            " [ 1.14e+02  0.00e+00]\n",
            " [ 8.82e+01  0.00e+00]\n",
            " [ 1.43e+03  1.46e+03]\n",
            " [ 2.19e+00  0.00e+00]\n",
            " [ 5.50e+02  1.90e+02]\n",
            " [ 4.01e+02  6.20e+02]\n",
            " [ 3.59e+01  0.00e+00]\n",
            " [ 9.97e+02  6.00e+02]\n",
            " [ 8.18e+02  5.00e+02]\n",
            " [ 1.13e+03  1.26e+03]\n",
            " [ 4.28e+02  2.50e+02]\n",
            " [ 8.63e+02  7.10e+02]\n",
            " [ 3.94e+02  1.90e+02]\n",
            " [ 1.04e+03  1.36e+03]\n",
            " [ 1.60e+03  1.88e+03]\n",
            " [ 3.27e+02  9.60e+02]\n",
            " [-1.05e+01  0.00e+00]\n",
            " [ 3.21e+03  4.66e+03]\n",
            " [ 1.67e+01  1.50e+02]\n",
            " [ 2.19e+00  0.00e+00]\n",
            " [ 1.38e+02  1.90e+02]\n",
            " [ 1.68e+01  0.00e+00]\n",
            " [ 1.64e+02  4.90e+02]\n",
            " [ 7.68e+02  8.50e+02]\n",
            " [-2.16e+01  0.00e+00]\n",
            " [ 4.15e+00  0.00e+00]\n",
            " [ 1.12e+03  1.82e+03]\n",
            " [ 1.77e+00  0.00e+00]\n",
            " [-1.61e+01  0.00e+00]\n",
            " [ 7.66e+02  8.90e+02]\n",
            " [ 2.23e+01  0.00e+00]\n",
            " [ 4.07e+02  7.70e+02]\n",
            " [ 3.44e+02  2.80e+02]\n",
            " [ 5.20e+02  3.10e+02]\n",
            " [ 7.03e+01  0.00e+00]\n",
            " [ 6.89e+02  6.40e+02]\n",
            " [ 1.18e+01  3.00e+01]\n",
            " [ 4.34e+03  4.00e+03]\n",
            " [ 9.81e+00  0.00e+00]\n",
            " [ 5.53e+01  0.00e+00]\n",
            " [ 2.81e+00  2.00e+01]\n",
            " [ 5.00e+02  1.80e+02]\n",
            " [ 6.54e+01  1.20e+02]\n",
            " [ 8.05e+01  0.00e+00]\n",
            " [ 2.18e+03  2.14e+03]\n",
            " [ 3.94e+02  3.70e+02]\n",
            " [-2.33e+00  0.00e+00]\n",
            " [ 3.72e+01  0.00e+00]\n",
            " [ 5.31e+01  0.00e+00]\n",
            " [ 1.38e+03  2.39e+03]\n",
            " [ 4.01e+01  0.00e+00]\n",
            " [-1.91e+01  0.00e+00]\n",
            " [ 1.06e+03  1.40e+03]\n",
            " [ 2.30e+02  1.40e+02]\n",
            " [ 1.39e+03  1.18e+03]\n",
            " [-1.32e+01  0.00e+00]\n",
            " [ 3.35e+02  4.00e+02]\n",
            " [ 1.35e+02  7.00e+01]\n",
            " [ 1.72e+03  3.02e+03]\n",
            " [ 1.62e+02  2.90e+02]\n",
            " [ 9.17e+00  0.00e+00]\n",
            " [ 1.47e+01  0.00e+00]\n",
            " [ 5.88e+00  0.00e+00]\n",
            " [ 2.92e+03  4.13e+03]\n",
            " [ 1.74e+03  2.27e+03]\n",
            " [-5.79e+01  0.00e+00]\n",
            " [ 2.05e+01  3.00e+01]\n",
            " [-3.64e+00  1.00e+01]\n",
            " [-3.21e+00  0.00e+00]\n",
            " [-3.46e+00  0.00e+00]\n",
            " [ 2.74e+01  0.00e+00]\n",
            " [ 1.32e+03  1.15e+03]\n",
            " [ 1.23e+03  1.24e+03]\n",
            " [ 3.06e+00  0.00e+00]\n",
            " [ 1.01e+02  0.00e+00]\n",
            " [ 1.78e+01  0.00e+00]\n",
            " [-6.56e-01  0.00e+00]\n",
            " [-6.56e-01  0.00e+00]\n",
            " [-1.22e+01  0.00e+00]\n",
            " [-6.72e+00  0.00e+00]\n",
            " [-5.94e+00  0.00e+00]\n",
            " [ 2.47e+02  4.90e+02]\n",
            " [ 2.03e+02  3.50e+02]\n",
            " [ 1.55e+01  0.00e+00]\n",
            " [ 4.15e+00  0.00e+00]\n",
            " [ 5.05e+02  3.70e+02]\n",
            " [ 1.69e+01  0.00e+00]\n",
            " [ 3.88e+01  0.00e+00]\n",
            " [ 4.35e+02  1.90e+02]\n",
            " [ 5.65e+00  0.00e+00]\n",
            " [ 7.76e+02  7.00e+02]\n",
            " [ 8.77e+00  0.00e+00]\n",
            " [ 1.33e+02  1.50e+02]\n",
            " [ 4.08e+02  5.20e+02]\n",
            " [ 3.10e+02  1.10e+02]\n",
            " [ 8.52e+00  0.00e+00]\n",
            " [ 8.30e+02  6.10e+02]\n",
            " [ 2.45e+02  1.00e+02]\n",
            " [ 1.98e+02  2.10e+02]\n",
            " [ 1.87e+03  2.06e+03]\n",
            " [ 3.37e+03  3.90e+03]\n",
            " [ 9.73e+02  7.30e+02]]\n"
          ]
        }
      ]
    },
    {
      "cell_type": "markdown",
      "source": [
        "### Evaulate the XG Boost Model"
      ],
      "metadata": {
        "id": "jV1Htwml2ulK"
      }
    },
    {
      "cell_type": "code",
      "source": [
        "r2_score(y_test, y_pred_x)"
      ],
      "metadata": {
        "colab": {
          "base_uri": "https://localhost:8080/"
        },
        "id": "EUkv01bV2y85",
        "outputId": "48f2ec3d-7dec-4fb7-963f-871210d8cf13"
      },
      "execution_count": 99,
      "outputs": [
        {
          "output_type": "execute_result",
          "data": {
            "text/plain": [
              "0.8903923938014114"
            ]
          },
          "metadata": {},
          "execution_count": 99
        }
      ]
    },
    {
      "cell_type": "markdown",
      "source": [
        "### Visualize XG Boost Model"
      ],
      "metadata": {
        "id": "vJj5ALUQ3SnA"
      }
    },
    {
      "cell_type": "code",
      "source": [
        "plt.figure(figsize=(8, 6))\n",
        "plt.scatter(y_test, y_pred_x)\n",
        "plt.xlabel('Actual Reimbursment')\n",
        "plt.ylabel('Predicted Reimbursment')\n",
        "plt.title('Actual vs. Predicted Sum of Medicare fee–for–service reimbursements made during the calendar year (XGBoost)')\n",
        "plt.plot([y_test.min(), y_test.max()], [y_test.min(), y_test.max()], 'k--', lw=2)\n",
        "plt.grid(True)\n",
        "plt.show()"
      ],
      "metadata": {
        "colab": {
          "base_uri": "https://localhost:8080/",
          "height": 564
        },
        "id": "0TZ0d_yO3WK-",
        "outputId": "423ea380-f1d8-4615-a306-c552c2b6d3ba"
      },
      "execution_count": 100,
      "outputs": [
        {
          "output_type": "display_data",
          "data": {
            "text/plain": [
              "<Figure size 800x600 with 1 Axes>"
            ],
            "image/png": "[encoded data removed]"
          },
          "metadata": {}
        }
      ]
    }
  ]
}
