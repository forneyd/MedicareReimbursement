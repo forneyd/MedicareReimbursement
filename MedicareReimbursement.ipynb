{
 "cells": [
  {
   "cell_type": "code",
   "execution_count": null,
   "id": "a1fb81f8-2ffb-4eb4-94c3-ed3522aaa198",
   "metadata": {},
   "outputs": [],
   "source": [
    "#Predicting the sum of Medicare fee–for–service reimbursements made during the calendar year for services covered by carrier claims from 2008-2010"
   ]
  },
  {
   "cell_type": "code",
   "execution_count": null,
   "id": "3f4963b4-928d-4a7e-b299-88b46c2ae3ef",
   "metadata": {},
   "outputs": [],
   "source": [
    "#LOADING DATA"
   ]
  },
  {
   "cell_type": "code",
   "execution_count": 144,
   "id": "cb00101c-ce73-477a-b5c4-8a45dbaa7901",
   "metadata": {},
   "outputs": [
    {
     "name": "stdout",
     "output_type": "stream",
     "text": [
      "Defaulting to user installation because normal site-packages is not writeable\n",
      "Looking in links: /usr/share/pip-wheels\n",
      "Requirement already satisfied: pandas in /opt/conda/envs/anaconda-panel-2023.05-py310/lib/python3.11/site-packages (2.0.3)\n",
      "Requirement already satisfied: python-dateutil>=2.8.2 in /opt/conda/envs/anaconda-panel-2023.05-py310/lib/python3.11/site-packages (from pandas) (2.8.2)\n",
      "Requirement already satisfied: pytz>=2020.1 in /opt/conda/envs/anaconda-panel-2023.05-py310/lib/python3.11/site-packages (from pandas) (2023.3.post1)\n",
      "Requirement already satisfied: tzdata>=2022.1 in /opt/conda/envs/anaconda-panel-2023.05-py310/lib/python3.11/site-packages (from pandas) (2023.3)\n",
      "Requirement already satisfied: numpy>=1.21.0 in /opt/conda/envs/anaconda-panel-2023.05-py310/lib/python3.11/site-packages (from pandas) (1.24.3)\n",
      "Requirement already satisfied: six>=1.5 in /opt/conda/envs/anaconda-panel-2023.05-py310/lib/python3.11/site-packages (from python-dateutil>=2.8.2->pandas) (1.16.0)\n"
     ]
    }
   ],
   "source": [
    "!pip install pandas\n",
    "\n",
    "import pandas as pd\n",
    "import numpy as np\n",
    "import matplotlib.pyplot as plt\n",
    "\n",
    "df = pd.read_excel('Medicare/DE1_0_2008_Beneficiary_Summary_File_Sample_1.xlsx')"
   ]
  },
  {
   "cell_type": "code",
   "execution_count": 145,
   "id": "ba490794-e34c-4ede-9287-490895c6b981",
   "metadata": {},
   "outputs": [
    {
     "name": "stderr",
     "output_type": "stream",
     "text": [
      "IOPub data rate exceeded.\n",
      "The Jupyter server will temporarily stop sending output\n",
      "to the client in order to avoid crashing it.\n",
      "To change this limit, set the config variable\n",
      "`--ServerApp.iopub_data_rate_limit`.\n",
      "\n",
      "Current values:\n",
      "ServerApp.iopub_data_rate_limit=1000000.0 (bytes/sec)\n",
      "ServerApp.rate_limit_window=3.0 (secs)\n",
      "\n"
     ]
    }
   ],
   "source": [
    "print(df)"
   ]
  },
  {
   "cell_type": "code",
   "execution_count": 189,
   "id": "ca140980-cd55-4b3a-a333-46722ea3495b",
   "metadata": {},
   "outputs": [],
   "source": [
    "df = df.rename(columns={'DESYNPUF_ID': 'ID', 'BENE_BIRTH_DT':'Birth_Date', 'BENE_DEATH_DT':'Death_Date', 'BENE_SEX_IDENT_CD':'Sex',\n",
    "                        'BENE_RACE_CD':'RACE', 'SP_STATE_CODE':'State_Code', 'BENE_ESRD_IND':'End_Renal',\n",
    "                        'BENE_HI_CVRAGE_TOT_MONS':'Total_Months_PartA', 'BENE_SMI_CVRAGE_TOT_MONS':'Total_Months_PartB',\n",
    "                       'BENE_HMO_CVRAGE_TOT_MONS':'Total_Months_HMO', 'PLAN_CVRG_MOS_NUM':'Total_Months_PartD'})"
   ]
  },
  {
   "cell_type": "code",
   "execution_count": 104,
   "id": "092c9299-4b63-4786-9e54-6f7917bb525c",
   "metadata": {},
   "outputs": [
    {
     "name": "stdout",
     "output_type": "stream",
     "text": [
      "                      ID  Birth_Date  Death_Date  Sex  RACE End_Renal  \\\n",
      "0       00013D2EFD8E45D1    19230501         NaN    1     1         0   \n",
      "1       00016F745862898F    19430101         NaN    1     1         0   \n",
      "2       0001FDD721E223DC    19360901         NaN    2     1         0   \n",
      "3       00021CA6FF03E670    19410601         NaN    1     5         0   \n",
      "4       00024B3D2352D2D0    19360801         NaN    1     1         0   \n",
      "...                  ...         ...         ...  ...   ...       ...   \n",
      "116347  FFFD7C464C94D136    19430701         NaN    2     1         0   \n",
      "116348  FFFE3ED9582AD46E    19160601         NaN    2     1         0   \n",
      "116349  FFFE7AB5D7F1725D    19390401         NaN    2     1         0   \n",
      "116350  FFFF29A2E1362059    19110701         NaN    1     1         0   \n",
      "116351  FFFF7C107A4E385A    19520401         NaN    2     1         0   \n",
      "\n",
      "        State_Code  BENE_COUNTY_CD  Total_Months_PartA  Total_Months_PartB  \\\n",
      "0               26             950                  12                  12   \n",
      "1               39             230                  12                  12   \n",
      "2               39             280                  12                  12   \n",
      "3                6             290                   0                   0   \n",
      "4               52             590                  12                  12   \n",
      "...            ...             ...                 ...                 ...   \n",
      "116347          54               0                  12                  12   \n",
      "116348           6             150                  12                  12   \n",
      "116349          23             490                  12                  12   \n",
      "116350          29              20                   0                  12   \n",
      "116351          21              20                  12                  12   \n",
      "\n",
      "        Total_Months_HMO  Total_Months_PartD  SP_ALZHDMTA  SP_CHF  \\\n",
      "0                     12                  12            2       2   \n",
      "1                      0                   0            2       2   \n",
      "2                      0                  12            2       2   \n",
      "3                      0                   0            2       2   \n",
      "4                      0                   0            2       2   \n",
      "...                  ...                 ...          ...     ...   \n",
      "116347                 0                  12            2       2   \n",
      "116348                 0                  12            2       2   \n",
      "116349                 0                  12            2       2   \n",
      "116350                 0                   0            2       2   \n",
      "116351                 0                  12            1       2   \n",
      "\n",
      "        SP_CHRNKIDN  SP_CNCR  SP_COPD  SP_DEPRESSN  SP_DIABETES  SP_ISCHMCHT  \\\n",
      "0                 2        2        2            2            2            2   \n",
      "1                 2        2        2            2            2            2   \n",
      "2                 2        2        2            2            2            2   \n",
      "3                 2        2        2            2            2            2   \n",
      "4                 2        2        2            2            2            2   \n",
      "...             ...      ...      ...          ...          ...          ...   \n",
      "116347            2        2        2            2            2            2   \n",
      "116348            2        2        2            1            1            1   \n",
      "116349            2        2        2            2            2            2   \n",
      "116350            2        2        2            2            2            2   \n",
      "116351            1        2        1            1            1            1   \n",
      "\n",
      "        SP_OSTEOPRS  SP_RA_OA  SP_STRKETIA  MEDREIMB_IP  BENRES_IP  PPPYMT_IP  \\\n",
      "0                 2         2            2            0          0          0   \n",
      "1                 2         2            2            0          0          0   \n",
      "2                 2         2            2            0          0          0   \n",
      "3                 2         2            2            0          0          0   \n",
      "4                 1         2            2            0          0          0   \n",
      "...             ...       ...          ...          ...        ...        ...   \n",
      "116347            2         2            2            0          0          0   \n",
      "116348            1         1            2            0          0          0   \n",
      "116349            2         2            2            0          0          0   \n",
      "116350            2         2            2            0          0          0   \n",
      "116351            2         1            2            0          0          0   \n",
      "\n",
      "        MEDREIMB_OP  BENRES_OP  PPPYMT_OP  MEDREIMB_CAR  BENRES_CAR  \\\n",
      "0                50         10          0             0           0   \n",
      "1                 0          0          0           700         240   \n",
      "2                 0          0          0             0           0   \n",
      "3                 0          0          0             0           0   \n",
      "4                30         40          0           220          80   \n",
      "...             ...        ...        ...           ...         ...   \n",
      "116347            0          0          0             0           0   \n",
      "116348         1570        780          0          1370         350   \n",
      "116349            0          0          0             0           0   \n",
      "116350            0          0          0             0           0   \n",
      "116351         2870       1260          0          3280         910   \n",
      "\n",
      "        PPPYMT_CAR  \n",
      "0                0  \n",
      "1                0  \n",
      "2                0  \n",
      "3                0  \n",
      "4                0  \n",
      "...            ...  \n",
      "116347           0  \n",
      "116348           0  \n",
      "116349           0  \n",
      "116350           0  \n",
      "116351           0  \n",
      "\n",
      "[116352 rows x 32 columns]\n"
     ]
    }
   ],
   "source": [
    "print(df)"
   ]
  },
  {
   "cell_type": "code",
   "execution_count": 191,
   "id": "c1f58caf-552e-434d-9085-1dce3cdd7315",
   "metadata": {},
   "outputs": [],
   "source": [
    "df['End_Renal'] = df['End_Renal'].replace('Y', 1)"
   ]
  },
  {
   "cell_type": "code",
   "execution_count": 193,
   "id": "6cd64581-b2d6-4cdd-849c-c753ceff9736",
   "metadata": {},
   "outputs": [],
   "source": [
    "MEDREIMB_CAR = df.pop('MEDREIMB_CAR')"
   ]
  },
  {
   "cell_type": "code",
   "execution_count": 195,
   "id": "f3079fdc-a162-47f8-a198-084acb50e920",
   "metadata": {},
   "outputs": [],
   "source": [
    "df['MEDREIMB_CAR'] = MEDREIMB_CAR"
   ]
  },
  {
   "cell_type": "code",
   "execution_count": 205,
   "id": "965d6d88-325c-4cf4-9d63-4b3a3e118993",
   "metadata": {},
   "outputs": [],
   "source": [
    "X = df.iloc[:, 3:-1].values\n",
    "y = df.iloc[:, -1:].values"
   ]
  },
  {
   "cell_type": "code",
   "execution_count": 253,
   "id": "58268c87-5ca7-4fb0-8f70-e51256f677a8",
   "metadata": {},
   "outputs": [],
   "source": [
    "#One Hot Encoding categorical data\n",
    "#Encoding the Independent Variables\n",
    "\n",
    "from sklearn.compose import ColumnTransformer\n",
    "from sklearn.preprocessing import OneHotEncoder\n",
    "ct = ColumnTransformer(transformers=[('encoder', OneHotEncoder(),[0])], remainder='passthrough')\n",
    "X = np.array(ct.fit_transform(X))\n",
    "     "
   ]
  },
  {
   "cell_type": "code",
   "execution_count": 251,
   "id": "2d83258b-1009-4fac-9d40-8036e8dce6c5",
   "metadata": {},
   "outputs": [
    {
     "data": {
      "text/html": [
       "<div>\n",
       "<style scoped>\n",
       "    .dataframe tbody tr th:only-of-type {\n",
       "        vertical-align: middle;\n",
       "    }\n",
       "\n",
       "    .dataframe tbody tr th {\n",
       "        vertical-align: top;\n",
       "    }\n",
       "\n",
       "    .dataframe thead th {\n",
       "        text-align: right;\n",
       "    }\n",
       "</style>\n",
       "<table border=\"1\" class=\"dataframe\">\n",
       "  <thead>\n",
       "    <tr style=\"text-align: right;\">\n",
       "      <th></th>\n",
       "      <th>Birth_Date</th>\n",
       "      <th>Death_Date</th>\n",
       "      <th>Sex</th>\n",
       "      <th>RACE</th>\n",
       "      <th>End_Renal</th>\n",
       "      <th>State_Code</th>\n",
       "      <th>BENE_COUNTY_CD</th>\n",
       "      <th>Total_Months_PartA</th>\n",
       "      <th>Total_Months_PartB</th>\n",
       "      <th>Total_Months_HMO</th>\n",
       "      <th>Total_Months_PartD</th>\n",
       "      <th>SP_ALZHDMTA</th>\n",
       "      <th>SP_CHF</th>\n",
       "      <th>SP_CHRNKIDN</th>\n",
       "      <th>SP_CNCR</th>\n",
       "      <th>SP_COPD</th>\n",
       "      <th>SP_DEPRESSN</th>\n",
       "      <th>SP_DIABETES</th>\n",
       "      <th>SP_ISCHMCHT</th>\n",
       "      <th>SP_OSTEOPRS</th>\n",
       "      <th>SP_RA_OA</th>\n",
       "      <th>SP_STRKETIA</th>\n",
       "      <th>MEDREIMB_IP</th>\n",
       "      <th>BENRES_IP</th>\n",
       "      <th>PPPYMT_IP</th>\n",
       "      <th>MEDREIMB_OP</th>\n",
       "      <th>BENRES_OP</th>\n",
       "      <th>PPPYMT_OP</th>\n",
       "      <th>BENRES_CAR</th>\n",
       "      <th>PPPYMT_CAR</th>\n",
       "      <th>MEDREIMB_CAR</th>\n",
       "    </tr>\n",
       "  </thead>\n",
       "  <tbody>\n",
       "    <tr>\n",
       "      <th>count</th>\n",
       "      <td>1.163520e+05</td>\n",
       "      <td>1.814000e+03</td>\n",
       "      <td>116352.000000</td>\n",
       "      <td>116352.000000</td>\n",
       "      <td>116352.000000</td>\n",
       "      <td>116352.000000</td>\n",
       "      <td>116352.000000</td>\n",
       "      <td>116352.000000</td>\n",
       "      <td>116352.000000</td>\n",
       "      <td>116352.000000</td>\n",
       "      <td>116352.000000</td>\n",
       "      <td>116352.000000</td>\n",
       "      <td>116352.000000</td>\n",
       "      <td>116352.000000</td>\n",
       "      <td>116352.000000</td>\n",
       "      <td>116352.000000</td>\n",
       "      <td>116352.000000</td>\n",
       "      <td>116352.000000</td>\n",
       "      <td>116352.000000</td>\n",
       "      <td>116352.000000</td>\n",
       "      <td>116352.000000</td>\n",
       "      <td>116352.000000</td>\n",
       "      <td>116352.000000</td>\n",
       "      <td>116352.000000</td>\n",
       "      <td>116352.000000</td>\n",
       "      <td>116352.000000</td>\n",
       "      <td>116352.000000</td>\n",
       "      <td>116352.000000</td>\n",
       "      <td>116352.000000</td>\n",
       "      <td>116352.000000</td>\n",
       "      <td>116352.000000</td>\n",
       "    </tr>\n",
       "    <tr>\n",
       "      <th>mean</th>\n",
       "      <td>1.936418e+07</td>\n",
       "      <td>2.008065e+07</td>\n",
       "      <td>1.553037</td>\n",
       "      <td>1.284662</td>\n",
       "      <td>0.071000</td>\n",
       "      <td>25.693740</td>\n",
       "      <td>366.486188</td>\n",
       "      <td>11.143994</td>\n",
       "      <td>10.495514</td>\n",
       "      <td>2.576183</td>\n",
       "      <td>6.826466</td>\n",
       "      <td>1.807395</td>\n",
       "      <td>1.715046</td>\n",
       "      <td>1.839401</td>\n",
       "      <td>1.936271</td>\n",
       "      <td>1.864695</td>\n",
       "      <td>1.786510</td>\n",
       "      <td>1.621322</td>\n",
       "      <td>1.579363</td>\n",
       "      <td>1.826587</td>\n",
       "      <td>1.846019</td>\n",
       "      <td>1.955110</td>\n",
       "      <td>2214.180762</td>\n",
       "      <td>249.053441</td>\n",
       "      <td>99.142258</td>\n",
       "      <td>622.226520</td>\n",
       "      <td>197.502235</td>\n",
       "      <td>25.724182</td>\n",
       "      <td>328.747508</td>\n",
       "      <td>18.355851</td>\n",
       "      <td>1162.095881</td>\n",
       "    </tr>\n",
       "    <tr>\n",
       "      <th>std</th>\n",
       "      <td>1.250446e+05</td>\n",
       "      <td>3.493908e+02</td>\n",
       "      <td>0.497181</td>\n",
       "      <td>0.754885</td>\n",
       "      <td>0.256826</td>\n",
       "      <td>15.582601</td>\n",
       "      <td>266.106008</td>\n",
       "      <td>2.839995</td>\n",
       "      <td>3.758701</td>\n",
       "      <td>4.828831</td>\n",
       "      <td>5.814787</td>\n",
       "      <td>0.394347</td>\n",
       "      <td>0.451395</td>\n",
       "      <td>0.367162</td>\n",
       "      <td>0.244271</td>\n",
       "      <td>0.342050</td>\n",
       "      <td>0.409773</td>\n",
       "      <td>0.485060</td>\n",
       "      <td>0.493664</td>\n",
       "      <td>0.378606</td>\n",
       "      <td>0.360932</td>\n",
       "      <td>0.207063</td>\n",
       "      <td>8473.340573</td>\n",
       "      <td>885.356400</td>\n",
       "      <td>1857.930522</td>\n",
       "      <td>1796.476653</td>\n",
       "      <td>522.437900</td>\n",
       "      <td>370.974324</td>\n",
       "      <td>436.858441</td>\n",
       "      <td>87.356293</td>\n",
       "      <td>1587.643182</td>\n",
       "    </tr>\n",
       "    <tr>\n",
       "      <th>min</th>\n",
       "      <td>1.909010e+07</td>\n",
       "      <td>2.008010e+07</td>\n",
       "      <td>1.000000</td>\n",
       "      <td>1.000000</td>\n",
       "      <td>0.000000</td>\n",
       "      <td>1.000000</td>\n",
       "      <td>0.000000</td>\n",
       "      <td>0.000000</td>\n",
       "      <td>0.000000</td>\n",
       "      <td>0.000000</td>\n",
       "      <td>0.000000</td>\n",
       "      <td>1.000000</td>\n",
       "      <td>1.000000</td>\n",
       "      <td>1.000000</td>\n",
       "      <td>1.000000</td>\n",
       "      <td>1.000000</td>\n",
       "      <td>1.000000</td>\n",
       "      <td>1.000000</td>\n",
       "      <td>1.000000</td>\n",
       "      <td>1.000000</td>\n",
       "      <td>1.000000</td>\n",
       "      <td>1.000000</td>\n",
       "      <td>-3000.000000</td>\n",
       "      <td>0.000000</td>\n",
       "      <td>0.000000</td>\n",
       "      <td>-90.000000</td>\n",
       "      <td>0.000000</td>\n",
       "      <td>0.000000</td>\n",
       "      <td>0.000000</td>\n",
       "      <td>0.000000</td>\n",
       "      <td>0.000000</td>\n",
       "    </tr>\n",
       "    <tr>\n",
       "      <th>25%</th>\n",
       "      <td>1.928110e+07</td>\n",
       "      <td>2.008030e+07</td>\n",
       "      <td>1.000000</td>\n",
       "      <td>1.000000</td>\n",
       "      <td>0.000000</td>\n",
       "      <td>10.000000</td>\n",
       "      <td>140.000000</td>\n",
       "      <td>12.000000</td>\n",
       "      <td>12.000000</td>\n",
       "      <td>0.000000</td>\n",
       "      <td>0.000000</td>\n",
       "      <td>2.000000</td>\n",
       "      <td>1.000000</td>\n",
       "      <td>2.000000</td>\n",
       "      <td>2.000000</td>\n",
       "      <td>2.000000</td>\n",
       "      <td>2.000000</td>\n",
       "      <td>1.000000</td>\n",
       "      <td>1.000000</td>\n",
       "      <td>2.000000</td>\n",
       "      <td>2.000000</td>\n",
       "      <td>2.000000</td>\n",
       "      <td>0.000000</td>\n",
       "      <td>0.000000</td>\n",
       "      <td>0.000000</td>\n",
       "      <td>0.000000</td>\n",
       "      <td>0.000000</td>\n",
       "      <td>0.000000</td>\n",
       "      <td>0.000000</td>\n",
       "      <td>0.000000</td>\n",
       "      <td>0.000000</td>\n",
       "    </tr>\n",
       "    <tr>\n",
       "      <th>50%</th>\n",
       "      <td>1.936050e+07</td>\n",
       "      <td>2.008070e+07</td>\n",
       "      <td>2.000000</td>\n",
       "      <td>1.000000</td>\n",
       "      <td>0.000000</td>\n",
       "      <td>25.000000</td>\n",
       "      <td>330.000000</td>\n",
       "      <td>12.000000</td>\n",
       "      <td>12.000000</td>\n",
       "      <td>0.000000</td>\n",
       "      <td>12.000000</td>\n",
       "      <td>2.000000</td>\n",
       "      <td>2.000000</td>\n",
       "      <td>2.000000</td>\n",
       "      <td>2.000000</td>\n",
       "      <td>2.000000</td>\n",
       "      <td>2.000000</td>\n",
       "      <td>2.000000</td>\n",
       "      <td>2.000000</td>\n",
       "      <td>2.000000</td>\n",
       "      <td>2.000000</td>\n",
       "      <td>2.000000</td>\n",
       "      <td>0.000000</td>\n",
       "      <td>0.000000</td>\n",
       "      <td>0.000000</td>\n",
       "      <td>20.000000</td>\n",
       "      <td>0.000000</td>\n",
       "      <td>0.000000</td>\n",
       "      <td>170.000000</td>\n",
       "      <td>0.000000</td>\n",
       "      <td>610.000000</td>\n",
       "    </tr>\n",
       "    <tr>\n",
       "      <th>75%</th>\n",
       "      <td>1.942030e+07</td>\n",
       "      <td>2.008100e+07</td>\n",
       "      <td>2.000000</td>\n",
       "      <td>1.000000</td>\n",
       "      <td>0.000000</td>\n",
       "      <td>39.000000</td>\n",
       "      <td>560.000000</td>\n",
       "      <td>12.000000</td>\n",
       "      <td>12.000000</td>\n",
       "      <td>0.000000</td>\n",
       "      <td>12.000000</td>\n",
       "      <td>2.000000</td>\n",
       "      <td>2.000000</td>\n",
       "      <td>2.000000</td>\n",
       "      <td>2.000000</td>\n",
       "      <td>2.000000</td>\n",
       "      <td>2.000000</td>\n",
       "      <td>2.000000</td>\n",
       "      <td>2.000000</td>\n",
       "      <td>2.000000</td>\n",
       "      <td>2.000000</td>\n",
       "      <td>2.000000</td>\n",
       "      <td>0.000000</td>\n",
       "      <td>0.000000</td>\n",
       "      <td>0.000000</td>\n",
       "      <td>550.000000</td>\n",
       "      <td>180.000000</td>\n",
       "      <td>0.000000</td>\n",
       "      <td>480.000000</td>\n",
       "      <td>0.000000</td>\n",
       "      <td>1650.000000</td>\n",
       "    </tr>\n",
       "    <tr>\n",
       "      <th>max</th>\n",
       "      <td>1.983120e+07</td>\n",
       "      <td>2.008120e+07</td>\n",
       "      <td>2.000000</td>\n",
       "      <td>5.000000</td>\n",
       "      <td>1.000000</td>\n",
       "      <td>54.000000</td>\n",
       "      <td>999.000000</td>\n",
       "      <td>12.000000</td>\n",
       "      <td>12.000000</td>\n",
       "      <td>12.000000</td>\n",
       "      <td>12.000000</td>\n",
       "      <td>2.000000</td>\n",
       "      <td>2.000000</td>\n",
       "      <td>2.000000</td>\n",
       "      <td>2.000000</td>\n",
       "      <td>2.000000</td>\n",
       "      <td>2.000000</td>\n",
       "      <td>2.000000</td>\n",
       "      <td>2.000000</td>\n",
       "      <td>2.000000</td>\n",
       "      <td>2.000000</td>\n",
       "      <td>2.000000</td>\n",
       "      <td>164220.000000</td>\n",
       "      <td>53096.000000</td>\n",
       "      <td>68000.000000</td>\n",
       "      <td>50020.000000</td>\n",
       "      <td>12450.000000</td>\n",
       "      <td>14400.000000</td>\n",
       "      <td>5260.000000</td>\n",
       "      <td>2110.000000</td>\n",
       "      <td>21160.000000</td>\n",
       "    </tr>\n",
       "  </tbody>\n",
       "</table>\n",
       "</div>"
      ],
      "text/plain": [
       "         Birth_Date    Death_Date            Sex           RACE  \\\n",
       "count  1.163520e+05  1.814000e+03  116352.000000  116352.000000   \n",
       "mean   1.936418e+07  2.008065e+07       1.553037       1.284662   \n",
       "std    1.250446e+05  3.493908e+02       0.497181       0.754885   \n",
       "min    1.909010e+07  2.008010e+07       1.000000       1.000000   \n",
       "25%    1.928110e+07  2.008030e+07       1.000000       1.000000   \n",
       "50%    1.936050e+07  2.008070e+07       2.000000       1.000000   \n",
       "75%    1.942030e+07  2.008100e+07       2.000000       1.000000   \n",
       "max    1.983120e+07  2.008120e+07       2.000000       5.000000   \n",
       "\n",
       "           End_Renal     State_Code  BENE_COUNTY_CD  Total_Months_PartA  \\\n",
       "count  116352.000000  116352.000000   116352.000000       116352.000000   \n",
       "mean        0.071000      25.693740      366.486188           11.143994   \n",
       "std         0.256826      15.582601      266.106008            2.839995   \n",
       "min         0.000000       1.000000        0.000000            0.000000   \n",
       "25%         0.000000      10.000000      140.000000           12.000000   \n",
       "50%         0.000000      25.000000      330.000000           12.000000   \n",
       "75%         0.000000      39.000000      560.000000           12.000000   \n",
       "max         1.000000      54.000000      999.000000           12.000000   \n",
       "\n",
       "       Total_Months_PartB  Total_Months_HMO  Total_Months_PartD  \\\n",
       "count       116352.000000     116352.000000       116352.000000   \n",
       "mean            10.495514          2.576183            6.826466   \n",
       "std              3.758701          4.828831            5.814787   \n",
       "min              0.000000          0.000000            0.000000   \n",
       "25%             12.000000          0.000000            0.000000   \n",
       "50%             12.000000          0.000000           12.000000   \n",
       "75%             12.000000          0.000000           12.000000   \n",
       "max             12.000000         12.000000           12.000000   \n",
       "\n",
       "         SP_ALZHDMTA         SP_CHF    SP_CHRNKIDN        SP_CNCR  \\\n",
       "count  116352.000000  116352.000000  116352.000000  116352.000000   \n",
       "mean        1.807395       1.715046       1.839401       1.936271   \n",
       "std         0.394347       0.451395       0.367162       0.244271   \n",
       "min         1.000000       1.000000       1.000000       1.000000   \n",
       "25%         2.000000       1.000000       2.000000       2.000000   \n",
       "50%         2.000000       2.000000       2.000000       2.000000   \n",
       "75%         2.000000       2.000000       2.000000       2.000000   \n",
       "max         2.000000       2.000000       2.000000       2.000000   \n",
       "\n",
       "             SP_COPD    SP_DEPRESSN    SP_DIABETES    SP_ISCHMCHT  \\\n",
       "count  116352.000000  116352.000000  116352.000000  116352.000000   \n",
       "mean        1.864695       1.786510       1.621322       1.579363   \n",
       "std         0.342050       0.409773       0.485060       0.493664   \n",
       "min         1.000000       1.000000       1.000000       1.000000   \n",
       "25%         2.000000       2.000000       1.000000       1.000000   \n",
       "50%         2.000000       2.000000       2.000000       2.000000   \n",
       "75%         2.000000       2.000000       2.000000       2.000000   \n",
       "max         2.000000       2.000000       2.000000       2.000000   \n",
       "\n",
       "         SP_OSTEOPRS       SP_RA_OA    SP_STRKETIA    MEDREIMB_IP  \\\n",
       "count  116352.000000  116352.000000  116352.000000  116352.000000   \n",
       "mean        1.826587       1.846019       1.955110    2214.180762   \n",
       "std         0.378606       0.360932       0.207063    8473.340573   \n",
       "min         1.000000       1.000000       1.000000   -3000.000000   \n",
       "25%         2.000000       2.000000       2.000000       0.000000   \n",
       "50%         2.000000       2.000000       2.000000       0.000000   \n",
       "75%         2.000000       2.000000       2.000000       0.000000   \n",
       "max         2.000000       2.000000       2.000000  164220.000000   \n",
       "\n",
       "           BENRES_IP      PPPYMT_IP    MEDREIMB_OP      BENRES_OP  \\\n",
       "count  116352.000000  116352.000000  116352.000000  116352.000000   \n",
       "mean      249.053441      99.142258     622.226520     197.502235   \n",
       "std       885.356400    1857.930522    1796.476653     522.437900   \n",
       "min         0.000000       0.000000     -90.000000       0.000000   \n",
       "25%         0.000000       0.000000       0.000000       0.000000   \n",
       "50%         0.000000       0.000000      20.000000       0.000000   \n",
       "75%         0.000000       0.000000     550.000000     180.000000   \n",
       "max     53096.000000   68000.000000   50020.000000   12450.000000   \n",
       "\n",
       "           PPPYMT_OP     BENRES_CAR     PPPYMT_CAR   MEDREIMB_CAR  \n",
       "count  116352.000000  116352.000000  116352.000000  116352.000000  \n",
       "mean       25.724182     328.747508      18.355851    1162.095881  \n",
       "std       370.974324     436.858441      87.356293    1587.643182  \n",
       "min         0.000000       0.000000       0.000000       0.000000  \n",
       "25%         0.000000       0.000000       0.000000       0.000000  \n",
       "50%         0.000000     170.000000       0.000000     610.000000  \n",
       "75%         0.000000     480.000000       0.000000    1650.000000  \n",
       "max     14400.000000    5260.000000    2110.000000   21160.000000  "
      ]
     },
     "execution_count": 251,
     "metadata": {},
     "output_type": "execute_result"
    }
   ],
   "source": [
    "df.describe()"
   ]
  },
  {
   "cell_type": "code",
   "execution_count": 255,
   "id": "6dc1d0bf-0fbe-41a9-888b-eb20e3a2c03b",
   "metadata": {},
   "outputs": [
    {
     "name": "stdout",
     "output_type": "stream",
     "text": [
      "[[  1.   0.   1. ...   0.   0.   0.]\n",
      " [  1.   0.   1. ...   0. 240.   0.]\n",
      " [  0.   1.   1. ...   0.   0.   0.]\n",
      " ...\n",
      " [  0.   1.   1. ...   0.   0.   0.]\n",
      " [  1.   0.   1. ...   0.   0.   0.]\n",
      " [  0.   1.   1. ...   0. 910.   0.]]\n"
     ]
    }
   ],
   "source": [
    "print(X)"
   ]
  },
  {
   "cell_type": "code",
   "execution_count": 223,
   "id": "08da9225-7dda-450a-a574-f9b2c75da135",
   "metadata": {},
   "outputs": [
    {
     "name": "stdout",
     "output_type": "stream",
     "text": [
      "[[   0]\n",
      " [ 700]\n",
      " [   0]\n",
      " ...\n",
      " [   0]\n",
      " [   0]\n",
      " [3280]]\n"
     ]
    }
   ],
   "source": [
    "print(y)"
   ]
  },
  {
   "cell_type": "code",
   "execution_count": 257,
   "id": "82fdc545-aa31-46c0-8850-d6b904edc19c",
   "metadata": {},
   "outputs": [],
   "source": [
    "from sklearn.model_selection import train_test_split\n",
    "X_train, X_test, y_train, y_test = train_test_split(X, y, test_size = 0.2, random_state = 0)"
   ]
  },
  {
   "cell_type": "code",
   "execution_count": 257,
   "id": "d9547723",
   "metadata": {},
   "outputs": [],
   "source": [
    "from sklearn.model_selection import train_test_split\n",
    "X_train, X_test, y_train, y_test = train_test_split(X, y, test_size = 0.2, random_state = 0)"
   ]
  },
  {
   "cell_type": "code",
   "execution_count": 259,
   "id": "e88fad31-4432-4e66-990a-6648a17ea7a8",
   "metadata": {},
   "outputs": [
    {
     "name": "stdout",
     "output_type": "stream",
     "text": [
      "[[1.00e+00 0.00e+00 1.00e+00 ... 0.00e+00 2.20e+02 2.00e+01]\n",
      " [0.00e+00 1.00e+00 1.00e+00 ... 0.00e+00 8.70e+02 0.00e+00]\n",
      " [0.00e+00 1.00e+00 1.00e+00 ... 0.00e+00 2.15e+03 6.00e+01]\n",
      " ...\n",
      " [0.00e+00 1.00e+00 1.00e+00 ... 0.00e+00 0.00e+00 0.00e+00]\n",
      " [1.00e+00 0.00e+00 1.00e+00 ... 0.00e+00 2.50e+02 0.00e+00]\n",
      " [1.00e+00 0.00e+00 1.00e+00 ... 0.00e+00 6.90e+02 0.00e+00]]\n"
     ]
    }
   ],
   "source": [
    "print(X_train)"
   ]
  },
  {
   "cell_type": "code",
   "execution_count": 261,
   "id": "f34f0031-0e90-4e99-9864-cfa225c43f3e",
   "metadata": {},
   "outputs": [
    {
     "name": "stdout",
     "output_type": "stream",
     "text": [
      "[[ 600]\n",
      " [5140]\n",
      " [7190]\n",
      " ...\n",
      " [   0]\n",
      " [ 820]\n",
      " [1420]]\n"
     ]
    }
   ],
   "source": [
    "print(y_train)"
   ]
  },
  {
   "cell_type": "markdown",
   "id": "bea227e1-ac38-4e15-adb2-ad60d1cc86e5",
   "metadata": {},
   "source": [
    "Training the Multiple Linear Regression model on the Training set"
   ]
  },
  {
   "cell_type": "code",
   "execution_count": 263,
   "id": "d92b2831-437b-4276-86cb-e72fdf8b9ab1",
   "metadata": {},
   "outputs": [
    {
     "data": {
      "text/html": [
       "<style>#sk-container-id-4 {color: black;}#sk-container-id-4 pre{padding: 0;}#sk-container-id-4 div.sk-toggleable {background-color: white;}#sk-container-id-4 label.sk-toggleable__label {cursor: pointer;display: block;width: 100%;margin-bottom: 0;padding: 0.3em;box-sizing: border-box;text-align: center;}#sk-container-id-4 label.sk-toggleable__label-arrow:before {content: \"▸\";float: left;margin-right: 0.25em;color: #696969;}#sk-container-id-4 label.sk-toggleable__label-arrow:hover:before {color: black;}#sk-container-id-4 div.sk-estimator:hover label.sk-toggleable__label-arrow:before {color: black;}#sk-container-id-4 div.sk-toggleable__content {max-height: 0;max-width: 0;overflow: hidden;text-align: left;background-color: #f0f8ff;}#sk-container-id-4 div.sk-toggleable__content pre {margin: 0.2em;color: black;border-radius: 0.25em;background-color: #f0f8ff;}#sk-container-id-4 input.sk-toggleable__control:checked~div.sk-toggleable__content {max-height: 200px;max-width: 100%;overflow: auto;}#sk-container-id-4 input.sk-toggleable__control:checked~label.sk-toggleable__label-arrow:before {content: \"▾\";}#sk-container-id-4 div.sk-estimator input.sk-toggleable__control:checked~label.sk-toggleable__label {background-color: #d4ebff;}#sk-container-id-4 div.sk-label input.sk-toggleable__control:checked~label.sk-toggleable__label {background-color: #d4ebff;}#sk-container-id-4 input.sk-hidden--visually {border: 0;clip: rect(1px 1px 1px 1px);clip: rect(1px, 1px, 1px, 1px);height: 1px;margin: -1px;overflow: hidden;padding: 0;position: absolute;width: 1px;}#sk-container-id-4 div.sk-estimator {font-family: monospace;background-color: #f0f8ff;border: 1px dotted black;border-radius: 0.25em;box-sizing: border-box;margin-bottom: 0.5em;}#sk-container-id-4 div.sk-estimator:hover {background-color: #d4ebff;}#sk-container-id-4 div.sk-parallel-item::after {content: \"\";width: 100%;border-bottom: 1px solid gray;flex-grow: 1;}#sk-container-id-4 div.sk-label:hover label.sk-toggleable__label {background-color: #d4ebff;}#sk-container-id-4 div.sk-serial::before {content: \"\";position: absolute;border-left: 1px solid gray;box-sizing: border-box;top: 0;bottom: 0;left: 50%;z-index: 0;}#sk-container-id-4 div.sk-serial {display: flex;flex-direction: column;align-items: center;background-color: white;padding-right: 0.2em;padding-left: 0.2em;position: relative;}#sk-container-id-4 div.sk-item {position: relative;z-index: 1;}#sk-container-id-4 div.sk-parallel {display: flex;align-items: stretch;justify-content: center;background-color: white;position: relative;}#sk-container-id-4 div.sk-item::before, #sk-container-id-4 div.sk-parallel-item::before {content: \"\";position: absolute;border-left: 1px solid gray;box-sizing: border-box;top: 0;bottom: 0;left: 50%;z-index: -1;}#sk-container-id-4 div.sk-parallel-item {display: flex;flex-direction: column;z-index: 1;position: relative;background-color: white;}#sk-container-id-4 div.sk-parallel-item:first-child::after {align-self: flex-end;width: 50%;}#sk-container-id-4 div.sk-parallel-item:last-child::after {align-self: flex-start;width: 50%;}#sk-container-id-4 div.sk-parallel-item:only-child::after {width: 0;}#sk-container-id-4 div.sk-dashed-wrapped {border: 1px dashed gray;margin: 0 0.4em 0.5em 0.4em;box-sizing: border-box;padding-bottom: 0.4em;background-color: white;}#sk-container-id-4 div.sk-label label {font-family: monospace;font-weight: bold;display: inline-block;line-height: 1.2em;}#sk-container-id-4 div.sk-label-container {text-align: center;}#sk-container-id-4 div.sk-container {/* jupyter's `normalize.less` sets `[hidden] { display: none; }` but bootstrap.min.css set `[hidden] { display: none !important; }` so we also need the `!important` here to be able to override the default hidden behavior on the sphinx rendered scikit-learn.org. See: https://github.com/scikit-learn/scikit-learn/issues/21755 */display: inline-block !important;position: relative;}#sk-container-id-4 div.sk-text-repr-fallback {display: none;}</style><div id=\"sk-container-id-4\" class=\"sk-top-container\"><div class=\"sk-text-repr-fallback\"><pre>LinearRegression()</pre><b>In a Jupyter environment, please rerun this cell to show the HTML representation or trust the notebook. <br />On GitHub, the HTML representation is unable to render, please try loading this page with nbviewer.org.</b></div><div class=\"sk-container\" hidden><div class=\"sk-item\"><div class=\"sk-estimator sk-toggleable\"><input class=\"sk-toggleable__control sk-hidden--visually\" id=\"sk-estimator-id-4\" type=\"checkbox\" checked><label for=\"sk-estimator-id-4\" class=\"sk-toggleable__label sk-toggleable__label-arrow\">LinearRegression</label><div class=\"sk-toggleable__content\"><pre>LinearRegression()</pre></div></div></div></div></div>"
      ],
      "text/plain": [
       "LinearRegression()"
      ]
     },
     "execution_count": 263,
     "metadata": {},
     "output_type": "execute_result"
    }
   ],
   "source": [
    "from sklearn.linear_model import LinearRegression\n",
    "regressor = LinearRegression()\n",
    "regressor.fit(X_train, y_train)\n",
    "LinearRegression()"
   ]
  },
  {
   "cell_type": "markdown",
   "id": "60315ce0-0639-4a47-b42d-492e0f4c5a45",
   "metadata": {},
   "source": [
    "Predicting the Test set results"
   ]
  },
  {
   "cell_type": "code",
   "execution_count": 265,
   "id": "19dfe4bd-c710-4f66-99e9-6057546bd5ad",
   "metadata": {},
   "outputs": [
    {
     "name": "stdout",
     "output_type": "stream",
     "text": [
      "[[ -13.32    0.  ]\n",
      " [7165.07 8070.  ]\n",
      " [1319.86 1110.  ]\n",
      " ...\n",
      " [ -12.03    0.  ]\n",
      " [ -13.65    0.  ]\n",
      " [ -13.94    0.  ]]\n"
     ]
    }
   ],
   "source": [
    "y_pred = regressor.predict(X_test)\n",
    "np.set_printoptions(precision=2)\n",
    "print(np.concatenate((y_pred.reshape(len(y_pred),1), y_test.reshape(len(y_test),1)),1))"
   ]
  },
  {
   "cell_type": "markdown",
   "id": "5573bfb6-ce4f-4e0c-a92e-ff0b35b07985",
   "metadata": {
    "tags": []
   },
   "source": [
    "Evaluating the Model Performance"
   ]
  },
  {
   "cell_type": "code",
   "execution_count": 267,
   "id": "4181d736-62da-47f5-9ed7-d1e77f7fea0f",
   "metadata": {},
   "outputs": [
    {
     "data": {
      "text/plain": [
       "0.9410253528562273"
      ]
     },
     "execution_count": 267,
     "metadata": {},
     "output_type": "execute_result"
    }
   ],
   "source": [
    "from sklearn.metrics import r2_score\n",
    "r2_score(y_test, y_pred)"
   ]
  },
  {
   "cell_type": "code",
   "execution_count": 277,
   "id": "30b84480-79cd-48a7-8167-759c694acd3c",
   "metadata": {},
   "outputs": [
    {
     "data": {
      "image/png": "[encoded data removed]",
      "text/plain": [
       "<Figure size 800x600 with 1 Axes>"
      ]
     },
     "metadata": {},
     "output_type": "display_data"
    }
   ],
   "source": [
    "# Visualizing predictions versus actual values\n",
    "plt.figure(figsize=(8, 6))\n",
    "plt.scatter(y_test, y_pred)\n",
    "plt.xlabel('Actual')\n",
    "plt.ylabel('Predicted')\n",
    "plt.title('Actual vs Predicted Sum of Medicare fee–for–service reimbursements made during the calendar year for services covered by carrier claims')\n",
    "plt.plot([y_test.min(), y_test.max()], [y_test.min(), y_test.max()], 'k--', lw=2)\n",
    "plt.show()"
   ]
  },
  {
   "cell_type": "markdown",
   "id": "5755da75-584a-4198-aee2-e018fce58b9f",
   "metadata": {},
   "source": [
    "This plot compares the actual reimbursements (x-axis) to the predicted reimbursements (y-axis) for the Medicare fee-for-service claims.\n",
    "Ideally, the points should align along a diagonal line (y=x), indicating that predicted values closely match the actual values.\n",
    "If the points mostly cluster around the line, it suggests that the model is making accurate predictions.\n",
    "Dispersed or spread-out points away from the line may indicate discrepancies between actual and predicted values."
   ]
  }
 ],
 "metadata": {
  "kernelspec": {
   "display_name": "anaconda-panel-2023.05-py310",
   "language": "python",
   "name": "conda-env-anaconda-panel-2023.05-py310-py"
  },
  "language_info": {
   "codemirror_mode": {
    "name": "ipython",
    "version": 3
   },
   "file_extension": ".py",
   "mimetype": "text/x-python",
   "name": "python",
   "nbconvert_exporter": "python",
   "pygments_lexer": "ipython3",
   "version": "3.11.5"
  }
 },
 "nbformat": 4,
 "nbformat_minor": 5
}
