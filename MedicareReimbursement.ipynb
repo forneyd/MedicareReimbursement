{
  "nbformat": 4,
  "nbformat_minor": 0,
  "metadata": {
    "colab": {
      "provenance": [],
      "gpuType": "V100",
      "machine_shape": "hm",
      "include_colab_link": true
    },
    "kernelspec": {
      "name": "python3",
      "display_name": "Python 3"
    },
    "accelerator": "GPU"
  },
  "cells": [
    {
      "cell_type": "markdown",
      "metadata": {
        "id": "view-in-github",
        "colab_type": "text"
      },
      "source": [
        "<a href=\"https://colab.research.google.com/github/forneyd/MedicareReimbursement/blob/main/MedicareReimbursement.ipynb\" target=\"_parent\"><img src=\"https://colab.research.google.com/assets/colab-badge.svg\" alt=\"Open In Colab\"/></a>"
      ]
    },
    {
      "cell_type": "markdown",
      "source": [
        "#Forecasting Annual Medicare Fee-for-Service Reimbursements for Carrier Claims (2008-2010)"
      ],
      "metadata": {
        "id": "u8z83uAn6WKl"
      }
    },
    {
      "cell_type": "markdown",
      "source": [
        "The term \"annual carrier Medicare reimbursement\" refers to the payments made by Medicare to healthcare providers or carriers for services rendered to Medicare beneficiaries. It encompasses reimbursements for a wide range of medical services, procedures, and treatments covered by Medicare Part B, which includes outpatient services like doctor's visits, preventive care, lab tests, medical equipment, and certain other outpatient treatments.\n",
        "\n",
        "Carriers or providers submit claims to Medicare for the services they provide to eligible beneficiaries. Medicare then reimburses these carriers or healthcare providers based on predetermined fee schedules or other payment mechanisms established by Medicare."
      ],
      "metadata": {
        "id": "Acmkm2dFQFi4"
      }
    },
    {
      "cell_type": "markdown",
      "metadata": {
        "id": "LWd1UlMnhT2s"
      },
      "source": [
        "## Importing the libraries"
      ]
    },
    {
      "cell_type": "code",
      "source": [
        "import numpy as np\n",
        "import matplotlib.pyplot as plt\n",
        "import pandas as pd\n",
        "import sys"
      ],
      "metadata": {
        "id": "d6Kow6rxQA7y"
      },
      "execution_count": null,
      "outputs": []
    },
    {
      "cell_type": "code",
      "source": [
        "pd.set_option('display.max_columns', None)\n",
        "pd.set_option('display.max_rows', None)\n",
        "pd.set_option('display.width', 1000)\n",
        "pd.describe_option('max_colwidth')"
      ],
      "metadata": {
        "colab": {
          "base_uri": "https://localhost:8080/"
        },
        "id": "kVO8Vtzq4i3G",
        "outputId": "48efb039-f2d0-4eac-af12-8ebcde512972"
      },
      "execution_count": null,
      "outputs": [
        {
          "output_type": "stream",
          "name": "stdout",
          "text": [
            "display.max_colwidth : int or None\n",
            "    The maximum width in characters of a column in the repr of\n",
            "    a pandas data structure. When the column overflows, a \"...\"\n",
            "    placeholder is embedded in the output. A 'None' value means unlimited.\n",
            "    [default: 50] [currently: 1000]\n"
          ]
        }
      ]
    },
    {
      "cell_type": "markdown",
      "metadata": {
        "id": "K1VMqkGvhc3-"
      },
      "source": [
        "### Importing the dataset"
      ]
    },
    {
      "cell_type": "code",
      "source": [
        "df = pd.read_csv('Data.csv')\n",
        "df = df.rename(columns={'DESYNPUF_ID': 'ID', 'BENE_BIRTH_DT':'Birth_Date', 'BENE_DEATH_DT':'Death_Date', 'BENE_SEX_IDENT_CD':'Sex',\n",
        "                        'BENE_RACE_CD':'RACE', 'SP_STATE_CODE':'State_Code', 'BENE_ESRD_IND':'End_Renal',\n",
        "                        'BENE_HI_CVRAGE_TOT_MONS':'Total_Months_PartA', 'BENE_SMI_CVRAGE_TOT_MONS':'Total_Months_PartB',\n",
        "                       'BENE_HMO_CVRAGE_TOT_MONS':'Total_Months_HMO', 'PLAN_CVRG_MOS_NUM':'Total_Months_PartD'})\n"
      ],
      "metadata": {
        "id": "QRD8M0cZQKBd"
      },
      "execution_count": null,
      "outputs": []
    },
    {
      "cell_type": "code",
      "source": [
        "df.isnull().sum()"
      ],
      "metadata": {
        "colab": {
          "base_uri": "https://localhost:8080/"
        },
        "id": "8Nk_xOqeEzMJ",
        "outputId": "1538ed42-e4f0-430d-eacd-59b3cbd3c291"
      },
      "execution_count": null,
      "outputs": [
        {
          "output_type": "execute_result",
          "data": {
            "text/plain": [
              "ID                         0\n",
              "Birth_Date                 0\n",
              "Death_Date            114538\n",
              "Sex                        0\n",
              "RACE                       0\n",
              "End_Renal                  0\n",
              "State_Code                 0\n",
              "BENE_COUNTY_CD             0\n",
              "Total_Months_PartA         0\n",
              "Total_Months_PartB         0\n",
              "Total_Months_HMO           0\n",
              "Total_Months_PartD         0\n",
              "SP_ALZHDMTA                0\n",
              "SP_CHF                     0\n",
              "SP_CHRNKIDN                0\n",
              "SP_CNCR                    0\n",
              "SP_COPD                    0\n",
              "SP_DEPRESSN                0\n",
              "SP_DIABETES                0\n",
              "SP_ISCHMCHT                0\n",
              "SP_OSTEOPRS                0\n",
              "SP_RA_OA                   0\n",
              "SP_STRKETIA                0\n",
              "MEDREIMB_IP                0\n",
              "BENRES_IP                  0\n",
              "PPPYMT_IP                  0\n",
              "MEDREIMB_OP                0\n",
              "BENRES_OP                  0\n",
              "PPPYMT_OP                  0\n",
              "MEDREIMB_CAR               0\n",
              "BENRES_CAR                 0\n",
              "PPPYMT_CAR                 0\n",
              "dtype: int64"
            ]
          },
          "metadata": {},
          "execution_count": 321
        }
      ]
    },
    {
      "cell_type": "code",
      "source": [
        "df = df.dropna()\n",
        "df = df.drop('BENE_COUNTY_CD', axis=1)"
      ],
      "metadata": {
        "id": "2jw4jZs1W2OI"
      },
      "execution_count": null,
      "outputs": []
    },
    {
      "cell_type": "code",
      "source": [
        "df['End_Renal'] = df['End_Renal'].replace(['Y', 1], ['0', 0])"
      ],
      "metadata": {
        "id": "1b5o1O3lCS4q"
      },
      "execution_count": null,
      "outputs": []
    },
    {
      "cell_type": "code",
      "source": [
        "df['End_Renal']"
      ],
      "metadata": {
        "id": "gWsWInRNkOJe"
      },
      "execution_count": null,
      "outputs": []
    },
    {
      "cell_type": "code",
      "source": [
        "MEDREIMB_CAR = df.pop('MEDREIMB_CAR')\n",
        "df['MEDREIMB_CAR'] = MEDREIMB_CAR"
      ],
      "metadata": {
        "id": "sqcsgP1ECXC1"
      },
      "execution_count": null,
      "outputs": []
    },
    {
      "cell_type": "code",
      "source": [
        "# Check unique values in the binary variables to understand their current representation\n",
        "print(df['SP_ALZHDMTA'].unique())\n",
        "print(df['SP_CHF'].unique())\n",
        "print(df['SP_CHRNKIDN'].unique())\n",
        "print(df['SP_CNCR'].unique())\n",
        "print(df['SP_COPD'].unique())\n",
        "print(df['SP_DEPRESSN'].unique())\n",
        "print(df['SP_DIABETES'].unique())\n",
        "print(df['SP_ISCHMCHT'].unique())\n",
        "print(df['SP_OSTEOPRS'].unique())\n",
        "print(df['SP_RA_OA'].unique())\n",
        "print(df['SP_STRKETIA'].unique())\n"
      ],
      "metadata": {
        "colab": {
          "base_uri": "https://localhost:8080/"
        },
        "id": "TrPsFne5HXXd",
        "outputId": "fe05f1c5-904b-486d-df38-645ba1fc81e8"
      },
      "execution_count": null,
      "outputs": [
        {
          "output_type": "stream",
          "name": "stdout",
          "text": [
            "[2 1]\n",
            "[2 1]\n",
            "[2 1]\n",
            "[2 1]\n",
            "[2 1]\n",
            "[2 1]\n",
            "[1 2]\n",
            "[2 1]\n",
            "[2 1]\n",
            "[2 1]\n",
            "[2 1]\n"
          ]
        }
      ]
    },
    {
      "cell_type": "code",
      "source": [
        "# Recode binary variables to 0 and 1 if they are not already encoded that way\n",
        "df['Sex'] = df['Sex'].map({2 : 0, 1: 1})\n",
        "df['SP_ALZHDMTA'] = df['SP_ALZHDMTA'].map({2 : 0, 1: 1})  # Replace 'No' with 0 and 'Yes' with 1\n",
        "df['SP_CHF'] = df['SP_CHF'].map({2 : 0, 1: 1})  # Replace 'No' with 0 and 'Yes' with 1\n",
        "df['SP_CHRNKIDN'] = df['SP_CHRNKIDN'].map({2 : 0, 1: 1})  # Replace 'No' with 0 and 'Yes' with 1\n",
        "df['SP_CNCR'] = df['SP_CNCR'].map({2 : 0, 1 : 1})  # Replace 'No' with 0 and 'Yes' with 1\n",
        "df['SP_COPD'] = df['SP_COPD'].map({2 : 0, 1: 1})  # Replace 'No' with 0 and 'Yes' with 1\n",
        "df['SP_DEPRESSN'] = df['SP_DEPRESSN'].map({2 : 0, 1 : 1})  # Replace 'No' with 0 and 'Yes' with 1\n",
        "df['SP_DIABETES'] = df['SP_DIABETES'].map({2: 0, 1: 1})  # Replace 'No' with 0 and 'Yes' with 1\n",
        "df['SP_ISCHMCHT'] = df['SP_ISCHMCHT'].map({2 : 0, 1: 1})  # Replace 'No' with 0 and 'Yes' with 1\n",
        "df['SP_OSTEOPRS'] = df['SP_OSTEOPRS'].map({2 : 0, 1 : 1})  # Replace 'No' with 0 and 'Yes' with 1\n",
        "df['SP_RA_OA'] = df['SP_RA_OA'].map({2 : 0, 1 : 1})  # Replace 'No' with 0 and 'Yes' with 1\n",
        "df['SP_STRKETIA'] = df['SP_STRKETIA'].map({2 : 0, 1 : 1})  # Replace 'No' with 0 and 'Yes' with 1"
      ],
      "metadata": {
        "id": "TUQRQUhAKkjV"
      },
      "execution_count": null,
      "outputs": []
    },
    {
      "cell_type": "code",
      "source": [
        "print(df['SP_ALZHDMTA'].unique())\n",
        "print(df['SP_CHF'].unique())\n",
        "print(df['SP_CHRNKIDN'].unique())\n",
        "print(df['SP_CNCR'].unique())\n",
        "print(df['SP_COPD'].unique())\n",
        "print(df['SP_DEPRESSN'].unique())\n",
        "print(df['SP_DIABETES'].unique())\n",
        "print(df['SP_ISCHMCHT'].unique())\n",
        "print(df['SP_OSTEOPRS'].unique())\n",
        "print(df['SP_RA_OA'].unique())\n",
        "print(df['SP_STRKETIA'].unique())"
      ],
      "metadata": {
        "colab": {
          "base_uri": "https://localhost:8080/"
        },
        "id": "KJapPaBqKfWN",
        "outputId": "6fa8b71b-f2cf-492a-a0a8-e1a3c2718f23"
      },
      "execution_count": null,
      "outputs": [
        {
          "output_type": "stream",
          "name": "stdout",
          "text": [
            "[0 1]\n",
            "[0 1]\n",
            "[0 1]\n",
            "[0 1]\n",
            "[0 1]\n",
            "[0 1]\n",
            "[1 0]\n",
            "[0 1]\n",
            "[0 1]\n",
            "[0 1]\n",
            "[0 1]\n"
          ]
        }
      ]
    },
    {
      "cell_type": "code",
      "source": [
        "print(df)"
      ],
      "metadata": {
        "id": "EXZa4NmIOPDZ"
      },
      "execution_count": null,
      "outputs": []
    },
    {
      "cell_type": "code",
      "source": [
        "patientcounts = len(df)\n",
        "print(patientcounts)"
      ],
      "metadata": {
        "colab": {
          "base_uri": "https://localhost:8080/"
        },
        "id": "F2DoVJHrAxaI",
        "outputId": "c7755638-6197-4bfb-d639-5e2102eff7fd"
      },
      "execution_count": null,
      "outputs": [
        {
          "output_type": "stream",
          "name": "stdout",
          "text": [
            "1814\n"
          ]
        }
      ]
    },
    {
      "cell_type": "code",
      "source": [
        "Sexcounts = df['Sex'].value_counts()\n",
        "print(Sexcounts)"
      ],
      "metadata": {
        "colab": {
          "base_uri": "https://localhost:8080/"
        },
        "id": "BLSUcGv2B3dh",
        "outputId": "730bc110-af9f-49cd-a092-223622493489"
      },
      "execution_count": null,
      "outputs": [
        {
          "output_type": "stream",
          "name": "stdout",
          "text": [
            "0    1003\n",
            "1     811\n",
            "Name: Sex, dtype: int64\n"
          ]
        }
      ]
    },
    {
      "cell_type": "markdown",
      "source": [
        "Male = 0\n",
        "Female = 1"
      ],
      "metadata": {
        "id": "XAF6LDjSCIND"
      }
    },
    {
      "cell_type": "code",
      "source": [
        "race_counts = df['RACE'].value_counts()\n",
        "print(race_counts)"
      ],
      "metadata": {
        "colab": {
          "base_uri": "https://localhost:8080/"
        },
        "id": "gfowgyTGCwfE",
        "outputId": "6ced74bd-c1aa-4943-f0e8-4dfda82adbf5"
      },
      "execution_count": null,
      "outputs": [
        {
          "output_type": "stream",
          "name": "stdout",
          "text": [
            "1    1527\n",
            "2     189\n",
            "3      64\n",
            "5      34\n",
            "Name: RACE, dtype: int64\n"
          ]
        }
      ]
    },
    {
      "cell_type": "markdown",
      "source": [
        "1 White\n",
        "2 Black\n",
        "3 Others\n",
        "5 Hispanic"
      ],
      "metadata": {
        "id": "YgNR9UnMDhRC"
      }
    },
    {
      "cell_type": "code",
      "source": [
        "alz_counts = df['SP_ALZHDMTA'].value_counts()\n",
        "print(alz_counts)"
      ],
      "metadata": {
        "colab": {
          "base_uri": "https://localhost:8080/"
        },
        "id": "yJThPY_8D9XG",
        "outputId": "8053e140-7b38-469b-f50b-6324a3572825"
      },
      "execution_count": null,
      "outputs": [
        {
          "output_type": "stream",
          "name": "stdout",
          "text": [
            "0    1450\n",
            "1     364\n",
            "Name: SP_ALZHDMTA, dtype: int64\n"
          ]
        }
      ]
    },
    {
      "cell_type": "code",
      "source": [
        "chf_counts = df['SP_CHF'].value_counts()\n",
        "print(chf_counts)"
      ],
      "metadata": {
        "colab": {
          "base_uri": "https://localhost:8080/"
        },
        "id": "dC3GqvV6Fq4R",
        "outputId": "ab4de41c-4694-429d-9cf5-0fcb824cbe7a"
      },
      "execution_count": null,
      "outputs": [
        {
          "output_type": "stream",
          "name": "stdout",
          "text": [
            "0    1311\n",
            "1     503\n",
            "Name: SP_CHF, dtype: int64\n"
          ]
        }
      ]
    },
    {
      "cell_type": "code",
      "source": [
        "cncr_counts = df['SP_CNCR'].value_counts()\n",
        "print(cncr_counts)"
      ],
      "metadata": {
        "colab": {
          "base_uri": "https://localhost:8080/"
        },
        "id": "dVgvesCRF23G",
        "outputId": "c3c3c45b-cab1-4581-f928-975b2a96f470"
      },
      "execution_count": null,
      "outputs": [
        {
          "output_type": "stream",
          "name": "stdout",
          "text": [
            "0    1694\n",
            "1     120\n",
            "Name: SP_CNCR, dtype: int64\n"
          ]
        }
      ]
    },
    {
      "cell_type": "code",
      "source": [
        "copd_counts = df['SP_COPD'].value_counts()\n",
        "print(copd_counts)"
      ],
      "metadata": {
        "colab": {
          "base_uri": "https://localhost:8080/"
        },
        "id": "CaeCoeCVGC2g",
        "outputId": "d10d17cf-ab27-4b8e-cb2e-64b63638fd02"
      },
      "execution_count": null,
      "outputs": [
        {
          "output_type": "stream",
          "name": "stdout",
          "text": [
            "0    1568\n",
            "1     246\n",
            "Name: SP_COPD, dtype: int64\n"
          ]
        }
      ]
    },
    {
      "cell_type": "code",
      "source": [
        "dep_counts = df['SP_DEPRESSN'].value_counts()\n",
        "print(dep_counts)"
      ],
      "metadata": {
        "colab": {
          "base_uri": "https://localhost:8080/"
        },
        "id": "9QxzXghtGMM0",
        "outputId": "81d4ded9-6629-494b-f178-5198eb22c286"
      },
      "execution_count": null,
      "outputs": [
        {
          "output_type": "stream",
          "name": "stdout",
          "text": [
            "0    1407\n",
            "1     407\n",
            "Name: SP_DEPRESSN, dtype: int64\n"
          ]
        }
      ]
    },
    {
      "cell_type": "code",
      "source": [
        "diab_counts = df['SP_DIABETES'].value_counts()\n",
        "print(diab_counts)"
      ],
      "metadata": {
        "colab": {
          "base_uri": "https://localhost:8080/"
        },
        "id": "lUESykFsGWsR",
        "outputId": "d3aa29bc-5286-4ee3-d1fb-633ec789d01a"
      },
      "execution_count": null,
      "outputs": [
        {
          "output_type": "stream",
          "name": "stdout",
          "text": [
            "0    1137\n",
            "1     677\n",
            "Name: SP_DIABETES, dtype: int64\n"
          ]
        }
      ]
    },
    {
      "cell_type": "code",
      "source": [
        "X = df.iloc[:, 3:-1].values\n",
        "y = df.iloc[:, -1:].values"
      ],
      "metadata": {
        "id": "903SiZYeCg5o"
      },
      "execution_count": null,
      "outputs": []
    },
    {
      "cell_type": "code",
      "source": [
        "print(X)"
      ],
      "metadata": {
        "id": "rg7c-CQTWkg7"
      },
      "execution_count": null,
      "outputs": []
    },
    {
      "cell_type": "code",
      "source": [
        "#One Hot Encoding categorical data\n",
        "#Encoding the Independent Variables\n",
        "\n",
        "from sklearn.compose import ColumnTransformer\n",
        "from sklearn.preprocessing import OneHotEncoder\n",
        "ct = ColumnTransformer(transformers=[('encoder', OneHotEncoder(),[1, 3])], remainder='passthrough')\n",
        "X = ct.fit_transform(X)"
      ],
      "metadata": {
        "id": "roXET-cGDwjn"
      },
      "execution_count": null,
      "outputs": []
    },
    {
      "cell_type": "code",
      "source": [
        "np.set_printoptions(threshold=sys.maxsize)\n",
        "print(X)"
      ],
      "metadata": {
        "id": "MaskLTlsMXgs"
      },
      "execution_count": null,
      "outputs": []
    },
    {
      "cell_type": "code",
      "source": [
        "print(y)"
      ],
      "metadata": {
        "id": "KQ6fMxEBQOcl"
      },
      "execution_count": null,
      "outputs": []
    },
    {
      "cell_type": "markdown",
      "metadata": {
        "id": "YvxIPVyMhmKp"
      },
      "source": [
        "## Splitting the dataset into the Training set and Test set"
      ]
    },
    {
      "cell_type": "code",
      "source": [
        "from sklearn.model_selection import train_test_split\n",
        "X_train, X_test, y_train, y_test = train_test_split(X, y, test_size = 0.25, random_state = 0)"
      ],
      "metadata": {
        "id": "GVR12SEoT6VC"
      },
      "execution_count": null,
      "outputs": []
    },
    {
      "cell_type": "code",
      "source": [
        "print(X_test[0, :])"
      ],
      "metadata": {
        "id": "zEWDb9KgaMKY",
        "colab": {
          "base_uri": "https://localhost:8080/"
        },
        "outputId": "faeb3262-a218-4d98-dd53-d51e4a0f8552"
      },
      "execution_count": 364,
      "outputs": [
        {
          "output_type": "stream",
          "name": "stdout",
          "text": [
            "[1.0 0.0 0.0 0.0 0.0 0.0 0.0 0.0 0.0 0.0 0.0 0.0 0.0 0.0 0.0 0.0 0.0 1.0\n",
            " 0.0 0.0 0.0 0.0 0.0 0.0 0.0 0.0 0.0 0.0 0.0 0.0 0.0 0.0 0.0 0.0 0.0 0.0\n",
            " 0.0 0.0 0.0 0.0 0.0 0.0 0.0 0.0 0.0 0.0 0.0 0.0 0.0 0.0 0.0 0.0 0.0 0.0\n",
            " 0.0 0.0 0 '0' 12 12 0 0 0 1 1 0 1 0 1 1 0 1 0 22000.0 1024.0 0.0 0.0 0.0\n",
            " 0.0 360.0 60.0]\n"
          ]
        }
      ]
    },
    {
      "cell_type": "code",
      "source": [
        "print(X_train[0, :])"
      ],
      "metadata": {
        "colab": {
          "base_uri": "https://localhost:8080/"
        },
        "id": "vgeiEGYAar0V",
        "outputId": "24b76b8d-9c8f-4fa2-c6ab-700741877292"
      },
      "execution_count": 365,
      "outputs": [
        {
          "output_type": "stream",
          "name": "stdout",
          "text": [
            "[0.0 1.0 0.0 0.0 0.0 0.0 0.0 0.0 0.0 0.0 0.0 0.0 0.0 0.0 0.0 0.0 0.0 0.0\n",
            " 0.0 0.0 0.0 0.0 0.0 0.0 0.0 0.0 0.0 0.0 0.0 0.0 0.0 0.0 0.0 0.0 0.0 0.0\n",
            " 1.0 0.0 0.0 0.0 0.0 0.0 0.0 0.0 0.0 0.0 0.0 0.0 0.0 0.0 0.0 0.0 0.0 0.0\n",
            " 0.0 0.0 0 '0' 12 12 12 5 0 0 0 0 0 0 0 0 0 0 0 0.0 0.0 0.0 1840.0 220.0\n",
            " 0.0 0.0 0.0]\n"
          ]
        }
      ]
    },
    {
      "cell_type": "code",
      "source": [
        "print(y_test)"
      ],
      "metadata": {
        "id": "BY54wsaEbL5N"
      },
      "execution_count": null,
      "outputs": []
    },
    {
      "cell_type": "markdown",
      "metadata": {
        "id": "bb6jCOCQiAmP"
      },
      "source": [
        "## Training the Multiple Linear Regression model on the Training set"
      ]
    },
    {
      "cell_type": "code",
      "source": [
        "from sklearn.linear_model import LinearRegression\n",
        "regressor = LinearRegression()\n",
        "regressor.fit(X_train, y_train)"
      ],
      "metadata": {
        "colab": {
          "base_uri": "https://localhost:8080/",
          "height": 75
        },
        "id": "A9ZoRSi6blLD",
        "outputId": "06832b5d-e03f-40f1-ff96-feccdf6aad70"
      },
      "execution_count": null,
      "outputs": [
        {
          "output_type": "execute_result",
          "data": {
            "text/plain": [
              "LinearRegression()"
            ],
            "text/html": [
              "<style>#sk-container-id-5 {color: black;background-color: white;}#sk-container-id-5 pre{padding: 0;}#sk-container-id-5 div.sk-toggleable {background-color: white;}#sk-container-id-5 label.sk-toggleable__label {cursor: pointer;display: block;width: 100%;margin-bottom: 0;padding: 0.3em;box-sizing: border-box;text-align: center;}#sk-container-id-5 label.sk-toggleable__label-arrow:before {content: \"▸\";float: left;margin-right: 0.25em;color: #696969;}#sk-container-id-5 label.sk-toggleable__label-arrow:hover:before {color: black;}#sk-container-id-5 div.sk-estimator:hover label.sk-toggleable__label-arrow:before {color: black;}#sk-container-id-5 div.sk-toggleable__content {max-height: 0;max-width: 0;overflow: hidden;text-align: left;background-color: #f0f8ff;}#sk-container-id-5 div.sk-toggleable__content pre {margin: 0.2em;color: black;border-radius: 0.25em;background-color: #f0f8ff;}#sk-container-id-5 input.sk-toggleable__control:checked~div.sk-toggleable__content {max-height: 200px;max-width: 100%;overflow: auto;}#sk-container-id-5 input.sk-toggleable__control:checked~label.sk-toggleable__label-arrow:before {content: \"▾\";}#sk-container-id-5 div.sk-estimator input.sk-toggleable__control:checked~label.sk-toggleable__label {background-color: #d4ebff;}#sk-container-id-5 div.sk-label input.sk-toggleable__control:checked~label.sk-toggleable__label {background-color: #d4ebff;}#sk-container-id-5 input.sk-hidden--visually {border: 0;clip: rect(1px 1px 1px 1px);clip: rect(1px, 1px, 1px, 1px);height: 1px;margin: -1px;overflow: hidden;padding: 0;position: absolute;width: 1px;}#sk-container-id-5 div.sk-estimator {font-family: monospace;background-color: #f0f8ff;border: 1px dotted black;border-radius: 0.25em;box-sizing: border-box;margin-bottom: 0.5em;}#sk-container-id-5 div.sk-estimator:hover {background-color: #d4ebff;}#sk-container-id-5 div.sk-parallel-item::after {content: \"\";width: 100%;border-bottom: 1px solid gray;flex-grow: 1;}#sk-container-id-5 div.sk-label:hover label.sk-toggleable__label {background-color: #d4ebff;}#sk-container-id-5 div.sk-serial::before {content: \"\";position: absolute;border-left: 1px solid gray;box-sizing: border-box;top: 0;bottom: 0;left: 50%;z-index: 0;}#sk-container-id-5 div.sk-serial {display: flex;flex-direction: column;align-items: center;background-color: white;padding-right: 0.2em;padding-left: 0.2em;position: relative;}#sk-container-id-5 div.sk-item {position: relative;z-index: 1;}#sk-container-id-5 div.sk-parallel {display: flex;align-items: stretch;justify-content: center;background-color: white;position: relative;}#sk-container-id-5 div.sk-item::before, #sk-container-id-5 div.sk-parallel-item::before {content: \"\";position: absolute;border-left: 1px solid gray;box-sizing: border-box;top: 0;bottom: 0;left: 50%;z-index: -1;}#sk-container-id-5 div.sk-parallel-item {display: flex;flex-direction: column;z-index: 1;position: relative;background-color: white;}#sk-container-id-5 div.sk-parallel-item:first-child::after {align-self: flex-end;width: 50%;}#sk-container-id-5 div.sk-parallel-item:last-child::after {align-self: flex-start;width: 50%;}#sk-container-id-5 div.sk-parallel-item:only-child::after {width: 0;}#sk-container-id-5 div.sk-dashed-wrapped {border: 1px dashed gray;margin: 0 0.4em 0.5em 0.4em;box-sizing: border-box;padding-bottom: 0.4em;background-color: white;}#sk-container-id-5 div.sk-label label {font-family: monospace;font-weight: bold;display: inline-block;line-height: 1.2em;}#sk-container-id-5 div.sk-label-container {text-align: center;}#sk-container-id-5 div.sk-container {/* jupyter's `normalize.less` sets `[hidden] { display: none; }` but bootstrap.min.css set `[hidden] { display: none !important; }` so we also need the `!important` here to be able to override the default hidden behavior on the sphinx rendered scikit-learn.org. See: https://github.com/scikit-learn/scikit-learn/issues/21755 */display: inline-block !important;position: relative;}#sk-container-id-5 div.sk-text-repr-fallback {display: none;}</style><div id=\"sk-container-id-5\" class=\"sk-top-container\"><div class=\"sk-text-repr-fallback\"><pre>LinearRegression()</pre><b>In a Jupyter environment, please rerun this cell to show the HTML representation or trust the notebook. <br />On GitHub, the HTML representation is unable to render, please try loading this page with nbviewer.org.</b></div><div class=\"sk-container\" hidden><div class=\"sk-item\"><div class=\"sk-estimator sk-toggleable\"><input class=\"sk-toggleable__control sk-hidden--visually\" id=\"sk-estimator-id-5\" type=\"checkbox\" checked><label for=\"sk-estimator-id-5\" class=\"sk-toggleable__label sk-toggleable__label-arrow\">LinearRegression</label><div class=\"sk-toggleable__content\"><pre>LinearRegression()</pre></div></div></div></div></div>"
            ]
          },
          "metadata": {},
          "execution_count": 348
        }
      ]
    },
    {
      "cell_type": "markdown",
      "metadata": {
        "id": "pzF3BRps9nlk"
      },
      "source": [
        "### Predicting the Test set results"
      ]
    },
    {
      "cell_type": "code",
      "source": [
        "y_pred = regressor.predict(X_test)\n",
        "np.set_printoptions(precision=2)\n",
        "print(np.concatenate((y_pred.reshape(len(y_pred),1), y_test.reshape(len(y_test),1)),1))"
      ],
      "metadata": {
        "id": "DCnMVZvmqOpW"
      },
      "execution_count": null,
      "outputs": []
    },
    {
      "cell_type": "markdown",
      "metadata": {
        "id": "vKYVQH-l5NpE"
      },
      "source": [
        "### Evaluating the Model Performance"
      ]
    },
    {
      "cell_type": "code",
      "source": [
        "from sklearn.metrics import r2_score\n",
        "r2_score(y_test, y_pred)"
      ],
      "metadata": {
        "colab": {
          "base_uri": "https://localhost:8080/"
        },
        "id": "Vg9dOxUxmv26",
        "outputId": "af40a702-efe8-4df5-9df0-c2ef05c4077a"
      },
      "execution_count": null,
      "outputs": [
        {
          "output_type": "execute_result",
          "data": {
            "text/plain": [
              "0.9171089161695379"
            ]
          },
          "metadata": {},
          "execution_count": 350
        }
      ]
    },
    {
      "cell_type": "markdown",
      "source": [
        "### Prediction Example"
      ],
      "metadata": {
        "id": "N7NTZtFIxDeq"
      }
    },
    {
      "cell_type": "code",
      "source": [
        "X_new = [[0.0, 0.0, 1.0 ,0.0 ,0.0, 0.0, 0.0 ,0.0, 0.0, 0.0, 0.0, 0.0, 0.0, 0.0, 0.0, 0.0, 0.0, 0.0,\n",
        "  0.0, 0.0, 0.0, 0.0, 0.0, 0.0, 0.0, 0.0, 0.0, 0.0, 1.0, 0.0, 0.0, 0.0, 0.0, 0.0, 0.0, 0.0,\n",
        "  0.0, 0.0, 0.0, 0.0, 0.0, 0.0, 0.0, 0.0, 0.0, 0.0, 0.0, 0.0, 0.0, 0.0, 0.0, 0.0, 0.0, 0.0,\n",
        "  0.0, 0.0, 0, 0, 9, 9, 3, 9, 0, 0, 0, 0, 1, 1, 1, 0, 0, 1, 0, 2000.0, 150.0, 0.0, 800.0,\n",
        "  0.0, 0.0, 500.0, 0]]"
      ],
      "metadata": {
        "id": "jOb2W9PIxsAu"
      },
      "execution_count": null,
      "outputs": []
    },
    {
      "cell_type": "code",
      "source": [
        "new_prediction = regressor.predict(X_new)\n",
        "print(new_prediction)"
      ],
      "metadata": {
        "colab": {
          "base_uri": "https://localhost:8080/"
        },
        "id": "dyn0ZRSv2ACu",
        "outputId": "3600bf1e-e125-4c01-c07e-893614a465e7"
      },
      "execution_count": null,
      "outputs": [
        {
          "output_type": "stream",
          "name": "stdout",
          "text": [
            "[[1628.87]]\n"
          ]
        }
      ]
    },
    {
      "cell_type": "markdown",
      "source": [
        "**Results**\n",
        "\n",
        "The predicted annual carrier Medicare reimbursement amount for a black woman in Michigan, living with COPD, Diabetes, Rheumatoid Arthritis, and depression, is estimated to be $1628.87. This prediction was generated using a multiple linear regression model based on various factors such as her medical conditions and previous Medicare reimbursements.\n",
        "\n",
        "The breakdown of her Medicare reimbursements and responsibilities includes:\n",
        "\n",
        "Inpatient annual Medicare reimbursement amount: $2000\n",
        "\n",
        "Inpatient annual beneficiary responsibility amount: $150\n",
        "\n",
        "No Inpatient annual primary payer reimbursement amount\n",
        "\n",
        "Outpatient annual Medicare reimbursement amount: $800\n",
        "\n",
        "No Outpatient annual beneficiary responsibility amount\n",
        "\n",
        "No Outpatient annual primary payer reimbursement amount\n",
        "\n",
        "Carrier annual beneficiary responsibility amount: $500\n",
        "\n",
        "No Carrier annual primary payer reimbursement amount\n",
        "\n",
        "The model took into account these reimbursements and responsibilities, along with the specific medical conditions she faces, to arrive at the estimated Carrier annual Medicare reimbursement amount.\n",
        "\n",
        "This predictive model offers insights into potential Medicare reimbursements for a black woman in Michigan dealing with multiple chronic conditions, aiding in financial planning and resource allocation for her healthcare needs."
      ],
      "metadata": {
        "id": "1A2qVOJUNrNW"
      }
    },
    {
      "cell_type": "markdown",
      "source": [
        "**Significance**\n",
        "\n",
        "The annual Carrier Medicare reimbursement, especially in the context of predicting a specific amount ($1628.87 in this case), holds considerable significance for the healthcare planning and financial management of a black woman residing in Michigan with COPD, Diabetes, Rheumatoid Arthritis, and depression.\n",
        "\n",
        "Understanding and predicting the Carrier Medicare reimbursement amount is crucial as it assists in projecting the expected financial support that the individual can anticipate receiving for their medical treatments and services. In this scenario, the predicted reimbursement amount of $1628.87, derived from a multiple linear regression model, serves as a valuable estimation tool. It factors in the individual's demographic data, medical conditions, and previous Medicare reimbursements to provide an approximation of the expected reimbursement.\n",
        "\n",
        "This predicted reimbursement amount aids the individual and healthcare providers in several ways:\n",
        "\n",
        "Financial Planning: It helps the individual in planning their healthcare expenses and budgeting for out-of-pocket costs, considering the estimated Medicare reimbursement for the upcoming year.\n",
        "\n",
        "Resource Allocation: Healthcare providers and institutions can use this information to allocate resources and services effectively, ensuring adequate support and care for the patient's specific medical needs.\n",
        "\n",
        "Treatment Decision-making: The predicted reimbursement amount can influence treatment decisions, ensuring that the individual can afford necessary treatments and services covered by Medicare.\n",
        "\n",
        "Policy and Research Implications: Predictive models for Medicare reimbursement amounts, especially considering various medical conditions and demographics, contribute to policy discussions and further research on healthcare disparities and access to care for specific demographic groups facing multiple health challenges.\n",
        "\n",
        "In summary, the estimated Carrier Medicare reimbursement amount of $1628.87, tailored to the individual's circumstances, plays a significant role in financial planning, resource allocation, and treatment decisions, facilitating better healthcare management for the black woman in Michigan with multiple chronic conditions."
      ],
      "metadata": {
        "id": "AphVOUr5N3rn"
      }
    },
    {
      "cell_type": "markdown",
      "metadata": {
        "id": "6OMC_P0diaoD"
      },
      "source": [
        "### Visualising the Test set results"
      ]
    },
    {
      "cell_type": "code",
      "source": [
        "plt.figure(figsize=(8, 6))\n",
        "plt.scatter(y_test, y_pred)\n",
        "plt.xlabel('Actual Reimbursment')\n",
        "plt.ylabel('Predicted Reimbursment')\n",
        "plt.title('Comparison between Predicted and Actual Medicare Fee-for-Service Reimbursements for the Year (Multiple Linear Regression)')\n",
        "plt.plot([y_test.min(), y_test.max()], [y_test.min(), y_test.max()], 'k--', lw=2)\n",
        "plt.grid(True)\n",
        "plt.show()"
      ],
      "metadata": {
        "id": "gxC7miqYfNAX",
        "colab": {
          "base_uri": "https://localhost:8080/",
          "height": 564
        },
        "outputId": "26a7663f-21ac-46ea-ebb8-c12fbaaf748e"
      },
      "execution_count": 370,
      "outputs": [
        {
          "output_type": "display_data",
          "data": {
            "text/plain": [
              "<Figure size 800x600 with 1 Axes>"
            ],
            "image/png": "[encoded data removed]"
          },
          "metadata": {}
        }
      ]
    },
    {
      "cell_type": "markdown",
      "source": [
        "#### This plot compares the actual reimbursements (x-axis) to the predicted reimbursements (y-axis) for the Medicare fee-for-service claims. Ideally, the points should align along a diagonal line (y=x), indicating that predicted values closely match the actual values. If the points mostly cluster around the line, it suggests that the model is making accurate predictions. Dispersed or spread-out points away from the line may indicate discrepancies between actual and predicted values."
      ],
      "metadata": {
        "id": "hxLBiaU57TKD"
      }
    },
    {
      "cell_type": "markdown",
      "source": [
        "## Training the Random Forest Regression model on the whole dataset"
      ],
      "metadata": {
        "id": "3IHe9HFtyxKf"
      }
    },
    {
      "cell_type": "code",
      "source": [
        "from sklearn.ensemble import RandomForestRegressor\n",
        "RFregressor = RandomForestRegressor(n_estimators = 10, random_state = 0)\n",
        "RFregressor.fit(X_train, y_train)"
      ],
      "metadata": {
        "colab": {
          "base_uri": "https://localhost:8080/",
          "height": 129
        },
        "id": "GzLRfrv8ywvf",
        "outputId": "775be717-b644-4647-b3fe-40ca25ffae89"
      },
      "execution_count": null,
      "outputs": [
        {
          "output_type": "stream",
          "name": "stderr",
          "text": [
            "<ipython-input-354-af5cccb35651>:3: DataConversionWarning: A column-vector y was passed when a 1d array was expected. Please change the shape of y to (n_samples,), for example using ravel().\n",
            "  RFregressor.fit(X_train, y_train)\n"
          ]
        },
        {
          "output_type": "execute_result",
          "data": {
            "text/plain": [
              "RandomForestRegressor(n_estimators=10, random_state=0)"
            ],
            "text/html": [
              "<style>#sk-container-id-6 {color: black;background-color: white;}#sk-container-id-6 pre{padding: 0;}#sk-container-id-6 div.sk-toggleable {background-color: white;}#sk-container-id-6 label.sk-toggleable__label {cursor: pointer;display: block;width: 100%;margin-bottom: 0;padding: 0.3em;box-sizing: border-box;text-align: center;}#sk-container-id-6 label.sk-toggleable__label-arrow:before {content: \"▸\";float: left;margin-right: 0.25em;color: #696969;}#sk-container-id-6 label.sk-toggleable__label-arrow:hover:before {color: black;}#sk-container-id-6 div.sk-estimator:hover label.sk-toggleable__label-arrow:before {color: black;}#sk-container-id-6 div.sk-toggleable__content {max-height: 0;max-width: 0;overflow: hidden;text-align: left;background-color: #f0f8ff;}#sk-container-id-6 div.sk-toggleable__content pre {margin: 0.2em;color: black;border-radius: 0.25em;background-color: #f0f8ff;}#sk-container-id-6 input.sk-toggleable__control:checked~div.sk-toggleable__content {max-height: 200px;max-width: 100%;overflow: auto;}#sk-container-id-6 input.sk-toggleable__control:checked~label.sk-toggleable__label-arrow:before {content: \"▾\";}#sk-container-id-6 div.sk-estimator input.sk-toggleable__control:checked~label.sk-toggleable__label {background-color: #d4ebff;}#sk-container-id-6 div.sk-label input.sk-toggleable__control:checked~label.sk-toggleable__label {background-color: #d4ebff;}#sk-container-id-6 input.sk-hidden--visually {border: 0;clip: rect(1px 1px 1px 1px);clip: rect(1px, 1px, 1px, 1px);height: 1px;margin: -1px;overflow: hidden;padding: 0;position: absolute;width: 1px;}#sk-container-id-6 div.sk-estimator {font-family: monospace;background-color: #f0f8ff;border: 1px dotted black;border-radius: 0.25em;box-sizing: border-box;margin-bottom: 0.5em;}#sk-container-id-6 div.sk-estimator:hover {background-color: #d4ebff;}#sk-container-id-6 div.sk-parallel-item::after {content: \"\";width: 100%;border-bottom: 1px solid gray;flex-grow: 1;}#sk-container-id-6 div.sk-label:hover label.sk-toggleable__label {background-color: #d4ebff;}#sk-container-id-6 div.sk-serial::before {content: \"\";position: absolute;border-left: 1px solid gray;box-sizing: border-box;top: 0;bottom: 0;left: 50%;z-index: 0;}#sk-container-id-6 div.sk-serial {display: flex;flex-direction: column;align-items: center;background-color: white;padding-right: 0.2em;padding-left: 0.2em;position: relative;}#sk-container-id-6 div.sk-item {position: relative;z-index: 1;}#sk-container-id-6 div.sk-parallel {display: flex;align-items: stretch;justify-content: center;background-color: white;position: relative;}#sk-container-id-6 div.sk-item::before, #sk-container-id-6 div.sk-parallel-item::before {content: \"\";position: absolute;border-left: 1px solid gray;box-sizing: border-box;top: 0;bottom: 0;left: 50%;z-index: -1;}#sk-container-id-6 div.sk-parallel-item {display: flex;flex-direction: column;z-index: 1;position: relative;background-color: white;}#sk-container-id-6 div.sk-parallel-item:first-child::after {align-self: flex-end;width: 50%;}#sk-container-id-6 div.sk-parallel-item:last-child::after {align-self: flex-start;width: 50%;}#sk-container-id-6 div.sk-parallel-item:only-child::after {width: 0;}#sk-container-id-6 div.sk-dashed-wrapped {border: 1px dashed gray;margin: 0 0.4em 0.5em 0.4em;box-sizing: border-box;padding-bottom: 0.4em;background-color: white;}#sk-container-id-6 div.sk-label label {font-family: monospace;font-weight: bold;display: inline-block;line-height: 1.2em;}#sk-container-id-6 div.sk-label-container {text-align: center;}#sk-container-id-6 div.sk-container {/* jupyter's `normalize.less` sets `[hidden] { display: none; }` but bootstrap.min.css set `[hidden] { display: none !important; }` so we also need the `!important` here to be able to override the default hidden behavior on the sphinx rendered scikit-learn.org. See: https://github.com/scikit-learn/scikit-learn/issues/21755 */display: inline-block !important;position: relative;}#sk-container-id-6 div.sk-text-repr-fallback {display: none;}</style><div id=\"sk-container-id-6\" class=\"sk-top-container\"><div class=\"sk-text-repr-fallback\"><pre>RandomForestRegressor(n_estimators=10, random_state=0)</pre><b>In a Jupyter environment, please rerun this cell to show the HTML representation or trust the notebook. <br />On GitHub, the HTML representation is unable to render, please try loading this page with nbviewer.org.</b></div><div class=\"sk-container\" hidden><div class=\"sk-item\"><div class=\"sk-estimator sk-toggleable\"><input class=\"sk-toggleable__control sk-hidden--visually\" id=\"sk-estimator-id-6\" type=\"checkbox\" checked><label for=\"sk-estimator-id-6\" class=\"sk-toggleable__label sk-toggleable__label-arrow\">RandomForestRegressor</label><div class=\"sk-toggleable__content\"><pre>RandomForestRegressor(n_estimators=10, random_state=0)</pre></div></div></div></div></div>"
            ]
          },
          "metadata": {},
          "execution_count": 354
        }
      ]
    },
    {
      "cell_type": "markdown",
      "source": [
        "### Predicting the Test set results"
      ],
      "metadata": {
        "id": "00724AbazWDx"
      }
    },
    {
      "cell_type": "code",
      "source": [
        "y_pred_rf = RFregressor.predict(X_test)\n",
        "np.set_printoptions(precision=2)\n",
        "print(np.concatenate((y_pred_rf.reshape(len(y_pred_rf),1), y_test.reshape(len(y_test),1)),1))"
      ],
      "metadata": {
        "id": "gtVaN90VzVEc"
      },
      "execution_count": null,
      "outputs": []
    },
    {
      "cell_type": "markdown",
      "source": [
        "### Evaluating the Model Performance"
      ],
      "metadata": {
        "id": "d8KmrkdZz5no"
      }
    },
    {
      "cell_type": "code",
      "source": [
        "from sklearn.metrics import r2_score\n",
        "r2_score(y_test, y_pred_rf)"
      ],
      "metadata": {
        "colab": {
          "base_uri": "https://localhost:8080/"
        },
        "id": "5ZtBkS7QzzLI",
        "outputId": "23dc0000-07da-4e31-b18b-f820401a1658"
      },
      "execution_count": null,
      "outputs": [
        {
          "output_type": "execute_result",
          "data": {
            "text/plain": [
              "0.9024199038047211"
            ]
          },
          "metadata": {},
          "execution_count": 356
        }
      ]
    },
    {
      "cell_type": "markdown",
      "source": [
        "### Prediction Example"
      ],
      "metadata": {
        "id": "vS3K_VVZRkXq"
      }
    },
    {
      "cell_type": "code",
      "source": [
        "new_rf_pred = RFregressor.predict(X_new)\n",
        "print(new_rf_pred)"
      ],
      "metadata": {
        "colab": {
          "base_uri": "https://localhost:8080/"
        },
        "id": "YePZ_ha3Rmoi",
        "outputId": "27f942ee-9326-447c-8ca6-235224fcff51"
      },
      "execution_count": null,
      "outputs": [
        {
          "output_type": "stream",
          "name": "stdout",
          "text": [
            "[1422.]\n"
          ]
        }
      ]
    },
    {
      "cell_type": "markdown",
      "source": [
        "### Visualize Random Forest Model"
      ],
      "metadata": {
        "id": "mCMHvLnw07Rp"
      }
    },
    {
      "cell_type": "code",
      "source": [
        "plt.figure(figsize=(8, 6))\n",
        "plt.scatter(y_test, y_pred_rf)\n",
        "plt.xlabel('Actual Reimbursment')\n",
        "plt.ylabel('Predicted Reimbursment')\n",
        "plt.title('Comparison between Predicted and Actual Medicare Fee-for-Service Reimbursements for the Year (Random Forest)')\n",
        "plt.plot([y_test.min(), y_test.max()], [y_test.min(), y_test.max()], 'k--', lw=2)\n",
        "plt.grid(True)\n",
        "plt.show()"
      ],
      "metadata": {
        "colab": {
          "base_uri": "https://localhost:8080/",
          "height": 564
        },
        "id": "hLKvYO2M06Ee",
        "outputId": "aaedf9c4-e955-49f5-95f3-4fed18d4007e"
      },
      "execution_count": 369,
      "outputs": [
        {
          "output_type": "display_data",
          "data": {
            "text/plain": [
              "<Figure size 800x600 with 1 Axes>"
            ],
            "image/png": "[encoded data removed]"
          },
          "metadata": {}
        }
      ]
    },
    {
      "cell_type": "markdown",
      "source": [
        "## Training the XG Boost model on the whole dataset"
      ],
      "metadata": {
        "id": "uXQlyh5b1hhp"
      }
    },
    {
      "cell_type": "code",
      "source": [
        "import xgboost as xgb\n",
        "xmodel = xgb.XGBRegressor(objective ='reg:squarederror', colsample_bytree = 0.3, learning_rate = 0.1,\n",
        "                max_depth = 5, alpha = 10, n_estimators = 100) # Adjust hyperparameters as needed\n",
        "xmodel.fit(X_train, y_train)"
      ],
      "metadata": {
        "colab": {
          "base_uri": "https://localhost:8080/",
          "height": 248
        },
        "id": "CUBbKelP2B0_",
        "outputId": "f1a7d0ae-6996-4010-97b8-949aa915b4fa"
      },
      "execution_count": null,
      "outputs": [
        {
          "output_type": "execute_result",
          "data": {
            "text/plain": [
              "XGBRegressor(alpha=10, base_score=None, booster=None, callbacks=None,\n",
              "             colsample_bylevel=None, colsample_bynode=None,\n",
              "             colsample_bytree=0.3, device=None, early_stopping_rounds=None,\n",
              "             enable_categorical=False, eval_metric=None, feature_types=None,\n",
              "             gamma=None, grow_policy=None, importance_type=None,\n",
              "             interaction_constraints=None, learning_rate=0.1, max_bin=None,\n",
              "             max_cat_threshold=None, max_cat_to_onehot=None,\n",
              "             max_delta_step=None, max_depth=5, max_leaves=None,\n",
              "             min_child_weight=None, missing=nan, monotone_constraints=None,\n",
              "             multi_strategy=None, n_estimators=100, n_jobs=None,\n",
              "             num_parallel_tree=None, ...)"
            ],
            "text/html": [
              "<style>#sk-container-id-7 {color: black;background-color: white;}#sk-container-id-7 pre{padding: 0;}#sk-container-id-7 div.sk-toggleable {background-color: white;}#sk-container-id-7 label.sk-toggleable__label {cursor: pointer;display: block;width: 100%;margin-bottom: 0;padding: 0.3em;box-sizing: border-box;text-align: center;}#sk-container-id-7 label.sk-toggleable__label-arrow:before {content: \"▸\";float: left;margin-right: 0.25em;color: #696969;}#sk-container-id-7 label.sk-toggleable__label-arrow:hover:before {color: black;}#sk-container-id-7 div.sk-estimator:hover label.sk-toggleable__label-arrow:before {color: black;}#sk-container-id-7 div.sk-toggleable__content {max-height: 0;max-width: 0;overflow: hidden;text-align: left;background-color: #f0f8ff;}#sk-container-id-7 div.sk-toggleable__content pre {margin: 0.2em;color: black;border-radius: 0.25em;background-color: #f0f8ff;}#sk-container-id-7 input.sk-toggleable__control:checked~div.sk-toggleable__content {max-height: 200px;max-width: 100%;overflow: auto;}#sk-container-id-7 input.sk-toggleable__control:checked~label.sk-toggleable__label-arrow:before {content: \"▾\";}#sk-container-id-7 div.sk-estimator input.sk-toggleable__control:checked~label.sk-toggleable__label {background-color: #d4ebff;}#sk-container-id-7 div.sk-label input.sk-toggleable__control:checked~label.sk-toggleable__label {background-color: #d4ebff;}#sk-container-id-7 input.sk-hidden--visually {border: 0;clip: rect(1px 1px 1px 1px);clip: rect(1px, 1px, 1px, 1px);height: 1px;margin: -1px;overflow: hidden;padding: 0;position: absolute;width: 1px;}#sk-container-id-7 div.sk-estimator {font-family: monospace;background-color: #f0f8ff;border: 1px dotted black;border-radius: 0.25em;box-sizing: border-box;margin-bottom: 0.5em;}#sk-container-id-7 div.sk-estimator:hover {background-color: #d4ebff;}#sk-container-id-7 div.sk-parallel-item::after {content: \"\";width: 100%;border-bottom: 1px solid gray;flex-grow: 1;}#sk-container-id-7 div.sk-label:hover label.sk-toggleable__label {background-color: #d4ebff;}#sk-container-id-7 div.sk-serial::before {content: \"\";position: absolute;border-left: 1px solid gray;box-sizing: border-box;top: 0;bottom: 0;left: 50%;z-index: 0;}#sk-container-id-7 div.sk-serial {display: flex;flex-direction: column;align-items: center;background-color: white;padding-right: 0.2em;padding-left: 0.2em;position: relative;}#sk-container-id-7 div.sk-item {position: relative;z-index: 1;}#sk-container-id-7 div.sk-parallel {display: flex;align-items: stretch;justify-content: center;background-color: white;position: relative;}#sk-container-id-7 div.sk-item::before, #sk-container-id-7 div.sk-parallel-item::before {content: \"\";position: absolute;border-left: 1px solid gray;box-sizing: border-box;top: 0;bottom: 0;left: 50%;z-index: -1;}#sk-container-id-7 div.sk-parallel-item {display: flex;flex-direction: column;z-index: 1;position: relative;background-color: white;}#sk-container-id-7 div.sk-parallel-item:first-child::after {align-self: flex-end;width: 50%;}#sk-container-id-7 div.sk-parallel-item:last-child::after {align-self: flex-start;width: 50%;}#sk-container-id-7 div.sk-parallel-item:only-child::after {width: 0;}#sk-container-id-7 div.sk-dashed-wrapped {border: 1px dashed gray;margin: 0 0.4em 0.5em 0.4em;box-sizing: border-box;padding-bottom: 0.4em;background-color: white;}#sk-container-id-7 div.sk-label label {font-family: monospace;font-weight: bold;display: inline-block;line-height: 1.2em;}#sk-container-id-7 div.sk-label-container {text-align: center;}#sk-container-id-7 div.sk-container {/* jupyter's `normalize.less` sets `[hidden] { display: none; }` but bootstrap.min.css set `[hidden] { display: none !important; }` so we also need the `!important` here to be able to override the default hidden behavior on the sphinx rendered scikit-learn.org. See: https://github.com/scikit-learn/scikit-learn/issues/21755 */display: inline-block !important;position: relative;}#sk-container-id-7 div.sk-text-repr-fallback {display: none;}</style><div id=\"sk-container-id-7\" class=\"sk-top-container\"><div class=\"sk-text-repr-fallback\"><pre>XGBRegressor(alpha=10, base_score=None, booster=None, callbacks=None,\n",
              "             colsample_bylevel=None, colsample_bynode=None,\n",
              "             colsample_bytree=0.3, device=None, early_stopping_rounds=None,\n",
              "             enable_categorical=False, eval_metric=None, feature_types=None,\n",
              "             gamma=None, grow_policy=None, importance_type=None,\n",
              "             interaction_constraints=None, learning_rate=0.1, max_bin=None,\n",
              "             max_cat_threshold=None, max_cat_to_onehot=None,\n",
              "             max_delta_step=None, max_depth=5, max_leaves=None,\n",
              "             min_child_weight=None, missing=nan, monotone_constraints=None,\n",
              "             multi_strategy=None, n_estimators=100, n_jobs=None,\n",
              "             num_parallel_tree=None, ...)</pre><b>In a Jupyter environment, please rerun this cell to show the HTML representation or trust the notebook. <br />On GitHub, the HTML representation is unable to render, please try loading this page with nbviewer.org.</b></div><div class=\"sk-container\" hidden><div class=\"sk-item\"><div class=\"sk-estimator sk-toggleable\"><input class=\"sk-toggleable__control sk-hidden--visually\" id=\"sk-estimator-id-7\" type=\"checkbox\" checked><label for=\"sk-estimator-id-7\" class=\"sk-toggleable__label sk-toggleable__label-arrow\">XGBRegressor</label><div class=\"sk-toggleable__content\"><pre>XGBRegressor(alpha=10, base_score=None, booster=None, callbacks=None,\n",
              "             colsample_bylevel=None, colsample_bynode=None,\n",
              "             colsample_bytree=0.3, device=None, early_stopping_rounds=None,\n",
              "             enable_categorical=False, eval_metric=None, feature_types=None,\n",
              "             gamma=None, grow_policy=None, importance_type=None,\n",
              "             interaction_constraints=None, learning_rate=0.1, max_bin=None,\n",
              "             max_cat_threshold=None, max_cat_to_onehot=None,\n",
              "             max_delta_step=None, max_depth=5, max_leaves=None,\n",
              "             min_child_weight=None, missing=nan, monotone_constraints=None,\n",
              "             multi_strategy=None, n_estimators=100, n_jobs=None,\n",
              "             num_parallel_tree=None, ...)</pre></div></div></div></div></div>"
            ]
          },
          "metadata": {},
          "execution_count": 359
        }
      ]
    },
    {
      "cell_type": "markdown",
      "source": [
        "### Predicting the Test set results"
      ],
      "metadata": {
        "id": "m0ppbTW92BFh"
      }
    },
    {
      "cell_type": "code",
      "source": [
        "y_pred_x = xmodel.predict(X_test)\n",
        "np.set_printoptions(precision=2)\n",
        "print(np.concatenate((y_pred_x.reshape(len(y_pred_x),1), y_test.reshape(len(y_test),1)),1))"
      ],
      "metadata": {
        "id": "XNsdqeBD2gUI"
      },
      "execution_count": null,
      "outputs": []
    },
    {
      "cell_type": "markdown",
      "source": [
        "### Evaulate the XG Boost Model"
      ],
      "metadata": {
        "id": "jV1Htwml2ulK"
      }
    },
    {
      "cell_type": "code",
      "source": [
        "r2_score(y_test, y_pred_x)"
      ],
      "metadata": {
        "colab": {
          "base_uri": "https://localhost:8080/"
        },
        "id": "EUkv01bV2y85",
        "outputId": "94d3dead-5c7e-4638-b89f-8e5a830fe20d"
      },
      "execution_count": null,
      "outputs": [
        {
          "output_type": "execute_result",
          "data": {
            "text/plain": [
              "0.8903923938014114"
            ]
          },
          "metadata": {},
          "execution_count": 361
        }
      ]
    },
    {
      "cell_type": "markdown",
      "source": [
        "### Prediction Example"
      ],
      "metadata": {
        "id": "3wgwtgN-SM5c"
      }
    },
    {
      "cell_type": "code",
      "source": [
        "new_x_pred = xmodel.predict(X_new)\n",
        "print(new_x_pred)"
      ],
      "metadata": {
        "colab": {
          "base_uri": "https://localhost:8080/"
        },
        "id": "73F8aPADSO69",
        "outputId": "de6983b7-07b5-4771-d452-9fad6f42578a"
      },
      "execution_count": null,
      "outputs": [
        {
          "output_type": "stream",
          "name": "stdout",
          "text": [
            "[1145.72]\n"
          ]
        }
      ]
    },
    {
      "cell_type": "markdown",
      "source": [
        "### Visualize XG Boost Model"
      ],
      "metadata": {
        "id": "vJj5ALUQ3SnA"
      }
    },
    {
      "cell_type": "code",
      "source": [
        "plt.figure(figsize=(8, 6))\n",
        "plt.scatter(y_test, y_pred_x)\n",
        "plt.xlabel('Actual Reimbursment')\n",
        "plt.ylabel('Predicted Reimbursment')\n",
        "plt.title('Comparison between Predicted and Actual Medicare Fee-for-Service Reimbursements for the Year (XGBoost)')\n",
        "plt.plot([y_test.min(), y_test.max()], [y_test.min(), y_test.max()], 'k--', lw=2)\n",
        "plt.grid(True)\n",
        "plt.show()"
      ],
      "metadata": {
        "colab": {
          "base_uri": "https://localhost:8080/",
          "height": 564
        },
        "id": "0TZ0d_yO3WK-",
        "outputId": "e64367e2-1c70-49b1-a87c-a62ec8a3a594"
      },
      "execution_count": 368,
      "outputs": [
        {
          "output_type": "display_data",
          "data": {
            "text/plain": [
              "<Figure size 800x600 with 1 Axes>"
            ],
            "image/png": "[encoded data removed]"
          },
          "metadata": {}
        }
      ]
    }
  ]
}
